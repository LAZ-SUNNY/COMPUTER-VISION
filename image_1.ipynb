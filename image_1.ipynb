{
 "cells": [
  {
   "cell_type": "code",
   "execution_count": 1,
   "id": "124ec225",
   "metadata": {},
   "outputs": [],
   "source": [
    "import cv2\n",
    "import  numpy as np\n",
    "%matplotlib inline\n",
    "import matplotlib.pyplot as plt\n",
    "np.random.seed(30)\n",
    "import random as rn\n",
    "rn.seed(30)\n",
    "from keras import backend as K\n",
    "import tensorflow as tf\n",
    "from keras.models import Sequential,Model\n",
    "from keras.layers import Dense,Flatten,Flatten,BatchNormalization,Activation\n",
    "from keras.layers.convolutional import Conv2D,MaxPooling2D\n",
    "from keras import optimizers\n",
    "from keras.layers import Dropout\n",
    "from tensorflow.keras.preprocessing.image import ImageDataGenerator\n",
    "from tensorflow.keras.preprocessing import image_dataset_from_directory\n",
    "\n",
    "broken='Broken_grain/broken_grain_3.jpg'\n",
    "full='Full_grain/full_grain_3.jpg'\n",
    "def crop_resize_img(img):\n",
    "    ht,wd=img.shape\n",
    "    ww=300\n",
    "    hh=300\n",
    "    color=0\n",
    "    result = np.full((hh,ww), color, dtype=np.uint8)\n",
    "    xx=(ww - wd)//2\n",
    "    yy=(hh - ht)//2\n",
    "    result[yy:yy+ht,xx:xx+wd]=img\n",
    "\n",
    "    final =cv2.resize(result,(50,50))\n",
    "    \n",
    "    return final"
   ]
  },
  {
   "cell_type": "code",
   "execution_count": 2,
   "id": "b903712f",
   "metadata": {},
   "outputs": [],
   "source": [
    "def pre_process_And_Count(image_path, output_path):\n",
    "\n",
    "    input_rice = cv2.imread(image_path, cv2.IMREAD_GRAYSCALE)\n",
    "    \n",
    "    output_adapthresh = cv2.adaptiveThreshold (input_rice, 255.0, cv2.ADAPTIVE_THRESH_MEAN_C, cv2.THRESH_BINARY, 51, -20.0)\n",
    "\n",
    "    cv2.imwrite('rice_adapthresh.png', output_adapthresh)\n",
    "    \n",
    "    kernel = np.ones((5,5),np.uint8)\n",
    "    output_erosion = cv2.erode(output_adapthresh, kernel)\n",
    "\n",
    "    cv2.imwrite('rice_erosion.png', output_erosion)\n",
    "    \n",
    "    contours, hierarchy = cv2.findContours(output_erosion, cv2.RETR_EXTERNAL,  cv2.CHAIN_APPROX_SIMPLE)\n",
    "    output_contour = cv2.cvtColor(input_rice, cv2.COLOR_GRAY2BGR)\n",
    "    cv2.drawContours(output_contour, contours, -1, (0, 0, 255), 2)\n",
    "    print(\"Number of detected contours\", len(contours))\n",
    "    \n",
    "    cv2.imwrite('rice_contours.png', output_contour)\n",
    "    \n",
    "    k=1\n",
    "    temp = 0.70 * len(contours)\n",
    "    for i in contours:\n",
    "        x, y, width, height = cv2.boundingRect(i)\n",
    "        roi = output_erosion[y:y+height, x:x+width]\n",
    "        roi=crop_resize_img(roi)\n",
    "        path  = ''\n",
    "        if output_path !='mixed/mixed_':\n",
    "            if k<temp:\n",
    "                path = 'dataset/train/'+output_path\n",
    "\n",
    "            else:\n",
    "                path = 'dataset/test/'+output_path\n",
    "        else:\n",
    "            path = output_path\n",
    "        cv2.imwrite(path+str(k)+\".png\", roi)\n",
    "        k+=1"
   ]
  },
  {
   "cell_type": "code",
   "execution_count": 3,
   "id": "dc06a1c4",
   "metadata": {},
   "outputs": [
    {
     "name": "stdout",
     "output_type": "stream",
     "text": [
      "Number of detected contours 680\n"
     ]
    }
   ],
   "source": [
    "import os\n",
    "def create_directory(path):\n",
    "    if not os.path.exists(path):\n",
    "        os.makedirs(path)\n",
    "        \n",
    "create_directory('dataset')\n",
    "create_directory('dataset/train')\n",
    "create_directory('dataset/test')\n",
    "create_directory('dataset/train/full_rice')\n",
    "create_directory('dataset/test/full_rice')\n",
    "create_directory('dataset/train/broken_rice')\n",
    "create_directory('dataset/test/broken_rice')\n",
    "pre_process_And_Count(full, 'full_rice/full_')"
   ]
  },
  {
   "cell_type": "code",
   "execution_count": 4,
   "id": "e6fd7042",
   "metadata": {},
   "outputs": [
    {
     "name": "stdout",
     "output_type": "stream",
     "text": [
      "Number of detected contours 937\n"
     ]
    }
   ],
   "source": [
    "pre_process_And_Count(broken, 'broken_rice/broken_')"
   ]
  },
  {
   "cell_type": "code",
   "execution_count": 5,
   "id": "8c85aadb",
   "metadata": {},
   "outputs": [
    {
     "name": "stdout",
     "output_type": "stream",
     "text": [
      "Found 1130 images belonging to 2 classes.\n",
      "Found 487 images belonging to 2 classes.\n"
     ]
    }
   ],
   "source": [
    "image_size = (50,50)\n",
    "batch_size = 32\n",
    "\n",
    "train_datagen = ImageDataGenerator(\n",
    "    rescale=1. / 255,\n",
    "    shear_range=0.2,\n",
    "    zoom_range=0.2,\n",
    "    horizontal_flip=True)\n",
    "test_datagen = ImageDataGenerator(rescale=1. / 255)\n",
    "\n",
    "train_generator = train_datagen.flow_from_directory(\n",
    "    \"dataset/train\",\n",
    "    target_size=(50,50),\n",
    "    batch_size=32,\n",
    "    class_mode='binary',\n",
    "    color_mode='grayscale'\n",
    ")\n",
    "\n",
    "\n",
    "validation_generator = test_datagen.flow_from_directory(\n",
    "    \"dataset/test\",\n",
    "    target_size=(50, 50),\n",
    "    batch_size=32,\n",
    "    class_mode='binary',\n",
    "    color_mode='grayscale'\n",
    ")"
   ]
  },
  {
   "cell_type": "code",
   "execution_count": 6,
   "id": "30075379",
   "metadata": {},
   "outputs": [
    {
     "data": {
      "text/plain": [
       "{'broken_rice': 0, 'full_rice': 1}"
      ]
     },
     "execution_count": 6,
     "metadata": {},
     "output_type": "execute_result"
    }
   ],
   "source": [
    "train_generator.class_indices"
   ]
  },
  {
   "cell_type": "code",
   "execution_count": 7,
   "id": "f72cc3f8",
   "metadata": {},
   "outputs": [
    {
     "data": {
      "text/plain": [
       "(32, 50, 50, 1)"
      ]
     },
     "execution_count": 7,
     "metadata": {},
     "output_type": "execute_result"
    }
   ],
   "source": [
    "a, b = next(train_generator)\n",
    "a.shape"
   ]
  },
  {
   "cell_type": "code",
   "execution_count": 8,
   "id": "38f17a5e",
   "metadata": {},
   "outputs": [
    {
     "data": {
      "text/plain": [
       "(50, 50, 1)"
      ]
     },
     "execution_count": 8,
     "metadata": {},
     "output_type": "execute_result"
    }
   ],
   "source": [
    "img_width = 50\n",
    "img_height = 50\n",
    "\n",
    "# Check for TensorFlow or Thieno\n",
    "if K.image_data_format() == 'channels_first':\n",
    "    input_shape = (1, img_width, img_height)\n",
    "else:\n",
    "    input_shape = (img_width, img_height, 1)\n",
    "    \n",
    "input_shape"
   ]
  },
  {
   "cell_type": "code",
   "execution_count": 9,
   "id": "348d19a9",
   "metadata": {},
   "outputs": [
    {
     "name": "stderr",
     "output_type": "stream",
     "text": [
      "C:\\Users\\LAZ\\AppData\\Roaming\\Python\\Python39\\site-packages\\keras\\optimizer_v2\\optimizer_v2.py:355: UserWarning: The `lr` argument is deprecated, use `learning_rate` instead.\n",
      "  warnings.warn(\n",
      "C:\\Users\\LAZ\\AppData\\Roaming\\Python\\Python39\\site-packages\\keras\\engine\\training.py:1972: UserWarning: `Model.fit_generator` is deprecated and will be removed in a future version. Please use `Model.fit`, which supports generators.\n",
      "  warnings.warn('`Model.fit_generator` is deprecated and '\n"
     ]
    },
    {
     "name": "stdout",
     "output_type": "stream",
     "text": [
      "Epoch 1/200\n",
      "10/10 [==============================] - 3s 191ms/step - loss: 0.6878 - accuracy: 0.6007 - val_loss: 0.6941 - val_accuracy: 0.5469\n",
      "Epoch 2/200\n",
      "10/10 [==============================] - 2s 154ms/step - loss: 0.6811 - accuracy: 0.5813 - val_loss: 0.6792 - val_accuracy: 0.5625\n",
      "Epoch 3/200\n",
      "10/10 [==============================] - 1s 146ms/step - loss: 0.6708 - accuracy: 0.6031 - val_loss: 0.6391 - val_accuracy: 0.6875\n",
      "Epoch 4/200\n",
      "10/10 [==============================] - 2s 153ms/step - loss: 0.6609 - accuracy: 0.6125 - val_loss: 0.7228 - val_accuracy: 0.5000\n",
      "Epoch 5/200\n",
      "10/10 [==============================] - 2s 145ms/step - loss: 0.6817 - accuracy: 0.5531 - val_loss: 0.6699 - val_accuracy: 0.6094\n",
      "Epoch 6/200\n",
      "10/10 [==============================] - 1s 124ms/step - loss: 0.6820 - accuracy: 0.5312 - val_loss: 0.6855 - val_accuracy: 0.5469\n",
      "Epoch 7/200\n",
      "10/10 [==============================] - 1s 125ms/step - loss: 0.6725 - accuracy: 0.6000 - val_loss: 0.6642 - val_accuracy: 0.5938\n",
      "Epoch 8/200\n",
      "10/10 [==============================] - 1s 130ms/step - loss: 0.6670 - accuracy: 0.5604 - val_loss: 0.6676 - val_accuracy: 0.5781\n",
      "Epoch 9/200\n",
      "10/10 [==============================] - 1s 124ms/step - loss: 0.6495 - accuracy: 0.6107 - val_loss: 0.6723 - val_accuracy: 0.5625\n",
      "Epoch 10/200\n",
      "10/10 [==============================] - 1s 129ms/step - loss: 0.6448 - accuracy: 0.6250 - val_loss: 0.6528 - val_accuracy: 0.5625\n",
      "Epoch 11/200\n",
      "10/10 [==============================] - 1s 119ms/step - loss: 0.6516 - accuracy: 0.5940 - val_loss: 0.6359 - val_accuracy: 0.5938\n",
      "Epoch 12/200\n",
      "10/10 [==============================] - 1s 124ms/step - loss: 0.6389 - accuracy: 0.6313 - val_loss: 0.6394 - val_accuracy: 0.5625\n",
      "Epoch 13/200\n",
      "10/10 [==============================] - 1s 117ms/step - loss: 0.6350 - accuracy: 0.6443 - val_loss: 0.6958 - val_accuracy: 0.4531\n",
      "Epoch 14/200\n",
      "10/10 [==============================] - 1s 117ms/step - loss: 0.6447 - accuracy: 0.5738 - val_loss: 0.6125 - val_accuracy: 0.5781\n",
      "Epoch 15/200\n",
      "10/10 [==============================] - 1s 123ms/step - loss: 0.6381 - accuracy: 0.6187 - val_loss: 0.6519 - val_accuracy: 0.6562\n",
      "Epoch 16/200\n",
      "10/10 [==============================] - 1s 122ms/step - loss: 0.6204 - accuracy: 0.6687 - val_loss: 0.7209 - val_accuracy: 0.5938\n",
      "Epoch 17/200\n",
      "10/10 [==============================] - 1s 122ms/step - loss: 0.6413 - accuracy: 0.6406 - val_loss: 0.6320 - val_accuracy: 0.6250\n",
      "Epoch 18/200\n",
      "10/10 [==============================] - 1s 116ms/step - loss: 0.6078 - accuracy: 0.6946 - val_loss: 0.6605 - val_accuracy: 0.5781\n",
      "Epoch 19/200\n",
      "10/10 [==============================] - 1s 117ms/step - loss: 0.6033 - accuracy: 0.6342 - val_loss: 0.6161 - val_accuracy: 0.6094\n",
      "Epoch 20/200\n",
      "10/10 [==============================] - 1s 117ms/step - loss: 0.5929 - accuracy: 0.7047 - val_loss: 0.6426 - val_accuracy: 0.6250\n",
      "Epoch 21/200\n",
      "10/10 [==============================] - 1s 124ms/step - loss: 0.5849 - accuracy: 0.6781 - val_loss: 0.6699 - val_accuracy: 0.5625\n",
      "Epoch 22/200\n",
      "10/10 [==============================] - 1s 123ms/step - loss: 0.5790 - accuracy: 0.6656 - val_loss: 0.6049 - val_accuracy: 0.6719\n",
      "Epoch 23/200\n",
      "10/10 [==============================] - 1s 123ms/step - loss: 0.5683 - accuracy: 0.7156 - val_loss: 0.5807 - val_accuracy: 0.7344\n",
      "Epoch 24/200\n",
      "10/10 [==============================] - 1s 118ms/step - loss: 0.5730 - accuracy: 0.7215 - val_loss: 0.6024 - val_accuracy: 0.6719\n",
      "Epoch 25/200\n",
      "10/10 [==============================] - 1s 122ms/step - loss: 0.5573 - accuracy: 0.6938 - val_loss: 0.6419 - val_accuracy: 0.5781\n",
      "Epoch 26/200\n",
      "10/10 [==============================] - 1s 123ms/step - loss: 0.5731 - accuracy: 0.6906 - val_loss: 0.5641 - val_accuracy: 0.7188\n",
      "Epoch 27/200\n",
      "10/10 [==============================] - 1s 115ms/step - loss: 0.5574 - accuracy: 0.7349 - val_loss: 0.6004 - val_accuracy: 0.6875\n",
      "Epoch 28/200\n",
      "10/10 [==============================] - 1s 114ms/step - loss: 0.5545 - accuracy: 0.7315 - val_loss: 0.5666 - val_accuracy: 0.7344\n",
      "Epoch 29/200\n",
      "10/10 [==============================] - 1s 125ms/step - loss: 0.5605 - accuracy: 0.6938 - val_loss: 0.5629 - val_accuracy: 0.7188\n",
      "Epoch 30/200\n",
      "10/10 [==============================] - 1s 123ms/step - loss: 0.5386 - accuracy: 0.7312 - val_loss: 0.6411 - val_accuracy: 0.6719\n",
      "Epoch 31/200\n",
      "10/10 [==============================] - 1s 123ms/step - loss: 0.5070 - accuracy: 0.7656 - val_loss: 0.5178 - val_accuracy: 0.7344\n",
      "Epoch 32/200\n",
      "10/10 [==============================] - 1s 125ms/step - loss: 0.5243 - accuracy: 0.7250 - val_loss: 0.5955 - val_accuracy: 0.6406\n",
      "Epoch 33/200\n",
      "10/10 [==============================] - 1s 118ms/step - loss: 0.5063 - accuracy: 0.7517 - val_loss: 0.5183 - val_accuracy: 0.7188\n",
      "Epoch 34/200\n",
      "10/10 [==============================] - 1s 123ms/step - loss: 0.5154 - accuracy: 0.7469 - val_loss: 0.5558 - val_accuracy: 0.7344\n",
      "Epoch 35/200\n",
      "10/10 [==============================] - 1s 123ms/step - loss: 0.5278 - accuracy: 0.7125 - val_loss: 0.5786 - val_accuracy: 0.7656\n",
      "Epoch 36/200\n",
      "10/10 [==============================] - 1s 122ms/step - loss: 0.5121 - accuracy: 0.7594 - val_loss: 0.5268 - val_accuracy: 0.7031\n",
      "Epoch 37/200\n",
      "10/10 [==============================] - 1s 122ms/step - loss: 0.4940 - accuracy: 0.7688 - val_loss: 0.5575 - val_accuracy: 0.7344\n",
      "Epoch 38/200\n",
      "10/10 [==============================] - 1s 124ms/step - loss: 0.4692 - accuracy: 0.7875 - val_loss: 0.4934 - val_accuracy: 0.7344\n",
      "Epoch 39/200\n",
      "10/10 [==============================] - 1s 113ms/step - loss: 0.4974 - accuracy: 0.7819 - val_loss: 0.5469 - val_accuracy: 0.7188\n",
      "Epoch 40/200\n",
      "10/10 [==============================] - 1s 119ms/step - loss: 0.4990 - accuracy: 0.7550 - val_loss: 0.6598 - val_accuracy: 0.6406\n",
      "Epoch 41/200\n",
      "10/10 [==============================] - 1s 124ms/step - loss: 0.4674 - accuracy: 0.7500 - val_loss: 0.4841 - val_accuracy: 0.7500\n",
      "Epoch 42/200\n",
      "10/10 [==============================] - 1s 124ms/step - loss: 0.4820 - accuracy: 0.7844 - val_loss: 0.5461 - val_accuracy: 0.7188\n",
      "Epoch 43/200\n",
      "10/10 [==============================] - 1s 121ms/step - loss: 0.4822 - accuracy: 0.7469 - val_loss: 0.4829 - val_accuracy: 0.7656\n",
      "Epoch 44/200\n",
      "10/10 [==============================] - 1s 129ms/step - loss: 0.4486 - accuracy: 0.8250 - val_loss: 0.4551 - val_accuracy: 0.8438\n",
      "Epoch 45/200\n",
      "10/10 [==============================] - 1s 125ms/step - loss: 0.4695 - accuracy: 0.7625 - val_loss: 0.4627 - val_accuracy: 0.8125\n",
      "Epoch 46/200\n",
      "10/10 [==============================] - 1s 123ms/step - loss: 0.4374 - accuracy: 0.8188 - val_loss: 0.4399 - val_accuracy: 0.7812\n",
      "Epoch 47/200\n",
      "10/10 [==============================] - 1s 123ms/step - loss: 0.4719 - accuracy: 0.7625 - val_loss: 0.4807 - val_accuracy: 0.7969\n",
      "Epoch 48/200\n",
      "10/10 [==============================] - 1s 116ms/step - loss: 0.4558 - accuracy: 0.7919 - val_loss: 0.5037 - val_accuracy: 0.7188\n",
      "Epoch 49/200\n",
      "10/10 [==============================] - 1s 127ms/step - loss: 0.4594 - accuracy: 0.7844 - val_loss: 0.6160 - val_accuracy: 0.5938\n",
      "Epoch 50/200\n",
      "10/10 [==============================] - 1s 149ms/step - loss: 0.4272 - accuracy: 0.7969 - val_loss: 0.5345 - val_accuracy: 0.6875\n",
      "Epoch 51/200\n",
      "10/10 [==============================] - 2s 156ms/step - loss: 0.4583 - accuracy: 0.7969 - val_loss: 0.5344 - val_accuracy: 0.6875\n",
      "Epoch 52/200\n",
      "10/10 [==============================] - 2s 147ms/step - loss: 0.4463 - accuracy: 0.7844 - val_loss: 0.5174 - val_accuracy: 0.7656\n",
      "Epoch 53/200\n",
      "10/10 [==============================] - 1s 123ms/step - loss: 0.4109 - accuracy: 0.8281 - val_loss: 0.5382 - val_accuracy: 0.6875\n",
      "Epoch 54/200\n",
      "10/10 [==============================] - 1s 122ms/step - loss: 0.4545 - accuracy: 0.7906 - val_loss: 0.4713 - val_accuracy: 0.7656\n",
      "Epoch 55/200\n",
      "10/10 [==============================] - 1s 124ms/step - loss: 0.4505 - accuracy: 0.7781 - val_loss: 0.4892 - val_accuracy: 0.7500\n",
      "Epoch 56/200\n",
      "10/10 [==============================] - 1s 115ms/step - loss: 0.4127 - accuracy: 0.8188 - val_loss: 0.4686 - val_accuracy: 0.7344\n",
      "Epoch 57/200\n",
      "10/10 [==============================] - 1s 124ms/step - loss: 0.4189 - accuracy: 0.7937 - val_loss: 0.5077 - val_accuracy: 0.7969\n"
     ]
    },
    {
     "name": "stdout",
     "output_type": "stream",
     "text": [
      "Epoch 58/200\n",
      "10/10 [==============================] - 1s 122ms/step - loss: 0.4161 - accuracy: 0.8000 - val_loss: 0.3998 - val_accuracy: 0.8906\n",
      "Epoch 59/200\n",
      "10/10 [==============================] - 1s 122ms/step - loss: 0.4442 - accuracy: 0.7875 - val_loss: 0.4758 - val_accuracy: 0.7656\n",
      "Epoch 60/200\n",
      "10/10 [==============================] - 1s 122ms/step - loss: 0.4284 - accuracy: 0.8062 - val_loss: 0.6584 - val_accuracy: 0.7188\n",
      "Epoch 61/200\n",
      "10/10 [==============================] - 1s 121ms/step - loss: 0.4230 - accuracy: 0.8188 - val_loss: 0.6504 - val_accuracy: 0.7031\n",
      "Epoch 62/200\n",
      "10/10 [==============================] - 2s 153ms/step - loss: 0.3677 - accuracy: 0.8531 - val_loss: 0.5039 - val_accuracy: 0.7500\n",
      "Epoch 63/200\n",
      "10/10 [==============================] - 1s 123ms/step - loss: 0.3806 - accuracy: 0.8125 - val_loss: 0.5509 - val_accuracy: 0.6875\n",
      "Epoch 64/200\n",
      "10/10 [==============================] - 1s 125ms/step - loss: 0.3920 - accuracy: 0.8375 - val_loss: 0.4235 - val_accuracy: 0.7812\n",
      "Epoch 65/200\n",
      "10/10 [==============================] - 1s 114ms/step - loss: 0.4373 - accuracy: 0.7785 - val_loss: 0.4439 - val_accuracy: 0.7344\n",
      "Epoch 66/200\n",
      "10/10 [==============================] - 1s 122ms/step - loss: 0.3970 - accuracy: 0.8094 - val_loss: 0.4088 - val_accuracy: 0.7969\n",
      "Epoch 67/200\n",
      "10/10 [==============================] - 1s 125ms/step - loss: 0.3944 - accuracy: 0.8313 - val_loss: 0.5007 - val_accuracy: 0.7500\n",
      "Epoch 68/200\n",
      "10/10 [==============================] - 1s 124ms/step - loss: 0.4284 - accuracy: 0.7937 - val_loss: 0.4616 - val_accuracy: 0.7031\n",
      "Epoch 69/200\n",
      "10/10 [==============================] - 1s 117ms/step - loss: 0.4102 - accuracy: 0.7987 - val_loss: 0.4132 - val_accuracy: 0.8125\n",
      "Epoch 70/200\n",
      "10/10 [==============================] - 1s 122ms/step - loss: 0.3831 - accuracy: 0.8313 - val_loss: 0.4430 - val_accuracy: 0.7969\n",
      "Epoch 71/200\n",
      "10/10 [==============================] - 1s 122ms/step - loss: 0.4232 - accuracy: 0.7969 - val_loss: 0.5249 - val_accuracy: 0.7500\n",
      "Epoch 72/200\n",
      "10/10 [==============================] - 1s 147ms/step - loss: 0.3956 - accuracy: 0.8156 - val_loss: 0.4081 - val_accuracy: 0.7656\n",
      "Epoch 73/200\n",
      "10/10 [==============================] - 1s 137ms/step - loss: 0.3861 - accuracy: 0.8456 - val_loss: 0.2812 - val_accuracy: 0.8594\n",
      "Epoch 74/200\n",
      "10/10 [==============================] - 1s 145ms/step - loss: 0.3830 - accuracy: 0.8624 - val_loss: 0.4362 - val_accuracy: 0.8906\n",
      "Epoch 75/200\n",
      "10/10 [==============================] - 1s 130ms/step - loss: 0.3874 - accuracy: 0.8156 - val_loss: 0.4207 - val_accuracy: 0.7812\n",
      "Epoch 76/200\n",
      "10/10 [==============================] - 1s 129ms/step - loss: 0.3693 - accuracy: 0.8500 - val_loss: 0.3700 - val_accuracy: 0.8438\n",
      "Epoch 77/200\n",
      "10/10 [==============================] - 1s 138ms/step - loss: 0.3701 - accuracy: 0.8562 - val_loss: 0.5754 - val_accuracy: 0.7812\n",
      "Epoch 78/200\n",
      "10/10 [==============================] - 1s 134ms/step - loss: 0.3831 - accuracy: 0.8154 - val_loss: 0.4472 - val_accuracy: 0.7812\n",
      "Epoch 79/200\n",
      "10/10 [==============================] - 2s 158ms/step - loss: 0.3825 - accuracy: 0.8344 - val_loss: 0.4674 - val_accuracy: 0.7656\n",
      "Epoch 80/200\n",
      "10/10 [==============================] - 1s 130ms/step - loss: 0.3477 - accuracy: 0.8594 - val_loss: 0.4987 - val_accuracy: 0.8438\n",
      "Epoch 81/200\n",
      "10/10 [==============================] - 1s 127ms/step - loss: 0.3525 - accuracy: 0.8469 - val_loss: 0.4832 - val_accuracy: 0.8125\n",
      "Epoch 82/200\n",
      "10/10 [==============================] - 1s 126ms/step - loss: 0.3703 - accuracy: 0.8406 - val_loss: 0.6589 - val_accuracy: 0.6875\n",
      "Epoch 83/200\n",
      "10/10 [==============================] - 1s 117ms/step - loss: 0.4392 - accuracy: 0.8020 - val_loss: 0.5385 - val_accuracy: 0.6719\n",
      "Epoch 84/200\n",
      "10/10 [==============================] - 1s 127ms/step - loss: 0.4173 - accuracy: 0.8094 - val_loss: 0.3995 - val_accuracy: 0.8125\n",
      "Epoch 85/200\n",
      "10/10 [==============================] - 1s 126ms/step - loss: 0.3798 - accuracy: 0.8188 - val_loss: 0.4141 - val_accuracy: 0.7969\n",
      "Epoch 86/200\n",
      "10/10 [==============================] - 1s 129ms/step - loss: 0.3463 - accuracy: 0.8531 - val_loss: 0.2941 - val_accuracy: 0.8438\n",
      "Epoch 87/200\n",
      "10/10 [==============================] - 1s 127ms/step - loss: 0.3697 - accuracy: 0.8344 - val_loss: 0.3612 - val_accuracy: 0.8281\n",
      "Epoch 88/200\n",
      "10/10 [==============================] - 1s 126ms/step - loss: 0.3493 - accuracy: 0.8562 - val_loss: 0.4348 - val_accuracy: 0.8594\n",
      "Epoch 89/200\n",
      "10/10 [==============================] - 1s 124ms/step - loss: 0.3827 - accuracy: 0.8219 - val_loss: 0.3600 - val_accuracy: 0.8125\n",
      "Epoch 90/200\n",
      "10/10 [==============================] - 1s 119ms/step - loss: 0.3978 - accuracy: 0.8221 - val_loss: 0.5041 - val_accuracy: 0.7656\n",
      "Epoch 91/200\n",
      "10/10 [==============================] - 1s 132ms/step - loss: 0.3680 - accuracy: 0.8375 - val_loss: 0.6521 - val_accuracy: 0.7188\n",
      "Epoch 92/200\n",
      "10/10 [==============================] - 1s 136ms/step - loss: 0.4102 - accuracy: 0.7906 - val_loss: 0.3815 - val_accuracy: 0.7969\n",
      "Epoch 93/200\n",
      "10/10 [==============================] - 1s 118ms/step - loss: 0.3944 - accuracy: 0.8322 - val_loss: 0.4136 - val_accuracy: 0.7969\n",
      "Epoch 94/200\n",
      "10/10 [==============================] - 1s 145ms/step - loss: 0.3343 - accuracy: 0.8656 - val_loss: 0.3950 - val_accuracy: 0.8438\n",
      "Epoch 95/200\n",
      "10/10 [==============================] - 1s 137ms/step - loss: 0.3862 - accuracy: 0.8423 - val_loss: 0.4858 - val_accuracy: 0.7656\n",
      "Epoch 96/200\n",
      "10/10 [==============================] - 1s 137ms/step - loss: 0.4175 - accuracy: 0.8125 - val_loss: 0.4686 - val_accuracy: 0.7500\n",
      "Epoch 97/200\n",
      "10/10 [==============================] - 1s 132ms/step - loss: 0.3896 - accuracy: 0.8188 - val_loss: 0.4672 - val_accuracy: 0.7500\n",
      "Epoch 98/200\n",
      "10/10 [==============================] - 1s 127ms/step - loss: 0.3489 - accuracy: 0.8531 - val_loss: 0.4682 - val_accuracy: 0.7188\n",
      "Epoch 99/200\n",
      "10/10 [==============================] - 1s 121ms/step - loss: 0.3423 - accuracy: 0.8322 - val_loss: 0.5350 - val_accuracy: 0.7031\n",
      "Epoch 100/200\n",
      "10/10 [==============================] - 1s 126ms/step - loss: 0.3441 - accuracy: 0.8656 - val_loss: 0.4897 - val_accuracy: 0.7812\n",
      "Epoch 101/200\n",
      "10/10 [==============================] - 1s 128ms/step - loss: 0.3657 - accuracy: 0.8438 - val_loss: 0.6249 - val_accuracy: 0.7188\n",
      "Epoch 102/200\n",
      "10/10 [==============================] - 1s 127ms/step - loss: 0.3806 - accuracy: 0.8188 - val_loss: 0.5379 - val_accuracy: 0.7969\n",
      "Epoch 103/200\n",
      "10/10 [==============================] - 1s 129ms/step - loss: 0.3644 - accuracy: 0.8500 - val_loss: 0.3873 - val_accuracy: 0.8281\n",
      "Epoch 104/200\n",
      "10/10 [==============================] - 1s 126ms/step - loss: 0.3710 - accuracy: 0.8344 - val_loss: 0.3337 - val_accuracy: 0.8281\n",
      "Epoch 105/200\n",
      "10/10 [==============================] - 1s 128ms/step - loss: 0.3504 - accuracy: 0.8500 - val_loss: 0.4634 - val_accuracy: 0.7500\n",
      "Epoch 106/200\n",
      "10/10 [==============================] - 1s 138ms/step - loss: 0.3519 - accuracy: 0.8356 - val_loss: 0.4047 - val_accuracy: 0.8281\n",
      "Epoch 107/200\n",
      "10/10 [==============================] - 1s 132ms/step - loss: 0.3667 - accuracy: 0.8406 - val_loss: 0.5802 - val_accuracy: 0.7188\n",
      "Epoch 108/200\n",
      "10/10 [==============================] - 1s 134ms/step - loss: 0.3321 - accuracy: 0.8562 - val_loss: 0.4254 - val_accuracy: 0.7969\n",
      "Epoch 109/200\n",
      "10/10 [==============================] - 1s 133ms/step - loss: 0.3657 - accuracy: 0.8313 - val_loss: 0.3651 - val_accuracy: 0.8125\n",
      "Epoch 110/200\n",
      "10/10 [==============================] - 1s 132ms/step - loss: 0.3815 - accuracy: 0.8313 - val_loss: 0.6006 - val_accuracy: 0.7031\n",
      "Epoch 111/200\n",
      "10/10 [==============================] - 1s 128ms/step - loss: 0.4226 - accuracy: 0.8219 - val_loss: 0.5012 - val_accuracy: 0.7812\n",
      "Epoch 112/200\n",
      "10/10 [==============================] - 1s 122ms/step - loss: 0.3755 - accuracy: 0.8121 - val_loss: 0.4258 - val_accuracy: 0.7656\n",
      "Epoch 113/200\n",
      "10/10 [==============================] - 1s 119ms/step - loss: 0.3556 - accuracy: 0.8523 - val_loss: 0.6176 - val_accuracy: 0.7344\n",
      "Epoch 114/200\n",
      "10/10 [==============================] - 1s 136ms/step - loss: 0.3738 - accuracy: 0.8406 - val_loss: 0.6593 - val_accuracy: 0.7344\n"
     ]
    },
    {
     "name": "stdout",
     "output_type": "stream",
     "text": [
      "Epoch 115/200\n",
      "10/10 [==============================] - 1s 134ms/step - loss: 0.3873 - accuracy: 0.7969 - val_loss: 0.4267 - val_accuracy: 0.7969\n",
      "Epoch 116/200\n",
      "10/10 [==============================] - 1s 133ms/step - loss: 0.4296 - accuracy: 0.8094 - val_loss: 0.4514 - val_accuracy: 0.7969\n",
      "Epoch 117/200\n",
      "10/10 [==============================] - 1s 135ms/step - loss: 0.3863 - accuracy: 0.8281 - val_loss: 0.4562 - val_accuracy: 0.8125\n",
      "Epoch 118/200\n",
      "10/10 [==============================] - 1s 125ms/step - loss: 0.3875 - accuracy: 0.8313 - val_loss: 0.5348 - val_accuracy: 0.7812\n",
      "Epoch 119/200\n",
      "10/10 [==============================] - 1s 123ms/step - loss: 0.3575 - accuracy: 0.8531 - val_loss: 0.4421 - val_accuracy: 0.8594\n",
      "Epoch 120/200\n",
      "10/10 [==============================] - 1s 124ms/step - loss: 0.3624 - accuracy: 0.8423 - val_loss: 0.3777 - val_accuracy: 0.7656\n",
      "Epoch 121/200\n",
      "10/10 [==============================] - 1s 131ms/step - loss: 0.3482 - accuracy: 0.8594 - val_loss: 0.4784 - val_accuracy: 0.8125\n",
      "Epoch 122/200\n",
      "10/10 [==============================] - 1s 134ms/step - loss: 0.3382 - accuracy: 0.8500 - val_loss: 0.5219 - val_accuracy: 0.7344\n",
      "Epoch 123/200\n",
      "10/10 [==============================] - 1s 125ms/step - loss: 0.3131 - accuracy: 0.8960 - val_loss: 0.4562 - val_accuracy: 0.7969\n",
      "Epoch 124/200\n",
      "10/10 [==============================] - 1s 134ms/step - loss: 0.4116 - accuracy: 0.8031 - val_loss: 0.5261 - val_accuracy: 0.7969\n",
      "Epoch 125/200\n",
      "10/10 [==============================] - 1s 124ms/step - loss: 0.3202 - accuracy: 0.8625 - val_loss: 0.4200 - val_accuracy: 0.7969\n",
      "Epoch 126/200\n",
      "10/10 [==============================] - 1s 124ms/step - loss: 0.3386 - accuracy: 0.8375 - val_loss: 0.4915 - val_accuracy: 0.7656\n",
      "Epoch 127/200\n",
      "10/10 [==============================] - 1s 127ms/step - loss: 0.3841 - accuracy: 0.8250 - val_loss: 0.4090 - val_accuracy: 0.8125\n",
      "Epoch 128/200\n",
      "10/10 [==============================] - 1s 124ms/step - loss: 0.4244 - accuracy: 0.8094 - val_loss: 0.5051 - val_accuracy: 0.7344\n",
      "Epoch 129/200\n",
      "10/10 [==============================] - 1s 133ms/step - loss: 0.3684 - accuracy: 0.8406 - val_loss: 0.5061 - val_accuracy: 0.7344\n",
      "Epoch 130/200\n",
      "10/10 [==============================] - 1s 132ms/step - loss: 0.3627 - accuracy: 0.8594 - val_loss: 0.4566 - val_accuracy: 0.8125\n",
      "Epoch 131/200\n",
      "10/10 [==============================] - 1s 133ms/step - loss: 0.3172 - accuracy: 0.8750 - val_loss: 0.3914 - val_accuracy: 0.8125\n",
      "Epoch 132/200\n",
      "10/10 [==============================] - 1s 123ms/step - loss: 0.3494 - accuracy: 0.8469 - val_loss: 0.2822 - val_accuracy: 0.8438\n",
      "Epoch 133/200\n",
      "10/10 [==============================] - 1s 124ms/step - loss: 0.3342 - accuracy: 0.8594 - val_loss: 0.4897 - val_accuracy: 0.7656\n",
      "Epoch 134/200\n",
      "10/10 [==============================] - 1s 123ms/step - loss: 0.3969 - accuracy: 0.8188 - val_loss: 0.5122 - val_accuracy: 0.7812\n",
      "Epoch 135/200\n",
      "10/10 [==============================] - 1s 123ms/step - loss: 0.3516 - accuracy: 0.8531 - val_loss: 0.4068 - val_accuracy: 0.8281\n",
      "Epoch 136/200\n",
      "10/10 [==============================] - 1s 129ms/step - loss: 0.3429 - accuracy: 0.8406 - val_loss: 0.4079 - val_accuracy: 0.8125\n",
      "Epoch 137/200\n",
      "10/10 [==============================] - 1s 126ms/step - loss: 0.3249 - accuracy: 0.8490 - val_loss: 0.4647 - val_accuracy: 0.8125\n",
      "Epoch 138/200\n",
      "10/10 [==============================] - 1s 126ms/step - loss: 0.3629 - accuracy: 0.8062 - val_loss: 0.3397 - val_accuracy: 0.8750\n",
      "Epoch 139/200\n",
      "10/10 [==============================] - 1s 125ms/step - loss: 0.4066 - accuracy: 0.8020 - val_loss: 0.4155 - val_accuracy: 0.7969\n",
      "Epoch 140/200\n",
      "10/10 [==============================] - 1s 144ms/step - loss: 0.3466 - accuracy: 0.8375 - val_loss: 0.3612 - val_accuracy: 0.7656\n",
      "Epoch 141/200\n",
      "10/10 [==============================] - 1s 125ms/step - loss: 0.3342 - accuracy: 0.8594 - val_loss: 0.4204 - val_accuracy: 0.7812\n",
      "Epoch 142/200\n",
      "10/10 [==============================] - 1s 126ms/step - loss: 0.3250 - accuracy: 0.8591 - val_loss: 0.4220 - val_accuracy: 0.8594\n",
      "Epoch 143/200\n",
      "10/10 [==============================] - 1s 133ms/step - loss: 0.3574 - accuracy: 0.8375 - val_loss: 0.3724 - val_accuracy: 0.7969\n",
      "Epoch 144/200\n",
      "10/10 [==============================] - 1s 128ms/step - loss: 0.3622 - accuracy: 0.8188 - val_loss: 0.4017 - val_accuracy: 0.8438\n",
      "Epoch 145/200\n",
      "10/10 [==============================] - 1s 136ms/step - loss: 0.3540 - accuracy: 0.8523 - val_loss: 0.5070 - val_accuracy: 0.7188\n",
      "Epoch 146/200\n",
      "10/10 [==============================] - 1s 145ms/step - loss: 0.3465 - accuracy: 0.8469 - val_loss: 0.4595 - val_accuracy: 0.7344\n",
      "Epoch 147/200\n",
      "10/10 [==============================] - 1s 128ms/step - loss: 0.3019 - accuracy: 0.8687 - val_loss: 0.4561 - val_accuracy: 0.7812\n",
      "Epoch 148/200\n",
      "10/10 [==============================] - 1s 137ms/step - loss: 0.3348 - accuracy: 0.8500 - val_loss: 0.3561 - val_accuracy: 0.8125\n",
      "Epoch 149/200\n",
      "10/10 [==============================] - 1s 147ms/step - loss: 0.3243 - accuracy: 0.8591 - val_loss: 0.4449 - val_accuracy: 0.8125\n",
      "Epoch 150/200\n",
      "10/10 [==============================] - 1s 135ms/step - loss: 0.4125 - accuracy: 0.8031 - val_loss: 0.4853 - val_accuracy: 0.7500\n",
      "Epoch 151/200\n",
      "10/10 [==============================] - 1s 127ms/step - loss: 0.3217 - accuracy: 0.8691 - val_loss: 0.3420 - val_accuracy: 0.8438\n",
      "Epoch 152/200\n",
      "10/10 [==============================] - 1s 136ms/step - loss: 0.3250 - accuracy: 0.8500 - val_loss: 0.5181 - val_accuracy: 0.8281\n",
      "Epoch 153/200\n",
      "10/10 [==============================] - 1s 143ms/step - loss: 0.3104 - accuracy: 0.8750 - val_loss: 0.4402 - val_accuracy: 0.8125\n",
      "Epoch 154/200\n",
      "10/10 [==============================] - 1s 126ms/step - loss: 0.3163 - accuracy: 0.8625 - val_loss: 0.4529 - val_accuracy: 0.7188\n",
      "Epoch 155/200\n",
      "10/10 [==============================] - 1s 126ms/step - loss: 0.3588 - accuracy: 0.8221 - val_loss: 0.4443 - val_accuracy: 0.8125\n",
      "Epoch 156/200\n",
      "10/10 [==============================] - 1s 142ms/step - loss: 0.3358 - accuracy: 0.8750 - val_loss: 0.2908 - val_accuracy: 0.8594\n",
      "Epoch 157/200\n",
      "10/10 [==============================] - 1s 130ms/step - loss: 0.3858 - accuracy: 0.8219 - val_loss: 0.4435 - val_accuracy: 0.7969\n",
      "Epoch 158/200\n",
      "10/10 [==============================] - 1s 139ms/step - loss: 0.3142 - accuracy: 0.8792 - val_loss: 0.4216 - val_accuracy: 0.8594\n",
      "Epoch 159/200\n",
      "10/10 [==============================] - 1s 136ms/step - loss: 0.3679 - accuracy: 0.8156 - val_loss: 0.3179 - val_accuracy: 0.8281\n",
      "Epoch 160/200\n",
      "10/10 [==============================] - 2s 151ms/step - loss: 0.3498 - accuracy: 0.8469 - val_loss: 0.2971 - val_accuracy: 0.8906\n",
      "Epoch 161/200\n",
      "10/10 [==============================] - 2s 152ms/step - loss: 0.3455 - accuracy: 0.8591 - val_loss: 0.4692 - val_accuracy: 0.7500\n",
      "Epoch 162/200\n",
      "10/10 [==============================] - 1s 138ms/step - loss: 0.3355 - accuracy: 0.8389 - val_loss: 0.3015 - val_accuracy: 0.8594\n",
      "Epoch 163/200\n",
      "10/10 [==============================] - 1s 137ms/step - loss: 0.3258 - accuracy: 0.8813 - val_loss: 0.4352 - val_accuracy: 0.8281\n",
      "Epoch 164/200\n",
      "10/10 [==============================] - 1s 147ms/step - loss: 0.3442 - accuracy: 0.8500 - val_loss: 0.6474 - val_accuracy: 0.6719\n",
      "Epoch 165/200\n",
      "10/10 [==============================] - 1s 123ms/step - loss: 0.3689 - accuracy: 0.8255 - val_loss: 0.4369 - val_accuracy: 0.8125\n",
      "Epoch 166/200\n",
      "10/10 [==============================] - 1s 136ms/step - loss: 0.3760 - accuracy: 0.8281 - val_loss: 0.3410 - val_accuracy: 0.8750\n",
      "Epoch 167/200\n",
      "10/10 [==============================] - 1s 134ms/step - loss: 0.3013 - accuracy: 0.8719 - val_loss: 0.3720 - val_accuracy: 0.7969\n",
      "Epoch 168/200\n",
      "10/10 [==============================] - 1s 147ms/step - loss: 0.3332 - accuracy: 0.8687 - val_loss: 0.5418 - val_accuracy: 0.7031\n",
      "Epoch 169/200\n",
      "10/10 [==============================] - 1s 140ms/step - loss: 0.3695 - accuracy: 0.8406 - val_loss: 0.4056 - val_accuracy: 0.8125\n",
      "Epoch 170/200\n",
      "10/10 [==============================] - 1s 132ms/step - loss: 0.3591 - accuracy: 0.8490 - val_loss: 0.5544 - val_accuracy: 0.6875\n",
      "Epoch 171/200\n"
     ]
    },
    {
     "name": "stdout",
     "output_type": "stream",
     "text": [
      "10/10 [==============================] - 1s 130ms/step - loss: 0.3491 - accuracy: 0.8423 - val_loss: 0.3544 - val_accuracy: 0.8438\n",
      "Epoch 172/200\n",
      "10/10 [==============================] - 1s 121ms/step - loss: 0.3890 - accuracy: 0.8121 - val_loss: 0.3268 - val_accuracy: 0.8594\n",
      "Epoch 173/200\n",
      "10/10 [==============================] - 1s 141ms/step - loss: 0.3187 - accuracy: 0.8656 - val_loss: 0.3826 - val_accuracy: 0.7656\n",
      "Epoch 174/200\n",
      "10/10 [==============================] - 1s 121ms/step - loss: 0.3802 - accuracy: 0.8322 - val_loss: 0.4607 - val_accuracy: 0.7812\n",
      "Epoch 175/200\n",
      "10/10 [==============================] - 1s 129ms/step - loss: 0.3354 - accuracy: 0.8719 - val_loss: 0.5977 - val_accuracy: 0.7188\n",
      "Epoch 176/200\n",
      "10/10 [==============================] - 1s 130ms/step - loss: 0.3159 - accuracy: 0.8594 - val_loss: 0.5096 - val_accuracy: 0.7500\n",
      "Epoch 177/200\n",
      "10/10 [==============================] - 1s 131ms/step - loss: 0.3131 - accuracy: 0.8781 - val_loss: 0.4489 - val_accuracy: 0.7344\n",
      "Epoch 178/200\n",
      "10/10 [==============================] - 1s 129ms/step - loss: 0.3520 - accuracy: 0.8500 - val_loss: 0.3061 - val_accuracy: 0.8594\n",
      "Epoch 179/200\n",
      "10/10 [==============================] - 1s 129ms/step - loss: 0.3579 - accuracy: 0.8250 - val_loss: 0.3998 - val_accuracy: 0.7969\n",
      "Epoch 180/200\n",
      "10/10 [==============================] - 1s 131ms/step - loss: 0.3429 - accuracy: 0.8281 - val_loss: 0.2111 - val_accuracy: 0.8750\n",
      "Epoch 181/200\n",
      "10/10 [==============================] - 1s 125ms/step - loss: 0.3419 - accuracy: 0.8500 - val_loss: 0.3725 - val_accuracy: 0.8125\n",
      "Epoch 182/200\n",
      "10/10 [==============================] - 1s 119ms/step - loss: 0.2888 - accuracy: 0.8826 - val_loss: 0.5577 - val_accuracy: 0.8281\n",
      "Epoch 183/200\n",
      "10/10 [==============================] - 1s 118ms/step - loss: 0.3357 - accuracy: 0.8456 - val_loss: 0.3748 - val_accuracy: 0.7969\n",
      "Epoch 184/200\n",
      "10/10 [==============================] - 1s 122ms/step - loss: 0.3507 - accuracy: 0.8281 - val_loss: 0.3864 - val_accuracy: 0.8125\n",
      "Epoch 185/200\n",
      "10/10 [==============================] - 1s 127ms/step - loss: 0.3117 - accuracy: 0.8792 - val_loss: 0.4224 - val_accuracy: 0.7969\n",
      "Epoch 186/200\n",
      "10/10 [==============================] - 1s 126ms/step - loss: 0.3196 - accuracy: 0.8625 - val_loss: 0.3947 - val_accuracy: 0.8281\n",
      "Epoch 187/200\n",
      "10/10 [==============================] - 1s 135ms/step - loss: 0.3149 - accuracy: 0.8719 - val_loss: 0.4142 - val_accuracy: 0.8281\n",
      "Epoch 188/200\n",
      "10/10 [==============================] - 1s 133ms/step - loss: 0.3189 - accuracy: 0.8531 - val_loss: 0.3447 - val_accuracy: 0.8594\n",
      "Epoch 189/200\n",
      "10/10 [==============================] - 2s 156ms/step - loss: 0.3110 - accuracy: 0.8625 - val_loss: 0.5186 - val_accuracy: 0.7344\n",
      "Epoch 190/200\n",
      "10/10 [==============================] - 1s 138ms/step - loss: 0.3466 - accuracy: 0.8562 - val_loss: 0.3272 - val_accuracy: 0.8281\n",
      "Epoch 191/200\n",
      "10/10 [==============================] - 1s 133ms/step - loss: 0.3605 - accuracy: 0.8557 - val_loss: 0.4027 - val_accuracy: 0.8438\n",
      "Epoch 192/200\n",
      "10/10 [==============================] - 1s 125ms/step - loss: 0.3837 - accuracy: 0.8219 - val_loss: 0.3957 - val_accuracy: 0.7656\n",
      "Epoch 193/200\n",
      "10/10 [==============================] - 1s 138ms/step - loss: 0.3531 - accuracy: 0.8438 - val_loss: 0.4492 - val_accuracy: 0.7812\n",
      "Epoch 194/200\n",
      "10/10 [==============================] - 1s 142ms/step - loss: 0.3137 - accuracy: 0.8687 - val_loss: 0.4258 - val_accuracy: 0.7969\n",
      "Epoch 195/200\n",
      "10/10 [==============================] - 1s 134ms/step - loss: 0.2965 - accuracy: 0.8719 - val_loss: 0.4076 - val_accuracy: 0.8281\n",
      "Epoch 196/200\n",
      "10/10 [==============================] - 1s 134ms/step - loss: 0.3396 - accuracy: 0.8456 - val_loss: 0.2804 - val_accuracy: 0.8594\n",
      "Epoch 197/200\n",
      "10/10 [==============================] - 1s 132ms/step - loss: 0.2981 - accuracy: 0.8781 - val_loss: 0.3329 - val_accuracy: 0.8438\n",
      "Epoch 198/200\n",
      "10/10 [==============================] - 1s 140ms/step - loss: 0.3385 - accuracy: 0.8344 - val_loss: 0.4545 - val_accuracy: 0.8125\n",
      "Epoch 199/200\n",
      "10/10 [==============================] - 1s 142ms/step - loss: 0.3051 - accuracy: 0.8781 - val_loss: 0.4196 - val_accuracy: 0.7031\n",
      "Epoch 200/200\n",
      "10/10 [==============================] - 1s 119ms/step - loss: 0.3089 - accuracy: 0.8658 - val_loss: 0.2445 - val_accuracy: 0.8906\n"
     ]
    }
   ],
   "source": [
    "model = Sequential()\n",
    "\n",
    "model.add(Conv2D(64, (3, 3), input_shape=input_shape))\n",
    "model.add(Activation('relu'))\n",
    "model.add(MaxPooling2D(pool_size=(2, 2)))\n",
    "\n",
    "model.add(Conv2D(128, (3, 3)))\n",
    "model.add(Activation('relu'))\n",
    "model.add(MaxPooling2D(pool_size=(2, 2)))\n",
    "\n",
    "model.add(Flatten())\n",
    "\n",
    "model.add(Dense(128))\n",
    "model.add(Activation('relu'))\n",
    "model.add(Dense(1))\n",
    "model.add(Activation('sigmoid'))\n",
    "\n",
    "import tensorflow as tf\n",
    "from tensorflow import keras\n",
    "from keras import optimizers\n",
    "model.compile(loss='binary_crossentropy', \n",
    "              optimizer=keras.optimizers.Adam(lr=.0001),\n",
    "              metrics=['accuracy'])\n",
    "\n",
    "hist = model.fit_generator(train_generator,steps_per_epoch=10,epochs=200,validation_data=validation_generator,validation_steps=2)"
   ]
  },
  {
   "cell_type": "code",
   "execution_count": 10,
   "id": "e1aa32aa",
   "metadata": {},
   "outputs": [
    {
     "data": {
      "image/png": "[encoded data removed]",
      "text/plain": [
       "<Figure size 432x288 with 1 Axes>"
      ]
     },
     "metadata": {
      "needs_background": "light"
     },
     "output_type": "display_data"
    },
    {
     "data": {
      "image/png": "[encoded data removed]",
      "text/plain": [
       "<Figure size 432x288 with 1 Axes>"
      ]
     },
     "metadata": {
      "needs_background": "light"
     },
     "output_type": "display_data"
    }
   ],
   "source": [
    "plt.plot(hist.history['accuracy'])\n",
    "plt.plot(hist.history['val_accuracy'])\n",
    "plt.title('Model accuracy')\n",
    "plt.ylabel('Accuracy')\n",
    "plt.xlabel('Epoch')\n",
    "plt.legend(['Train', 'Val'], loc='upper left')\n",
    "plt.show()\n",
    "\n",
    "plt.plot(hist.history['loss'])\n",
    "plt.plot(hist.history['val_loss'])\n",
    "plt.title('Model loss')\n",
    "plt.ylabel('Loss')\n",
    "plt.xlabel('Epoch')\n",
    "plt.legend(['Train', 'Val'], loc='upper right')\n",
    "plt.show()"
   ]
  },
  {
   "cell_type": "code",
   "execution_count": 11,
   "id": "bec6aaba",
   "metadata": {},
   "outputs": [],
   "source": [
    "create_directory('mixed')"
   ]
  },
  {
   "cell_type": "code",
   "execution_count": 12,
   "id": "fee544ca",
   "metadata": {},
   "outputs": [
    {
     "name": "stdout",
     "output_type": "stream",
     "text": [
      "Mixed_grain/image_1.jpg\n"
     ]
    }
   ],
   "source": [
    "mixed = input()"
   ]
  },
  {
   "cell_type": "code",
   "execution_count": 13,
   "id": "a8fe2065",
   "metadata": {},
   "outputs": [
    {
     "name": "stdout",
     "output_type": "stream",
     "text": [
      "Number of detected contours 585\n"
     ]
    }
   ],
   "source": [
    "pre_process_And_Count(mixed, 'mixed/mixed_')"
   ]
  },
  {
   "cell_type": "code",
   "execution_count": 14,
   "id": "464fa6ca",
   "metadata": {},
   "outputs": [],
   "source": [
    "import os\n",
    "from os import listdir\n",
    "from os.path import isfile, join"
   ]
  },
  {
   "cell_type": "code",
   "execution_count": 15,
   "id": "32460607",
   "metadata": {},
   "outputs": [
    {
     "name": "stderr",
     "output_type": "stream",
     "text": [
      "C:\\Users\\LAZ\\AppData\\Roaming\\Python\\Python39\\site-packages\\keras_preprocessing\\image\\utils.py:107: UserWarning: grayscale is deprecated. Please use color_mode = \"grayscale\"\n",
      "  warnings.warn('grayscale is deprecated. Please use '\n"
     ]
    },
    {
     "name": "stdout",
     "output_type": "stream",
     "text": [
      "Total full : 437\n",
      "Total broken : 148\n"
     ]
    }
   ],
   "source": [
    "import os\n",
    "from os import listdir\n",
    "from os.path import isfile, join\n",
    "\n",
    "predict_dir_path='mixed/'\n",
    "onlyfiles = [f for f in listdir(predict_dir_path) if isfile(join(predict_dir_path, f))]\n",
    "\n",
    "from keras.preprocessing import image\n",
    "full = 0 \n",
    "broken  = 0\n",
    "for file in onlyfiles:\n",
    "    img = image.load_img(predict_dir_path+'/'+file, target_size=(img_width, img_height), grayscale=True)\n",
    "    x = image.img_to_array(img)\n",
    "    x = np.expand_dims(x, axis=0)\n",
    "    \n",
    "    images = np.vstack([x])\n",
    "    classes = model.predict(images, batch_size=32)\n",
    "    classes = classes[0][0]\n",
    "    if classes == 0:\n",
    "        broken += 1\n",
    "    else:\n",
    "        full += 1\n",
    "    \n",
    "print(\"Total full :\",full)\n",
    "print(\"Total broken :\",broken)"
   ]
  },
  {
   "cell_type": "code",
   "execution_count": 16,
   "id": "28a38a50",
   "metadata": {},
   "outputs": [
    {
     "name": "stdout",
     "output_type": "stream",
     "text": [
      "Total rice grains- 585\n",
      "Percent of broken rice- 0.252991452991453\n"
     ]
    }
   ],
   "source": [
    "print(\"Total rice grains-\", (broken+full))\n",
    "print('Percent of broken rice-', broken/(broken+full))"
   ]
  },
  {
   "cell_type": "code",
   "execution_count": null,
   "id": "e16f82f2",
   "metadata": {},
   "outputs": [],
   "source": []
  }
 ],
 "metadata": {
  "kernelspec": {
   "display_name": "Python 3 (ipykernel)",
   "language": "python",
   "name": "python3"
  },
  "language_info": {
   "codemirror_mode": {
    "name": "ipython",
    "version": 3
   },
   "file_extension": ".py",
   "mimetype": "text/x-python",
   "name": "python",
   "nbconvert_exporter": "python",
   "pygments_lexer": "ipython3",
   "version": "3.9.7"
  }
 },
 "nbformat": 4,
 "nbformat_minor": 5
}
