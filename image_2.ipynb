{
 "cells": [
  {
   "cell_type": "code",
   "execution_count": 1,
   "id": "eeca5aab",
   "metadata": {},
   "outputs": [],
   "source": [
    "import cv2\n",
    "import  numpy as np\n",
    "%matplotlib inline\n",
    "import matplotlib.pyplot as plt\n",
    "np.random.seed(30)\n",
    "import random as rn\n",
    "rn.seed(30)\n",
    "from keras import backend as K\n",
    "import tensorflow as tf\n",
    "from keras.models import Sequential,Model\n",
    "from keras.layers import Dense,Flatten,Flatten,BatchNormalization,Activation\n",
    "from keras.layers.convolutional import Conv2D,MaxPooling2D\n",
    "from keras import optimizers\n",
    "from keras.layers import Dropout\n",
    "from tensorflow.keras.preprocessing.image import ImageDataGenerator\n",
    "from tensorflow.keras.preprocessing import image_dataset_from_directory\n",
    "\n",
    "broken='Broken_grain/broken_grain_3.jpg'\n",
    "full='Full_grain/full_grain_3.jpg'\n",
    "def crop_resize_img(img):\n",
    "    ht,wd=img.shape\n",
    "    ww=300\n",
    "    hh=300\n",
    "    color=0\n",
    "    result = np.full((hh,ww), color, dtype=np.uint8)\n",
    "    xx=(ww - wd)//2\n",
    "    yy=(hh - ht)//2\n",
    "    result[yy:yy+ht,xx:xx+wd]=img\n",
    "\n",
    "    final =cv2.resize(result,(50,50))\n",
    "    \n",
    "    return final"
   ]
  },
  {
   "cell_type": "code",
   "execution_count": 2,
   "id": "35cf10e1",
   "metadata": {},
   "outputs": [],
   "source": [
    "def pre_process_And_Count(image_path, output_path):\n",
    "\n",
    "    input_rice = cv2.imread(image_path, cv2.IMREAD_GRAYSCALE)\n",
    "    \n",
    "    output_adapthresh = cv2.adaptiveThreshold (input_rice, 255.0, cv2.ADAPTIVE_THRESH_MEAN_C, cv2.THRESH_BINARY, 51, -20.0)\n",
    "\n",
    "    cv2.imwrite('rice_adapthresh.png', output_adapthresh)\n",
    "    \n",
    "    kernel = np.ones((5,5),np.uint8)\n",
    "    output_erosion = cv2.erode(output_adapthresh, kernel)\n",
    "\n",
    "    cv2.imwrite('rice_erosion.png', output_erosion)\n",
    "    \n",
    "    contours, hierarchy = cv2.findContours(output_erosion, cv2.RETR_EXTERNAL,  cv2.CHAIN_APPROX_SIMPLE)\n",
    "    output_contour = cv2.cvtColor(input_rice, cv2.COLOR_GRAY2BGR)\n",
    "    cv2.drawContours(output_contour, contours, -1, (0, 0, 255), 2)\n",
    "    print(\"Number of detected contours\", len(contours))\n",
    "    \n",
    "    cv2.imwrite('rice_contours.png', output_contour)\n",
    "    \n",
    "    k=1\n",
    "    temp = 0.70 * len(contours)\n",
    "    for i in contours:\n",
    "        x, y, width, height = cv2.boundingRect(i)\n",
    "        roi = output_erosion[y:y+height, x:x+width]\n",
    "        roi=crop_resize_img(roi)\n",
    "        path  = ''\n",
    "        if output_path !='mixed/mixed_':\n",
    "            if k<temp:\n",
    "                path = 'dataset/train/'+output_path\n",
    "\n",
    "            else:\n",
    "                path = 'dataset/test/'+output_path\n",
    "        else:\n",
    "            path = output_path\n",
    "        cv2.imwrite(path+str(k)+\".png\", roi)\n",
    "        k+=1"
   ]
  },
  {
   "cell_type": "code",
   "execution_count": 3,
   "id": "f605ed5f",
   "metadata": {},
   "outputs": [
    {
     "name": "stdout",
     "output_type": "stream",
     "text": [
      "Number of detected contours 680\n"
     ]
    }
   ],
   "source": [
    "import os\n",
    "def create_directory(path):\n",
    "    if not os.path.exists(path):\n",
    "        os.makedirs(path)\n",
    "        \n",
    "create_directory('dataset')\n",
    "create_directory('dataset/train')\n",
    "create_directory('dataset/test')\n",
    "create_directory('dataset/train/full_rice')\n",
    "create_directory('dataset/test/full_rice')\n",
    "create_directory('dataset/train/broken_rice')\n",
    "create_directory('dataset/test/broken_rice')\n",
    "pre_process_And_Count(full, 'full_rice/full_')"
   ]
  },
  {
   "cell_type": "code",
   "execution_count": 4,
   "id": "8f6a691b",
   "metadata": {},
   "outputs": [
    {
     "name": "stdout",
     "output_type": "stream",
     "text": [
      "Number of detected contours 937\n"
     ]
    }
   ],
   "source": [
    "pre_process_And_Count(broken, 'broken_rice/broken_')"
   ]
  },
  {
   "cell_type": "code",
   "execution_count": 5,
   "id": "74d44217",
   "metadata": {},
   "outputs": [
    {
     "name": "stdout",
     "output_type": "stream",
     "text": [
      "Found 1130 images belonging to 2 classes.\n",
      "Found 487 images belonging to 2 classes.\n"
     ]
    }
   ],
   "source": [
    "image_size = (50,50)\n",
    "batch_size = 32\n",
    "\n",
    "train_datagen = ImageDataGenerator(\n",
    "    rescale=1. / 255,\n",
    "    shear_range=0.2,\n",
    "    zoom_range=0.2,\n",
    "    horizontal_flip=True)\n",
    "test_datagen = ImageDataGenerator(rescale=1. / 255)\n",
    "\n",
    "train_generator = train_datagen.flow_from_directory(\n",
    "    \"dataset/train\",\n",
    "    target_size=(50,50),\n",
    "    batch_size=32,\n",
    "    class_mode='binary',\n",
    "    color_mode='grayscale'\n",
    ")\n",
    "\n",
    "\n",
    "validation_generator = test_datagen.flow_from_directory(\n",
    "    \"dataset/test\",\n",
    "    target_size=(50, 50),\n",
    "    batch_size=32,\n",
    "    class_mode='binary',\n",
    "    color_mode='grayscale'\n",
    ")"
   ]
  },
  {
   "cell_type": "code",
   "execution_count": 6,
   "id": "90a9e99b",
   "metadata": {},
   "outputs": [
    {
     "data": {
      "text/plain": [
       "{'broken_rice': 0, 'full_rice': 1}"
      ]
     },
     "execution_count": 6,
     "metadata": {},
     "output_type": "execute_result"
    }
   ],
   "source": [
    "train_generator.class_indices"
   ]
  },
  {
   "cell_type": "code",
   "execution_count": 7,
   "id": "ccdacf18",
   "metadata": {},
   "outputs": [
    {
     "data": {
      "text/plain": [
       "(32, 50, 50, 1)"
      ]
     },
     "execution_count": 7,
     "metadata": {},
     "output_type": "execute_result"
    }
   ],
   "source": [
    "a, b = next(train_generator)\n",
    "a.shape"
   ]
  },
  {
   "cell_type": "code",
   "execution_count": 8,
   "id": "3f420808",
   "metadata": {},
   "outputs": [
    {
     "data": {
      "text/plain": [
       "(50, 50, 1)"
      ]
     },
     "execution_count": 8,
     "metadata": {},
     "output_type": "execute_result"
    }
   ],
   "source": [
    "img_width = 50\n",
    "img_height = 50\n",
    "\n",
    "# Check for TensorFlow or Thieno\n",
    "if K.image_data_format() == 'channels_first':\n",
    "    input_shape = (1, img_width, img_height)\n",
    "else:\n",
    "    input_shape = (img_width, img_height, 1)\n",
    "    \n",
    "input_shape"
   ]
  },
  {
   "cell_type": "code",
   "execution_count": 9,
   "id": "4fb915f0",
   "metadata": {},
   "outputs": [
    {
     "name": "stderr",
     "output_type": "stream",
     "text": [
      "C:\\Users\\LAZ\\AppData\\Roaming\\Python\\Python39\\site-packages\\keras\\optimizer_v2\\optimizer_v2.py:355: UserWarning: The `lr` argument is deprecated, use `learning_rate` instead.\n",
      "  warnings.warn(\n",
      "C:\\Users\\LAZ\\AppData\\Roaming\\Python\\Python39\\site-packages\\keras\\engine\\training.py:1972: UserWarning: `Model.fit_generator` is deprecated and will be removed in a future version. Please use `Model.fit`, which supports generators.\n",
      "  warnings.warn('`Model.fit_generator` is deprecated and '\n"
     ]
    },
    {
     "name": "stdout",
     "output_type": "stream",
     "text": [
      "Epoch 1/200\n",
      "10/10 [==============================] - 2s 139ms/step - loss: 0.6926 - accuracy: 0.5168 - val_loss: 0.6939 - val_accuracy: 0.5469\n",
      "Epoch 2/200\n",
      "10/10 [==============================] - 1s 127ms/step - loss: 0.6837 - accuracy: 0.5813 - val_loss: 0.6807 - val_accuracy: 0.5625\n",
      "Epoch 3/200\n",
      "10/10 [==============================] - 1s 124ms/step - loss: 0.6751 - accuracy: 0.6031 - val_loss: 0.6445 - val_accuracy: 0.6875\n",
      "Epoch 4/200\n",
      "10/10 [==============================] - 1s 123ms/step - loss: 0.6655 - accuracy: 0.6094 - val_loss: 0.7159 - val_accuracy: 0.5156\n",
      "Epoch 5/200\n",
      "10/10 [==============================] - 1s 126ms/step - loss: 0.6867 - accuracy: 0.5500 - val_loss: 0.6678 - val_accuracy: 0.6250\n",
      "Epoch 6/200\n",
      "10/10 [==============================] - 1s 124ms/step - loss: 0.6888 - accuracy: 0.5156 - val_loss: 0.6904 - val_accuracy: 0.5000\n",
      "Epoch 7/200\n",
      "10/10 [==============================] - 1s 123ms/step - loss: 0.6755 - accuracy: 0.6000 - val_loss: 0.6724 - val_accuracy: 0.5781\n",
      "Epoch 8/200\n",
      "10/10 [==============================] - 1s 119ms/step - loss: 0.6733 - accuracy: 0.5638 - val_loss: 0.6725 - val_accuracy: 0.5781\n",
      "Epoch 9/200\n",
      "10/10 [==============================] - 1s 118ms/step - loss: 0.6606 - accuracy: 0.5973 - val_loss: 0.6753 - val_accuracy: 0.5781\n",
      "Epoch 10/200\n",
      "10/10 [==============================] - 1s 124ms/step - loss: 0.6539 - accuracy: 0.6156 - val_loss: 0.6664 - val_accuracy: 0.5625\n",
      "Epoch 11/200\n",
      "10/10 [==============================] - 1s 118ms/step - loss: 0.6631 - accuracy: 0.5772 - val_loss: 0.6439 - val_accuracy: 0.6094\n",
      "Epoch 12/200\n",
      "10/10 [==============================] - 1s 126ms/step - loss: 0.6515 - accuracy: 0.6187 - val_loss: 0.6590 - val_accuracy: 0.5625\n",
      "Epoch 13/200\n",
      "10/10 [==============================] - 1s 117ms/step - loss: 0.6472 - accuracy: 0.6409 - val_loss: 0.6993 - val_accuracy: 0.4531\n",
      "Epoch 14/200\n",
      "10/10 [==============================] - 1s 117ms/step - loss: 0.6596 - accuracy: 0.5705 - val_loss: 0.6287 - val_accuracy: 0.5938\n",
      "Epoch 15/200\n",
      "10/10 [==============================] - 1s 120ms/step - loss: 0.6519 - accuracy: 0.5875 - val_loss: 0.6671 - val_accuracy: 0.6094\n",
      "Epoch 16/200\n",
      "10/10 [==============================] - 1s 122ms/step - loss: 0.6392 - accuracy: 0.6187 - val_loss: 0.7290 - val_accuracy: 0.5469\n",
      "Epoch 17/200\n",
      "10/10 [==============================] - 1s 124ms/step - loss: 0.6598 - accuracy: 0.5906 - val_loss: 0.6585 - val_accuracy: 0.5625\n",
      "Epoch 18/200\n",
      "10/10 [==============================] - 1s 116ms/step - loss: 0.6297 - accuracy: 0.6644 - val_loss: 0.6881 - val_accuracy: 0.5625\n",
      "Epoch 19/200\n",
      "10/10 [==============================] - 1s 116ms/step - loss: 0.6246 - accuracy: 0.6074 - val_loss: 0.6430 - val_accuracy: 0.5938\n",
      "Epoch 20/200\n",
      "10/10 [==============================] - 1s 117ms/step - loss: 0.6122 - accuracy: 0.6711 - val_loss: 0.6634 - val_accuracy: 0.5469\n",
      "Epoch 21/200\n",
      "10/10 [==============================] - 1s 124ms/step - loss: 0.6083 - accuracy: 0.6531 - val_loss: 0.6872 - val_accuracy: 0.5469\n",
      "Epoch 22/200\n",
      "10/10 [==============================] - 1s 125ms/step - loss: 0.6070 - accuracy: 0.6375 - val_loss: 0.6609 - val_accuracy: 0.5625\n",
      "Epoch 23/200\n",
      "10/10 [==============================] - 1s 121ms/step - loss: 0.5896 - accuracy: 0.7094 - val_loss: 0.6123 - val_accuracy: 0.7188\n",
      "Epoch 24/200\n",
      "10/10 [==============================] - 1s 116ms/step - loss: 0.5961 - accuracy: 0.6980 - val_loss: 0.6287 - val_accuracy: 0.6875\n",
      "Epoch 25/200\n",
      "10/10 [==============================] - 1s 122ms/step - loss: 0.5805 - accuracy: 0.6938 - val_loss: 0.6559 - val_accuracy: 0.5938\n",
      "Epoch 26/200\n",
      "10/10 [==============================] - 1s 124ms/step - loss: 0.5944 - accuracy: 0.6469 - val_loss: 0.5787 - val_accuracy: 0.6406\n",
      "Epoch 27/200\n",
      "10/10 [==============================] - 1s 118ms/step - loss: 0.5856 - accuracy: 0.7114 - val_loss: 0.6204 - val_accuracy: 0.6875\n",
      "Epoch 28/200\n",
      "10/10 [==============================] - 1s 115ms/step - loss: 0.5797 - accuracy: 0.7148 - val_loss: 0.5950 - val_accuracy: 0.6406\n",
      "Epoch 29/200\n",
      "10/10 [==============================] - 1s 123ms/step - loss: 0.5836 - accuracy: 0.6625 - val_loss: 0.6103 - val_accuracy: 0.5781\n",
      "Epoch 30/200\n",
      "10/10 [==============================] - 1s 123ms/step - loss: 0.5627 - accuracy: 0.7000 - val_loss: 0.6490 - val_accuracy: 0.6094\n",
      "Epoch 31/200\n",
      "10/10 [==============================] - 1s 124ms/step - loss: 0.5423 - accuracy: 0.7531 - val_loss: 0.5464 - val_accuracy: 0.7188\n",
      "Epoch 32/200\n",
      "10/10 [==============================] - 1s 124ms/step - loss: 0.5576 - accuracy: 0.6812 - val_loss: 0.6283 - val_accuracy: 0.6094\n",
      "Epoch 33/200\n",
      "10/10 [==============================] - 1s 116ms/step - loss: 0.5473 - accuracy: 0.7114 - val_loss: 0.5464 - val_accuracy: 0.6719\n",
      "Epoch 34/200\n",
      "10/10 [==============================] - 1s 123ms/step - loss: 0.5337 - accuracy: 0.7563 - val_loss: 0.5853 - val_accuracy: 0.6406\n",
      "Epoch 35/200\n",
      "10/10 [==============================] - 1s 124ms/step - loss: 0.5565 - accuracy: 0.6844 - val_loss: 0.6147 - val_accuracy: 0.7031\n",
      "Epoch 36/200\n",
      "10/10 [==============================] - 1s 122ms/step - loss: 0.5363 - accuracy: 0.7469 - val_loss: 0.5630 - val_accuracy: 0.7188\n",
      "Epoch 37/200\n",
      "10/10 [==============================] - 1s 123ms/step - loss: 0.5290 - accuracy: 0.7281 - val_loss: 0.5799 - val_accuracy: 0.7031\n",
      "Epoch 38/200\n",
      "10/10 [==============================] - 1s 123ms/step - loss: 0.4977 - accuracy: 0.7719 - val_loss: 0.5065 - val_accuracy: 0.7812\n",
      "Epoch 39/200\n",
      "10/10 [==============================] - 1s 115ms/step - loss: 0.5243 - accuracy: 0.7550 - val_loss: 0.5649 - val_accuracy: 0.7031\n",
      "Epoch 40/200\n",
      "10/10 [==============================] - 1s 116ms/step - loss: 0.5247 - accuracy: 0.7383 - val_loss: 0.6559 - val_accuracy: 0.6562\n",
      "Epoch 41/200\n",
      "10/10 [==============================] - 1s 122ms/step - loss: 0.4983 - accuracy: 0.7375 - val_loss: 0.4920 - val_accuracy: 0.7188\n",
      "Epoch 42/200\n",
      "10/10 [==============================] - 1s 121ms/step - loss: 0.5025 - accuracy: 0.7594 - val_loss: 0.5892 - val_accuracy: 0.6875\n",
      "Epoch 43/200\n",
      "10/10 [==============================] - 1s 123ms/step - loss: 0.5102 - accuracy: 0.7500 - val_loss: 0.5315 - val_accuracy: 0.7812\n",
      "Epoch 44/200\n",
      "10/10 [==============================] - 1s 123ms/step - loss: 0.4827 - accuracy: 0.7688 - val_loss: 0.4970 - val_accuracy: 0.8281\n",
      "Epoch 45/200\n",
      "10/10 [==============================] - 1s 123ms/step - loss: 0.5015 - accuracy: 0.7563 - val_loss: 0.4893 - val_accuracy: 0.7500\n",
      "Epoch 46/200\n",
      "10/10 [==============================] - 1s 124ms/step - loss: 0.4665 - accuracy: 0.8062 - val_loss: 0.4758 - val_accuracy: 0.7969\n",
      "Epoch 47/200\n",
      "10/10 [==============================] - 1s 123ms/step - loss: 0.5028 - accuracy: 0.7500 - val_loss: 0.5023 - val_accuracy: 0.7969\n",
      "Epoch 48/200\n",
      "10/10 [==============================] - 1s 117ms/step - loss: 0.4943 - accuracy: 0.7685 - val_loss: 0.5315 - val_accuracy: 0.7188\n",
      "Epoch 49/200\n",
      "10/10 [==============================] - 1s 125ms/step - loss: 0.4860 - accuracy: 0.7594 - val_loss: 0.6640 - val_accuracy: 0.5938\n",
      "Epoch 50/200\n",
      "10/10 [==============================] - 1s 122ms/step - loss: 0.4601 - accuracy: 0.7844 - val_loss: 0.5453 - val_accuracy: 0.7188\n",
      "Epoch 51/200\n",
      "10/10 [==============================] - 1s 124ms/step - loss: 0.4853 - accuracy: 0.7812 - val_loss: 0.5670 - val_accuracy: 0.6562\n",
      "Epoch 52/200\n",
      "10/10 [==============================] - 1s 123ms/step - loss: 0.4721 - accuracy: 0.7781 - val_loss: 0.5271 - val_accuracy: 0.7500\n",
      "Epoch 53/200\n",
      "10/10 [==============================] - 1s 124ms/step - loss: 0.4352 - accuracy: 0.8156 - val_loss: 0.5656 - val_accuracy: 0.7031\n",
      "Epoch 54/200\n",
      "10/10 [==============================] - 1s 122ms/step - loss: 0.4826 - accuracy: 0.7625 - val_loss: 0.4976 - val_accuracy: 0.7500\n",
      "Epoch 55/200\n",
      "10/10 [==============================] - 1s 120ms/step - loss: 0.4830 - accuracy: 0.7500 - val_loss: 0.5036 - val_accuracy: 0.7344\n",
      "Epoch 56/200\n",
      "10/10 [==============================] - 1s 117ms/step - loss: 0.4415 - accuracy: 0.7987 - val_loss: 0.5179 - val_accuracy: 0.7188\n",
      "Epoch 57/200\n",
      "10/10 [==============================] - 1s 125ms/step - loss: 0.4443 - accuracy: 0.8031 - val_loss: 0.5346 - val_accuracy: 0.7656\n"
     ]
    },
    {
     "name": "stdout",
     "output_type": "stream",
     "text": [
      "Epoch 58/200\n",
      "10/10 [==============================] - 1s 121ms/step - loss: 0.4396 - accuracy: 0.7750 - val_loss: 0.4552 - val_accuracy: 0.7969\n",
      "Epoch 59/200\n",
      "10/10 [==============================] - 1s 122ms/step - loss: 0.4734 - accuracy: 0.7656 - val_loss: 0.5212 - val_accuracy: 0.7344\n",
      "Epoch 60/200\n",
      "10/10 [==============================] - 1s 122ms/step - loss: 0.4563 - accuracy: 0.7812 - val_loss: 0.6720 - val_accuracy: 0.6094\n",
      "Epoch 61/200\n",
      "10/10 [==============================] - 1s 122ms/step - loss: 0.4537 - accuracy: 0.7875 - val_loss: 0.6895 - val_accuracy: 0.6562\n",
      "Epoch 62/200\n",
      "10/10 [==============================] - 1s 121ms/step - loss: 0.3932 - accuracy: 0.8281 - val_loss: 0.5334 - val_accuracy: 0.7188\n",
      "Epoch 63/200\n",
      "10/10 [==============================] - 1s 119ms/step - loss: 0.4154 - accuracy: 0.7688 - val_loss: 0.5829 - val_accuracy: 0.6719\n",
      "Epoch 64/200\n",
      "10/10 [==============================] - 1s 121ms/step - loss: 0.4135 - accuracy: 0.8125 - val_loss: 0.4654 - val_accuracy: 0.8125\n",
      "Epoch 65/200\n",
      "10/10 [==============================] - 1s 115ms/step - loss: 0.4671 - accuracy: 0.7685 - val_loss: 0.4574 - val_accuracy: 0.7812\n",
      "Epoch 66/200\n",
      "10/10 [==============================] - 1s 121ms/step - loss: 0.4283 - accuracy: 0.7969 - val_loss: 0.4462 - val_accuracy: 0.7500\n",
      "Epoch 67/200\n",
      "10/10 [==============================] - 1s 121ms/step - loss: 0.4231 - accuracy: 0.7969 - val_loss: 0.5231 - val_accuracy: 0.7656\n",
      "Epoch 68/200\n",
      "10/10 [==============================] - 1s 122ms/step - loss: 0.4513 - accuracy: 0.7656 - val_loss: 0.4960 - val_accuracy: 0.6719\n",
      "Epoch 69/200\n",
      "10/10 [==============================] - 1s 120ms/step - loss: 0.4240 - accuracy: 0.7953 - val_loss: 0.4375 - val_accuracy: 0.7656\n",
      "Epoch 70/200\n",
      "10/10 [==============================] - 1s 146ms/step - loss: 0.3936 - accuracy: 0.8125 - val_loss: 0.4858 - val_accuracy: 0.7188\n",
      "Epoch 71/200\n",
      "10/10 [==============================] - 1s 143ms/step - loss: 0.4402 - accuracy: 0.7812 - val_loss: 0.5212 - val_accuracy: 0.7344\n",
      "Epoch 72/200\n",
      "10/10 [==============================] - 1s 145ms/step - loss: 0.4151 - accuracy: 0.8125 - val_loss: 0.4317 - val_accuracy: 0.7656\n",
      "Epoch 73/200\n",
      "10/10 [==============================] - 1s 133ms/step - loss: 0.4115 - accuracy: 0.8221 - val_loss: 0.3137 - val_accuracy: 0.8594\n",
      "Epoch 74/200\n",
      "10/10 [==============================] - 1s 150ms/step - loss: 0.4283 - accuracy: 0.8154 - val_loss: 0.4392 - val_accuracy: 0.7500\n",
      "Epoch 75/200\n",
      "10/10 [==============================] - 2s 156ms/step - loss: 0.4204 - accuracy: 0.8125 - val_loss: 0.4328 - val_accuracy: 0.7500\n",
      "Epoch 76/200\n",
      "10/10 [==============================] - 1s 141ms/step - loss: 0.3886 - accuracy: 0.8313 - val_loss: 0.3978 - val_accuracy: 0.7969\n",
      "Epoch 77/200\n",
      "10/10 [==============================] - 1s 129ms/step - loss: 0.3991 - accuracy: 0.8469 - val_loss: 0.5846 - val_accuracy: 0.7500\n",
      "Epoch 78/200\n",
      "10/10 [==============================] - 1s 118ms/step - loss: 0.3971 - accuracy: 0.8087 - val_loss: 0.4935 - val_accuracy: 0.7344\n",
      "Epoch 79/200\n",
      "10/10 [==============================] - 1s 130ms/step - loss: 0.4136 - accuracy: 0.8031 - val_loss: 0.4867 - val_accuracy: 0.7812\n",
      "Epoch 80/200\n",
      "10/10 [==============================] - 1s 137ms/step - loss: 0.3684 - accuracy: 0.8500 - val_loss: 0.5275 - val_accuracy: 0.7969\n",
      "Epoch 81/200\n",
      "10/10 [==============================] - 1s 126ms/step - loss: 0.3799 - accuracy: 0.8281 - val_loss: 0.4987 - val_accuracy: 0.7812\n",
      "Epoch 82/200\n",
      "10/10 [==============================] - 1s 126ms/step - loss: 0.3986 - accuracy: 0.8188 - val_loss: 0.6583 - val_accuracy: 0.6562\n",
      "Epoch 83/200\n",
      "10/10 [==============================] - 1s 119ms/step - loss: 0.4601 - accuracy: 0.7852 - val_loss: 0.5548 - val_accuracy: 0.6719\n",
      "Epoch 84/200\n",
      "10/10 [==============================] - 1s 132ms/step - loss: 0.4505 - accuracy: 0.7937 - val_loss: 0.4270 - val_accuracy: 0.7969\n",
      "Epoch 85/200\n",
      "10/10 [==============================] - 1s 133ms/step - loss: 0.4013 - accuracy: 0.8156 - val_loss: 0.4256 - val_accuracy: 0.8125\n",
      "Epoch 86/200\n",
      "10/10 [==============================] - 1s 130ms/step - loss: 0.3672 - accuracy: 0.8313 - val_loss: 0.3157 - val_accuracy: 0.8594\n",
      "Epoch 87/200\n",
      "10/10 [==============================] - 1s 128ms/step - loss: 0.3906 - accuracy: 0.8219 - val_loss: 0.3817 - val_accuracy: 0.8438\n",
      "Epoch 88/200\n",
      "10/10 [==============================] - 1s 128ms/step - loss: 0.3685 - accuracy: 0.8531 - val_loss: 0.4927 - val_accuracy: 0.8438\n",
      "Epoch 89/200\n",
      "10/10 [==============================] - 1s 126ms/step - loss: 0.4021 - accuracy: 0.8000 - val_loss: 0.4144 - val_accuracy: 0.7969\n",
      "Epoch 90/200\n",
      "10/10 [==============================] - 1s 118ms/step - loss: 0.4262 - accuracy: 0.8054 - val_loss: 0.5291 - val_accuracy: 0.7812\n",
      "Epoch 91/200\n",
      "10/10 [==============================] - 1s 126ms/step - loss: 0.3954 - accuracy: 0.8125 - val_loss: 0.6973 - val_accuracy: 0.7031\n",
      "Epoch 92/200\n",
      "10/10 [==============================] - 1s 127ms/step - loss: 0.4210 - accuracy: 0.7875 - val_loss: 0.3890 - val_accuracy: 0.7812\n",
      "Epoch 93/200\n",
      "10/10 [==============================] - 1s 120ms/step - loss: 0.4048 - accuracy: 0.8255 - val_loss: 0.4091 - val_accuracy: 0.8125\n",
      "Epoch 94/200\n",
      "10/10 [==============================] - 1s 128ms/step - loss: 0.3503 - accuracy: 0.8562 - val_loss: 0.4202 - val_accuracy: 0.8281\n",
      "Epoch 95/200\n",
      "10/10 [==============================] - 1s 118ms/step - loss: 0.3999 - accuracy: 0.8255 - val_loss: 0.4770 - val_accuracy: 0.7812\n",
      "Epoch 96/200\n",
      "10/10 [==============================] - 1s 125ms/step - loss: 0.4325 - accuracy: 0.7875 - val_loss: 0.4884 - val_accuracy: 0.7500\n",
      "Epoch 97/200\n",
      "10/10 [==============================] - 1s 118ms/step - loss: 0.4075 - accuracy: 0.8054 - val_loss: 0.4565 - val_accuracy: 0.7969\n",
      "Epoch 98/200\n",
      "10/10 [==============================] - 1s 125ms/step - loss: 0.3770 - accuracy: 0.8375 - val_loss: 0.4792 - val_accuracy: 0.7500\n",
      "Epoch 99/200\n",
      "10/10 [==============================] - 1s 120ms/step - loss: 0.3791 - accuracy: 0.8188 - val_loss: 0.5387 - val_accuracy: 0.6875\n",
      "Epoch 100/200\n",
      "10/10 [==============================] - 1s 129ms/step - loss: 0.3709 - accuracy: 0.8344 - val_loss: 0.5181 - val_accuracy: 0.7812\n",
      "Epoch 101/200\n",
      "10/10 [==============================] - 1s 126ms/step - loss: 0.3870 - accuracy: 0.8281 - val_loss: 0.6483 - val_accuracy: 0.7188\n",
      "Epoch 102/200\n",
      "10/10 [==============================] - 1s 127ms/step - loss: 0.4096 - accuracy: 0.7937 - val_loss: 0.5703 - val_accuracy: 0.7656\n",
      "Epoch 103/200\n",
      "10/10 [==============================] - 1s 125ms/step - loss: 0.3858 - accuracy: 0.8313 - val_loss: 0.4176 - val_accuracy: 0.7969\n",
      "Epoch 104/200\n",
      "10/10 [==============================] - 1s 125ms/step - loss: 0.3949 - accuracy: 0.8156 - val_loss: 0.3613 - val_accuracy: 0.8125\n",
      "Epoch 105/200\n",
      "10/10 [==============================] - 1s 127ms/step - loss: 0.3756 - accuracy: 0.8125 - val_loss: 0.4899 - val_accuracy: 0.7500\n",
      "Epoch 106/200\n",
      "10/10 [==============================] - 1s 134ms/step - loss: 0.3707 - accuracy: 0.8289 - val_loss: 0.4065 - val_accuracy: 0.8281\n",
      "Epoch 107/200\n",
      "10/10 [==============================] - 1s 125ms/step - loss: 0.3928 - accuracy: 0.8281 - val_loss: 0.6090 - val_accuracy: 0.7188\n",
      "Epoch 108/200\n",
      "10/10 [==============================] - 1s 133ms/step - loss: 0.3606 - accuracy: 0.8281 - val_loss: 0.4367 - val_accuracy: 0.7812\n",
      "Epoch 109/200\n",
      "10/10 [==============================] - 1s 141ms/step - loss: 0.3970 - accuracy: 0.8125 - val_loss: 0.3718 - val_accuracy: 0.8594\n",
      "Epoch 110/200\n",
      "10/10 [==============================] - 1s 146ms/step - loss: 0.3958 - accuracy: 0.8000 - val_loss: 0.6058 - val_accuracy: 0.7031\n",
      "Epoch 111/200\n",
      "10/10 [==============================] - 1s 142ms/step - loss: 0.4350 - accuracy: 0.8000 - val_loss: 0.4364 - val_accuracy: 0.8125\n",
      "Epoch 112/200\n",
      "10/10 [==============================] - 1s 148ms/step - loss: 0.3953 - accuracy: 0.8087 - val_loss: 0.4518 - val_accuracy: 0.7656\n",
      "Epoch 113/200\n",
      "10/10 [==============================] - 1s 141ms/step - loss: 0.3792 - accuracy: 0.8490 - val_loss: 0.6129 - val_accuracy: 0.7344\n",
      "Epoch 114/200\n",
      "10/10 [==============================] - 1s 134ms/step - loss: 0.3862 - accuracy: 0.8438 - val_loss: 0.6849 - val_accuracy: 0.7656\n"
     ]
    },
    {
     "name": "stdout",
     "output_type": "stream",
     "text": [
      "Epoch 115/200\n",
      "10/10 [==============================] - 1s 122ms/step - loss: 0.4034 - accuracy: 0.7844 - val_loss: 0.4300 - val_accuracy: 0.7812\n",
      "Epoch 116/200\n",
      "10/10 [==============================] - 1s 124ms/step - loss: 0.4272 - accuracy: 0.8094 - val_loss: 0.4873 - val_accuracy: 0.7812\n",
      "Epoch 117/200\n",
      "10/10 [==============================] - 1s 122ms/step - loss: 0.3988 - accuracy: 0.8219 - val_loss: 0.4444 - val_accuracy: 0.7969\n",
      "Epoch 118/200\n",
      "10/10 [==============================] - 1s 123ms/step - loss: 0.4119 - accuracy: 0.8219 - val_loss: 0.5820 - val_accuracy: 0.7500\n",
      "Epoch 119/200\n",
      "10/10 [==============================] - 1s 123ms/step - loss: 0.3725 - accuracy: 0.8375 - val_loss: 0.4537 - val_accuracy: 0.8594\n",
      "Epoch 120/200\n",
      "10/10 [==============================] - 1s 123ms/step - loss: 0.3759 - accuracy: 0.8154 - val_loss: 0.3854 - val_accuracy: 0.7500\n",
      "Epoch 121/200\n",
      "10/10 [==============================] - 1s 123ms/step - loss: 0.3703 - accuracy: 0.8469 - val_loss: 0.5139 - val_accuracy: 0.8125\n",
      "Epoch 122/200\n",
      "10/10 [==============================] - 1s 123ms/step - loss: 0.3568 - accuracy: 0.8375 - val_loss: 0.5129 - val_accuracy: 0.7656\n",
      "Epoch 123/200\n",
      "10/10 [==============================] - 1s 116ms/step - loss: 0.3369 - accuracy: 0.8725 - val_loss: 0.4776 - val_accuracy: 0.7500\n",
      "Epoch 124/200\n",
      "10/10 [==============================] - 1s 122ms/step - loss: 0.4326 - accuracy: 0.7875 - val_loss: 0.5881 - val_accuracy: 0.7500\n",
      "Epoch 125/200\n",
      "10/10 [==============================] - 1s 123ms/step - loss: 0.3423 - accuracy: 0.8625 - val_loss: 0.3894 - val_accuracy: 0.8438\n",
      "Epoch 126/200\n",
      "10/10 [==============================] - 1s 123ms/step - loss: 0.3653 - accuracy: 0.8125 - val_loss: 0.5075 - val_accuracy: 0.7812\n",
      "Epoch 127/200\n",
      "10/10 [==============================] - 1s 121ms/step - loss: 0.4106 - accuracy: 0.8062 - val_loss: 0.4135 - val_accuracy: 0.7969\n",
      "Epoch 128/200\n",
      "10/10 [==============================] - 1s 124ms/step - loss: 0.4370 - accuracy: 0.8062 - val_loss: 0.5227 - val_accuracy: 0.7031\n",
      "Epoch 129/200\n",
      "10/10 [==============================] - 1s 121ms/step - loss: 0.3949 - accuracy: 0.8406 - val_loss: 0.5315 - val_accuracy: 0.7188\n",
      "Epoch 130/200\n",
      "10/10 [==============================] - 1s 126ms/step - loss: 0.3766 - accuracy: 0.8562 - val_loss: 0.4699 - val_accuracy: 0.8281\n",
      "Epoch 131/200\n",
      "10/10 [==============================] - 1s 125ms/step - loss: 0.3433 - accuracy: 0.8625 - val_loss: 0.3985 - val_accuracy: 0.8125\n",
      "Epoch 132/200\n",
      "10/10 [==============================] - 1s 124ms/step - loss: 0.3707 - accuracy: 0.8313 - val_loss: 0.2952 - val_accuracy: 0.8281\n",
      "Epoch 133/200\n",
      "10/10 [==============================] - 1s 148ms/step - loss: 0.3495 - accuracy: 0.8531 - val_loss: 0.5029 - val_accuracy: 0.7656\n",
      "Epoch 134/200\n",
      "10/10 [==============================] - 1s 131ms/step - loss: 0.4179 - accuracy: 0.8125 - val_loss: 0.5819 - val_accuracy: 0.7031\n",
      "Epoch 135/200\n",
      "10/10 [==============================] - 1s 125ms/step - loss: 0.3673 - accuracy: 0.8250 - val_loss: 0.4223 - val_accuracy: 0.8125\n",
      "Epoch 136/200\n",
      "10/10 [==============================] - 1s 126ms/step - loss: 0.3772 - accuracy: 0.8219 - val_loss: 0.4351 - val_accuracy: 0.7500\n",
      "Epoch 137/200\n",
      "10/10 [==============================] - 1s 119ms/step - loss: 0.3470 - accuracy: 0.8456 - val_loss: 0.5046 - val_accuracy: 0.7969\n",
      "Epoch 138/200\n",
      "10/10 [==============================] - 1s 126ms/step - loss: 0.3814 - accuracy: 0.7937 - val_loss: 0.3582 - val_accuracy: 0.8594\n",
      "Epoch 139/200\n",
      "10/10 [==============================] - 1s 129ms/step - loss: 0.4313 - accuracy: 0.7919 - val_loss: 0.4452 - val_accuracy: 0.7656\n",
      "Epoch 140/200\n",
      "10/10 [==============================] - 1s 146ms/step - loss: 0.3644 - accuracy: 0.8344 - val_loss: 0.3803 - val_accuracy: 0.7969\n",
      "Epoch 141/200\n",
      "10/10 [==============================] - 1s 134ms/step - loss: 0.3576 - accuracy: 0.8531 - val_loss: 0.4285 - val_accuracy: 0.7969\n",
      "Epoch 142/200\n",
      "10/10 [==============================] - 1s 131ms/step - loss: 0.3449 - accuracy: 0.8591 - val_loss: 0.4589 - val_accuracy: 0.8125\n",
      "Epoch 143/200\n",
      "10/10 [==============================] - 1s 132ms/step - loss: 0.3811 - accuracy: 0.8188 - val_loss: 0.3839 - val_accuracy: 0.7812\n",
      "Epoch 144/200\n",
      "10/10 [==============================] - 1s 130ms/step - loss: 0.3866 - accuracy: 0.7969 - val_loss: 0.4422 - val_accuracy: 0.7969\n",
      "Epoch 145/200\n",
      "10/10 [==============================] - 1s 123ms/step - loss: 0.3709 - accuracy: 0.8456 - val_loss: 0.4992 - val_accuracy: 0.7500\n",
      "Epoch 146/200\n",
      "10/10 [==============================] - 1s 131ms/step - loss: 0.3666 - accuracy: 0.8406 - val_loss: 0.4952 - val_accuracy: 0.7344\n",
      "Epoch 147/200\n",
      "10/10 [==============================] - 1s 130ms/step - loss: 0.3240 - accuracy: 0.8562 - val_loss: 0.4902 - val_accuracy: 0.7656\n",
      "Epoch 148/200\n",
      "10/10 [==============================] - 1s 134ms/step - loss: 0.3462 - accuracy: 0.8406 - val_loss: 0.3404 - val_accuracy: 0.8438\n",
      "Epoch 149/200\n",
      "10/10 [==============================] - 1s 145ms/step - loss: 0.3498 - accuracy: 0.8389 - val_loss: 0.4697 - val_accuracy: 0.7969\n",
      "Epoch 150/200\n",
      "10/10 [==============================] - 2s 151ms/step - loss: 0.4279 - accuracy: 0.7937 - val_loss: 0.4857 - val_accuracy: 0.7656\n",
      "Epoch 151/200\n",
      "10/10 [==============================] - 1s 138ms/step - loss: 0.3327 - accuracy: 0.8624 - val_loss: 0.3271 - val_accuracy: 0.8438\n",
      "Epoch 152/200\n",
      "10/10 [==============================] - 1s 129ms/step - loss: 0.3497 - accuracy: 0.8562 - val_loss: 0.5241 - val_accuracy: 0.8125\n",
      "Epoch 153/200\n",
      "10/10 [==============================] - 1s 133ms/step - loss: 0.3210 - accuracy: 0.8625 - val_loss: 0.4543 - val_accuracy: 0.7969\n",
      "Epoch 154/200\n",
      "10/10 [==============================] - 1s 126ms/step - loss: 0.3366 - accuracy: 0.8500 - val_loss: 0.4681 - val_accuracy: 0.7344\n",
      "Epoch 155/200\n",
      "10/10 [==============================] - 1s 120ms/step - loss: 0.3808 - accuracy: 0.8221 - val_loss: 0.4512 - val_accuracy: 0.8125\n",
      "Epoch 156/200\n",
      "10/10 [==============================] - 1s 125ms/step - loss: 0.3594 - accuracy: 0.8500 - val_loss: 0.3026 - val_accuracy: 0.8906\n",
      "Epoch 157/200\n",
      "10/10 [==============================] - 1s 128ms/step - loss: 0.4066 - accuracy: 0.8125 - val_loss: 0.4557 - val_accuracy: 0.7656\n",
      "Epoch 158/200\n",
      "10/10 [==============================] - 1s 120ms/step - loss: 0.3256 - accuracy: 0.8859 - val_loss: 0.4239 - val_accuracy: 0.7969\n",
      "Epoch 159/200\n",
      "10/10 [==============================] - 1s 128ms/step - loss: 0.3869 - accuracy: 0.8125 - val_loss: 0.3575 - val_accuracy: 0.7812\n",
      "Epoch 160/200\n",
      "10/10 [==============================] - 1s 126ms/step - loss: 0.3788 - accuracy: 0.8281 - val_loss: 0.2990 - val_accuracy: 0.8750\n",
      "Epoch 161/200\n",
      "10/10 [==============================] - 1s 117ms/step - loss: 0.3712 - accuracy: 0.8356 - val_loss: 0.4773 - val_accuracy: 0.8125\n",
      "Epoch 162/200\n",
      "10/10 [==============================] - 1s 119ms/step - loss: 0.3597 - accuracy: 0.8188 - val_loss: 0.2853 - val_accuracy: 0.8750\n",
      "Epoch 163/200\n",
      "10/10 [==============================] - 1s 127ms/step - loss: 0.3502 - accuracy: 0.8594 - val_loss: 0.5051 - val_accuracy: 0.7656\n",
      "Epoch 164/200\n",
      "10/10 [==============================] - 1s 130ms/step - loss: 0.3704 - accuracy: 0.8344 - val_loss: 0.6979 - val_accuracy: 0.6875\n",
      "Epoch 165/200\n",
      "10/10 [==============================] - 1s 122ms/step - loss: 0.3867 - accuracy: 0.8054 - val_loss: 0.4542 - val_accuracy: 0.7656\n",
      "Epoch 166/200\n",
      "10/10 [==============================] - 1s 125ms/step - loss: 0.3975 - accuracy: 0.8313 - val_loss: 0.3962 - val_accuracy: 0.8281\n",
      "Epoch 167/200\n",
      "10/10 [==============================] - 1s 129ms/step - loss: 0.3241 - accuracy: 0.8625 - val_loss: 0.3742 - val_accuracy: 0.8281\n",
      "Epoch 168/200\n",
      "10/10 [==============================] - 1s 128ms/step - loss: 0.3503 - accuracy: 0.8531 - val_loss: 0.5547 - val_accuracy: 0.6875\n",
      "Epoch 169/200\n",
      "10/10 [==============================] - 1s 128ms/step - loss: 0.3879 - accuracy: 0.8281 - val_loss: 0.4009 - val_accuracy: 0.7969\n",
      "Epoch 170/200\n",
      "10/10 [==============================] - 1s 121ms/step - loss: 0.3808 - accuracy: 0.8389 - val_loss: 0.5785 - val_accuracy: 0.7188\n",
      "Epoch 171/200\n"
     ]
    },
    {
     "name": "stdout",
     "output_type": "stream",
     "text": [
      "10/10 [==============================] - 1s 127ms/step - loss: 0.3753 - accuracy: 0.8289 - val_loss: 0.3787 - val_accuracy: 0.8281\n",
      "Epoch 172/200\n",
      "10/10 [==============================] - 1s 116ms/step - loss: 0.3982 - accuracy: 0.8054 - val_loss: 0.3642 - val_accuracy: 0.8594\n",
      "Epoch 173/200\n",
      "10/10 [==============================] - 1s 135ms/step - loss: 0.3342 - accuracy: 0.8500 - val_loss: 0.3961 - val_accuracy: 0.7812\n",
      "Epoch 174/200\n",
      "10/10 [==============================] - 1s 126ms/step - loss: 0.3921 - accuracy: 0.8188 - val_loss: 0.4587 - val_accuracy: 0.7969\n",
      "Epoch 175/200\n",
      "10/10 [==============================] - 1s 139ms/step - loss: 0.3522 - accuracy: 0.8531 - val_loss: 0.6319 - val_accuracy: 0.7344\n",
      "Epoch 176/200\n",
      "10/10 [==============================] - 1s 145ms/step - loss: 0.3437 - accuracy: 0.8438 - val_loss: 0.5086 - val_accuracy: 0.7188\n",
      "Epoch 177/200\n",
      "10/10 [==============================] - 2s 150ms/step - loss: 0.3283 - accuracy: 0.8656 - val_loss: 0.4827 - val_accuracy: 0.7344\n",
      "Epoch 178/200\n",
      "10/10 [==============================] - 1s 128ms/step - loss: 0.3750 - accuracy: 0.8156 - val_loss: 0.3333 - val_accuracy: 0.8125\n",
      "Epoch 179/200\n",
      "10/10 [==============================] - 1s 126ms/step - loss: 0.3690 - accuracy: 0.8219 - val_loss: 0.4129 - val_accuracy: 0.7500\n",
      "Epoch 180/200\n",
      "10/10 [==============================] - 1s 126ms/step - loss: 0.3672 - accuracy: 0.8188 - val_loss: 0.2305 - val_accuracy: 0.8906\n",
      "Epoch 181/200\n",
      "10/10 [==============================] - 1s 125ms/step - loss: 0.3720 - accuracy: 0.8281 - val_loss: 0.3758 - val_accuracy: 0.8281\n",
      "Epoch 182/200\n",
      "10/10 [==============================] - 1s 118ms/step - loss: 0.2995 - accuracy: 0.8792 - val_loss: 0.4977 - val_accuracy: 0.7500\n",
      "Epoch 183/200\n",
      "10/10 [==============================] - 1s 119ms/step - loss: 0.3546 - accuracy: 0.8389 - val_loss: 0.3919 - val_accuracy: 0.8125\n",
      "Epoch 184/200\n",
      "10/10 [==============================] - 1s 124ms/step - loss: 0.3688 - accuracy: 0.8188 - val_loss: 0.3890 - val_accuracy: 0.8125\n",
      "Epoch 185/200\n",
      "10/10 [==============================] - 1s 128ms/step - loss: 0.3421 - accuracy: 0.8591 - val_loss: 0.4070 - val_accuracy: 0.8125\n",
      "Epoch 186/200\n",
      "10/10 [==============================] - 1s 125ms/step - loss: 0.3406 - accuracy: 0.8438 - val_loss: 0.4170 - val_accuracy: 0.8438\n",
      "Epoch 187/200\n",
      "10/10 [==============================] - 1s 126ms/step - loss: 0.3346 - accuracy: 0.8625 - val_loss: 0.4498 - val_accuracy: 0.7969\n",
      "Epoch 188/200\n",
      "10/10 [==============================] - 1s 126ms/step - loss: 0.3406 - accuracy: 0.8500 - val_loss: 0.3427 - val_accuracy: 0.8438\n",
      "Epoch 189/200\n",
      "10/10 [==============================] - 1s 124ms/step - loss: 0.3403 - accuracy: 0.8500 - val_loss: 0.5458 - val_accuracy: 0.7031\n",
      "Epoch 190/200\n",
      "10/10 [==============================] - 1s 125ms/step - loss: 0.3582 - accuracy: 0.8406 - val_loss: 0.3682 - val_accuracy: 0.7969\n",
      "Epoch 191/200\n",
      "10/10 [==============================] - 1s 118ms/step - loss: 0.3709 - accuracy: 0.8423 - val_loss: 0.4163 - val_accuracy: 0.7812\n",
      "Epoch 192/200\n",
      "10/10 [==============================] - 1s 125ms/step - loss: 0.4055 - accuracy: 0.8188 - val_loss: 0.3895 - val_accuracy: 0.7656\n",
      "Epoch 193/200\n",
      "10/10 [==============================] - 1s 123ms/step - loss: 0.3684 - accuracy: 0.8500 - val_loss: 0.4699 - val_accuracy: 0.7500\n",
      "Epoch 194/200\n",
      "10/10 [==============================] - 1s 124ms/step - loss: 0.3319 - accuracy: 0.8375 - val_loss: 0.4327 - val_accuracy: 0.7812\n",
      "Epoch 195/200\n",
      "10/10 [==============================] - 1s 125ms/step - loss: 0.3169 - accuracy: 0.8656 - val_loss: 0.4675 - val_accuracy: 0.8125\n",
      "Epoch 196/200\n",
      "10/10 [==============================] - 1s 119ms/step - loss: 0.3599 - accuracy: 0.8356 - val_loss: 0.2985 - val_accuracy: 0.8906\n",
      "Epoch 197/200\n",
      "10/10 [==============================] - 1s 128ms/step - loss: 0.3205 - accuracy: 0.8687 - val_loss: 0.3424 - val_accuracy: 0.8281\n",
      "Epoch 198/200\n",
      "10/10 [==============================] - 1s 136ms/step - loss: 0.3544 - accuracy: 0.8344 - val_loss: 0.4797 - val_accuracy: 0.7969\n",
      "Epoch 199/200\n",
      "10/10 [==============================] - 2s 158ms/step - loss: 0.3258 - accuracy: 0.8625 - val_loss: 0.4585 - val_accuracy: 0.7188\n",
      "Epoch 200/200\n",
      "10/10 [==============================] - 1s 121ms/step - loss: 0.3209 - accuracy: 0.8691 - val_loss: 0.2715 - val_accuracy: 0.8750\n"
     ]
    }
   ],
   "source": [
    "model = Sequential()\n",
    "\n",
    "model.add(Conv2D(64, (3, 3), input_shape=input_shape))\n",
    "model.add(Activation('relu'))\n",
    "model.add(MaxPooling2D(pool_size=(2, 2)))\n",
    "\n",
    "model.add(Conv2D(128, (3, 3)))\n",
    "model.add(Activation('relu'))\n",
    "model.add(MaxPooling2D(pool_size=(2, 2)))\n",
    "\n",
    "model.add(Flatten())\n",
    "\n",
    "model.add(Dense(128))\n",
    "model.add(Activation('relu'))\n",
    "model.add(Dense(1))\n",
    "model.add(Activation('sigmoid'))\n",
    "\n",
    "import tensorflow as tf\n",
    "from tensorflow import keras\n",
    "from keras import optimizers\n",
    "model.compile(loss='binary_crossentropy', \n",
    "              optimizer=keras.optimizers.Adam(lr=.0001),\n",
    "              metrics=['accuracy'])\n",
    "\n",
    "hist = model.fit_generator(train_generator,steps_per_epoch=10,epochs=200,validation_data=validation_generator,validation_steps=2)"
   ]
  },
  {
   "cell_type": "code",
   "execution_count": 10,
   "id": "e811043b",
   "metadata": {
    "scrolled": true
   },
   "outputs": [
    {
     "data": {
      "image/png": "[encoded data removed]",
      "text/plain": [
       "<Figure size 432x288 with 1 Axes>"
      ]
     },
     "metadata": {
      "needs_background": "light"
     },
     "output_type": "display_data"
    },
    {
     "data": {
      "image/png": "[encoded data removed]",
      "text/plain": [
       "<Figure size 432x288 with 1 Axes>"
      ]
     },
     "metadata": {
      "needs_background": "light"
     },
     "output_type": "display_data"
    }
   ],
   "source": [
    "plt.plot(hist.history['accuracy'])\n",
    "plt.plot(hist.history['val_accuracy'])\n",
    "plt.title('Model accuracy')\n",
    "plt.ylabel('Accuracy')\n",
    "plt.xlabel('Epoch')\n",
    "plt.legend(['Train', 'Val'], loc='upper left')\n",
    "plt.show()\n",
    "\n",
    "plt.plot(hist.history['loss'])\n",
    "plt.plot(hist.history['val_loss'])\n",
    "plt.title('Model loss')\n",
    "plt.ylabel('Loss')\n",
    "plt.xlabel('Epoch')\n",
    "plt.legend(['Train', 'Val'], loc='upper right')\n",
    "plt.show()"
   ]
  },
  {
   "cell_type": "code",
   "execution_count": 11,
   "id": "aafbf0bf",
   "metadata": {},
   "outputs": [],
   "source": [
    "create_directory('mixed')"
   ]
  },
  {
   "cell_type": "code",
   "execution_count": 12,
   "id": "6eb45412",
   "metadata": {},
   "outputs": [
    {
     "name": "stdout",
     "output_type": "stream",
     "text": [
      "Mixed_grain/image_2.jpg\n"
     ]
    }
   ],
   "source": [
    "mixed = input()"
   ]
  },
  {
   "cell_type": "code",
   "execution_count": 13,
   "id": "bcf23e44",
   "metadata": {},
   "outputs": [
    {
     "name": "stdout",
     "output_type": "stream",
     "text": [
      "Number of detected contours 595\n"
     ]
    }
   ],
   "source": [
    "pre_process_And_Count(mixed, 'mixed/mixed_')"
   ]
  },
  {
   "cell_type": "code",
   "execution_count": 14,
   "id": "7511a992",
   "metadata": {},
   "outputs": [],
   "source": [
    "import os\n",
    "from os import listdir\n",
    "from os.path import isfile, join"
   ]
  },
  {
   "cell_type": "code",
   "execution_count": 15,
   "id": "67773552",
   "metadata": {},
   "outputs": [
    {
     "name": "stderr",
     "output_type": "stream",
     "text": [
      "C:\\Users\\LAZ\\AppData\\Roaming\\Python\\Python39\\site-packages\\keras_preprocessing\\image\\utils.py:107: UserWarning: grayscale is deprecated. Please use color_mode = \"grayscale\"\n",
      "  warnings.warn('grayscale is deprecated. Please use '\n"
     ]
    },
    {
     "name": "stdout",
     "output_type": "stream",
     "text": [
      "Total full : 380\n",
      "Total broken : 215\n"
     ]
    }
   ],
   "source": [
    "import os\n",
    "from os import listdir\n",
    "from os.path import isfile, join\n",
    "\n",
    "predict_dir_path='mixed/'\n",
    "onlyfiles = [f for f in listdir(predict_dir_path) if isfile(join(predict_dir_path, f))]\n",
    "\n",
    "from keras.preprocessing import image\n",
    "full = 0 \n",
    "broken  = 0\n",
    "for file in onlyfiles:\n",
    "    img = image.load_img(predict_dir_path+'/'+file, target_size=(img_width, img_height), grayscale=True)\n",
    "    x = image.img_to_array(img)\n",
    "    x = np.expand_dims(x, axis=0)\n",
    "    \n",
    "    images = np.vstack([x])\n",
    "    classes = model.predict(images, batch_size=32)\n",
    "    classes = classes[0][0]\n",
    "    if classes == 0:\n",
    "        broken += 1\n",
    "    else:\n",
    "        full += 1\n",
    "    \n",
    "print(\"Total full :\",full)\n",
    "print(\"Total broken :\",broken)"
   ]
  },
  {
   "cell_type": "code",
   "execution_count": 16,
   "id": "b4b31d86",
   "metadata": {},
   "outputs": [
    {
     "name": "stdout",
     "output_type": "stream",
     "text": [
      "Total rice grains- 595\n"
     ]
    }
   ],
   "source": [
    "print(\"Total rice grains-\", (broken+full))"
   ]
  },
  {
   "cell_type": "code",
   "execution_count": null,
   "id": "8719e0c3",
   "metadata": {},
   "outputs": [],
   "source": []
  }
 ],
 "metadata": {
  "kernelspec": {
   "display_name": "Python 3 (ipykernel)",
   "language": "python",
   "name": "python3"
  },
  "language_info": {
   "codemirror_mode": {
    "name": "ipython",
    "version": 3
   },
   "file_extension": ".py",
   "mimetype": "text/x-python",
   "name": "python",
   "nbconvert_exporter": "python",
   "pygments_lexer": "ipython3",
   "version": "3.9.7"
  }
 },
 "nbformat": 4,
 "nbformat_minor": 5
}
