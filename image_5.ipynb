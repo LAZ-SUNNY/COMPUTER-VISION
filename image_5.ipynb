{
 "cells": [
  {
   "cell_type": "code",
   "execution_count": 1,
   "id": "81347b63",
   "metadata": {},
   "outputs": [],
   "source": [
    "import cv2\n",
    "import  numpy as np\n",
    "%matplotlib inline\n",
    "import matplotlib.pyplot as plt\n",
    "np.random.seed(30)\n",
    "import random as rn\n",
    "rn.seed(30)\n",
    "from keras import backend as K\n",
    "import tensorflow as tf\n",
    "from keras.models import Sequential,Model\n",
    "from keras.layers import Dense,Flatten,Flatten,BatchNormalization,Activation\n",
    "from keras.layers.convolutional import Conv2D,MaxPooling2D\n",
    "from keras import optimizers\n",
    "from keras.layers import Dropout\n",
    "from tensorflow.keras.preprocessing.image import ImageDataGenerator\n",
    "from tensorflow.keras.preprocessing import image_dataset_from_directory\n",
    "\n",
    "broken='Broken_grain/broken_grain_2.jpg'\n",
    "full='Full_grain/full_grain_4.jpg'\n",
    "def crop_resize_img(img):\n",
    "    ht,wd=img.shape\n",
    "    ww=300\n",
    "    hh=300\n",
    "    color=0\n",
    "    result = np.full((hh,ww), color, dtype=np.uint8)\n",
    "    xx=(ww - wd)//2\n",
    "    yy=(hh - ht)//2\n",
    "    result[yy:yy+ht,xx:xx+wd]=img\n",
    "\n",
    "    final =cv2.resize(result,(50,50))\n",
    "    \n",
    "    return final"
   ]
  },
  {
   "cell_type": "code",
   "execution_count": 2,
   "id": "5d66af8f",
   "metadata": {},
   "outputs": [],
   "source": [
    "def pre_process_And_Count(image_path, output_path):\n",
    "\n",
    "    input_rice = cv2.imread(image_path, cv2.IMREAD_GRAYSCALE)\n",
    "    \n",
    "    output_adapthresh = cv2.adaptiveThreshold (input_rice, 255.0, cv2.ADAPTIVE_THRESH_MEAN_C, cv2.THRESH_BINARY, 51, -20.0)\n",
    "\n",
    "    cv2.imwrite('rice_adapthresh.png', output_adapthresh)\n",
    "    \n",
    "    kernel = np.ones((5,5),np.uint8)\n",
    "    output_erosion = cv2.erode(output_adapthresh, kernel)\n",
    "\n",
    "    cv2.imwrite('rice_erosion.png', output_erosion)\n",
    "    \n",
    "    contours, hierarchy = cv2.findContours(output_erosion, cv2.RETR_EXTERNAL,  cv2.CHAIN_APPROX_SIMPLE)\n",
    "    output_contour = cv2.cvtColor(input_rice, cv2.COLOR_GRAY2BGR)\n",
    "    cv2.drawContours(output_contour, contours, -1, (0, 0, 255), 2)\n",
    "    print(\"Number of detected contours\", len(contours))\n",
    "    \n",
    "    cv2.imwrite('rice_contours.png', output_contour)\n",
    "    \n",
    "    k=1\n",
    "    temp = 0.70 * len(contours)\n",
    "    for i in contours:\n",
    "        x, y, width, height = cv2.boundingRect(i)\n",
    "        roi = output_erosion[y:y+height, x:x+width]\n",
    "        roi=crop_resize_img(roi)\n",
    "        path  = ''\n",
    "        if output_path !='mixed/mixed_':\n",
    "            if k<temp:\n",
    "                path = 'dataset/train/'+output_path\n",
    "\n",
    "            else:\n",
    "                path = 'dataset/test/'+output_path\n",
    "        else:\n",
    "            path = output_path\n",
    "        cv2.imwrite(path+str(k)+\".png\", roi)\n",
    "        k+=1"
   ]
  },
  {
   "cell_type": "code",
   "execution_count": 3,
   "id": "c95c90c9",
   "metadata": {},
   "outputs": [
    {
     "name": "stdout",
     "output_type": "stream",
     "text": [
      "Number of detected contours 613\n"
     ]
    }
   ],
   "source": [
    "import os\n",
    "def create_directory(path):\n",
    "    if not os.path.exists(path):\n",
    "        os.makedirs(path)\n",
    "        \n",
    "create_directory('dataset')\n",
    "create_directory('dataset/train')\n",
    "create_directory('dataset/test')\n",
    "create_directory('dataset/train/full_rice')\n",
    "create_directory('dataset/test/full_rice')\n",
    "create_directory('dataset/train/broken_rice')\n",
    "create_directory('dataset/test/broken_rice')\n",
    "pre_process_And_Count(full, 'full_rice/full_')"
   ]
  },
  {
   "cell_type": "code",
   "execution_count": 4,
   "id": "15999500",
   "metadata": {},
   "outputs": [
    {
     "name": "stdout",
     "output_type": "stream",
     "text": [
      "Number of detected contours 526\n"
     ]
    }
   ],
   "source": [
    "pre_process_And_Count(broken, 'broken_rice/broken_')"
   ]
  },
  {
   "cell_type": "code",
   "execution_count": 5,
   "id": "fe40a93e",
   "metadata": {},
   "outputs": [
    {
     "name": "stdout",
     "output_type": "stream",
     "text": [
      "Found 797 images belonging to 2 classes.\n",
      "Found 342 images belonging to 2 classes.\n"
     ]
    }
   ],
   "source": [
    "image_size = (50,50)\n",
    "batch_size = 32\n",
    "\n",
    "train_datagen = ImageDataGenerator(\n",
    "    rescale=1. / 255,\n",
    "    shear_range=0.2,\n",
    "    zoom_range=0.2,\n",
    "    horizontal_flip=True)\n",
    "test_datagen = ImageDataGenerator(rescale=1. / 255)\n",
    "\n",
    "train_generator = train_datagen.flow_from_directory(\n",
    "    \"dataset/train\",\n",
    "    target_size=(50,50),\n",
    "    batch_size=32,\n",
    "    class_mode='binary',\n",
    "    color_mode='grayscale'\n",
    ")\n",
    "\n",
    "\n",
    "validation_generator = test_datagen.flow_from_directory(\n",
    "    \"dataset/test\",\n",
    "    target_size=(50, 50),\n",
    "    batch_size=32,\n",
    "    class_mode='binary',\n",
    "    color_mode='grayscale'\n",
    ")"
   ]
  },
  {
   "cell_type": "code",
   "execution_count": 6,
   "id": "001acb19",
   "metadata": {},
   "outputs": [
    {
     "data": {
      "text/plain": [
       "{'broken_rice': 0, 'full_rice': 1}"
      ]
     },
     "execution_count": 6,
     "metadata": {},
     "output_type": "execute_result"
    }
   ],
   "source": [
    "train_generator.class_indices"
   ]
  },
  {
   "cell_type": "code",
   "execution_count": 7,
   "id": "e9b91955",
   "metadata": {},
   "outputs": [
    {
     "data": {
      "text/plain": [
       "(32, 50, 50, 1)"
      ]
     },
     "execution_count": 7,
     "metadata": {},
     "output_type": "execute_result"
    }
   ],
   "source": [
    "a, b = next(train_generator)\n",
    "a.shape"
   ]
  },
  {
   "cell_type": "code",
   "execution_count": 8,
   "id": "a3fee0f9",
   "metadata": {},
   "outputs": [
    {
     "data": {
      "text/plain": [
       "(50, 50, 1)"
      ]
     },
     "execution_count": 8,
     "metadata": {},
     "output_type": "execute_result"
    }
   ],
   "source": [
    "img_width = 50\n",
    "img_height = 50\n",
    "\n",
    "# Check for TensorFlow or Thieno\n",
    "if K.image_data_format() == 'channels_first':\n",
    "    input_shape = (1, img_width, img_height)\n",
    "else:\n",
    "    input_shape = (img_width, img_height, 1)\n",
    "    \n",
    "input_shape"
   ]
  },
  {
   "cell_type": "code",
   "execution_count": 9,
   "id": "441bb5de",
   "metadata": {},
   "outputs": [
    {
     "name": "stderr",
     "output_type": "stream",
     "text": [
      "C:\\Users\\LAZ\\AppData\\Roaming\\Python\\Python39\\site-packages\\keras\\optimizer_v2\\optimizer_v2.py:355: UserWarning: The `lr` argument is deprecated, use `learning_rate` instead.\n",
      "  warnings.warn(\n",
      "C:\\Users\\LAZ\\AppData\\Roaming\\Python\\Python39\\site-packages\\keras\\engine\\training.py:1972: UserWarning: `Model.fit_generator` is deprecated and will be removed in a future version. Please use `Model.fit`, which supports generators.\n",
      "  warnings.warn('`Model.fit_generator` is deprecated and '\n"
     ]
    },
    {
     "name": "stdout",
     "output_type": "stream",
     "text": [
      "Epoch 1/200\n",
      "10/10 [==============================] - 3s 187ms/step - loss: 0.6854 - accuracy: 0.6031 - val_loss: 0.6518 - val_accuracy: 0.8281\n",
      "Epoch 2/200\n",
      "10/10 [==============================] - 1s 146ms/step - loss: 0.6757 - accuracy: 0.6530 - val_loss: 0.6390 - val_accuracy: 0.7188\n",
      "Epoch 3/200\n",
      "10/10 [==============================] - 1s 131ms/step - loss: 0.6510 - accuracy: 0.6972 - val_loss: 0.6566 - val_accuracy: 0.7031\n",
      "Epoch 4/200\n",
      "10/10 [==============================] - 1s 136ms/step - loss: 0.6434 - accuracy: 0.7094 - val_loss: 0.6261 - val_accuracy: 0.7031\n",
      "Epoch 5/200\n",
      "10/10 [==============================] - 1s 144ms/step - loss: 0.6351 - accuracy: 0.7035 - val_loss: 0.5525 - val_accuracy: 0.8281\n",
      "Epoch 6/200\n",
      "10/10 [==============================] - 2s 164ms/step - loss: 0.6260 - accuracy: 0.6938 - val_loss: 0.5849 - val_accuracy: 0.7969\n",
      "Epoch 7/200\n",
      "10/10 [==============================] - 1s 133ms/step - loss: 0.6185 - accuracy: 0.6909 - val_loss: 0.4919 - val_accuracy: 0.8281\n",
      "Epoch 8/200\n",
      "10/10 [==============================] - 1s 137ms/step - loss: 0.6052 - accuracy: 0.6844 - val_loss: 0.5423 - val_accuracy: 0.7969\n",
      "Epoch 9/200\n",
      "10/10 [==============================] - 2s 166ms/step - loss: 0.6202 - accuracy: 0.7250 - val_loss: 0.6028 - val_accuracy: 0.8281\n",
      "Epoch 10/200\n",
      "10/10 [==============================] - 2s 150ms/step - loss: 0.5986 - accuracy: 0.7287 - val_loss: 0.5850 - val_accuracy: 0.8281\n",
      "Epoch 11/200\n",
      "10/10 [==============================] - 2s 166ms/step - loss: 0.5720 - accuracy: 0.7666 - val_loss: 0.5138 - val_accuracy: 0.8281\n",
      "Epoch 12/200\n",
      "10/10 [==============================] - 2s 179ms/step - loss: 0.5701 - accuracy: 0.7697 - val_loss: 0.5227 - val_accuracy: 0.7812\n",
      "Epoch 13/200\n",
      "10/10 [==============================] - 2s 159ms/step - loss: 0.6278 - accuracy: 0.6751 - val_loss: 0.5075 - val_accuracy: 0.7812\n",
      "Epoch 14/200\n",
      "10/10 [==============================] - 1s 144ms/step - loss: 0.5516 - accuracy: 0.7563 - val_loss: 0.6007 - val_accuracy: 0.7188\n",
      "Epoch 15/200\n",
      "10/10 [==============================] - 1s 147ms/step - loss: 0.5377 - accuracy: 0.7844 - val_loss: 0.5311 - val_accuracy: 0.7812\n",
      "Epoch 16/200\n",
      "10/10 [==============================] - 1s 139ms/step - loss: 0.5746 - accuracy: 0.7156 - val_loss: 0.5993 - val_accuracy: 0.7656\n",
      "Epoch 17/200\n",
      "10/10 [==============================] - 1s 139ms/step - loss: 0.5298 - accuracy: 0.7697 - val_loss: 0.5954 - val_accuracy: 0.7344\n",
      "Epoch 18/200\n",
      "10/10 [==============================] - 1s 140ms/step - loss: 0.5235 - accuracy: 0.7844 - val_loss: 0.5290 - val_accuracy: 0.7656\n",
      "Epoch 19/200\n",
      "10/10 [==============================] - 2s 153ms/step - loss: 0.4990 - accuracy: 0.8265 - val_loss: 0.4329 - val_accuracy: 0.8750\n",
      "Epoch 20/200\n",
      "10/10 [==============================] - 2s 159ms/step - loss: 0.5030 - accuracy: 0.8013 - val_loss: 0.3768 - val_accuracy: 0.9062\n",
      "Epoch 21/200\n",
      "10/10 [==============================] - 2s 171ms/step - loss: 0.5077 - accuracy: 0.7781 - val_loss: 0.5219 - val_accuracy: 0.8125\n",
      "Epoch 22/200\n",
      "10/10 [==============================] - 2s 181ms/step - loss: 0.5229 - accuracy: 0.7594 - val_loss: 0.4663 - val_accuracy: 0.8125\n",
      "Epoch 23/200\n",
      "10/10 [==============================] - 2s 162ms/step - loss: 0.5051 - accuracy: 0.7688 - val_loss: 0.5588 - val_accuracy: 0.7812\n",
      "Epoch 24/200\n",
      "10/10 [==============================] - 2s 169ms/step - loss: 0.5304 - accuracy: 0.7625 - val_loss: 0.3963 - val_accuracy: 0.8906\n",
      "Epoch 25/200\n",
      "10/10 [==============================] - 2s 197ms/step - loss: 0.5191 - accuracy: 0.7634 - val_loss: 0.4470 - val_accuracy: 0.8125\n",
      "Epoch 26/200\n",
      "10/10 [==============================] - 2s 161ms/step - loss: 0.5015 - accuracy: 0.7937 - val_loss: 0.5881 - val_accuracy: 0.7500\n",
      "Epoch 27/200\n",
      "10/10 [==============================] - 2s 166ms/step - loss: 0.5307 - accuracy: 0.7531 - val_loss: 0.4122 - val_accuracy: 0.8906\n",
      "Epoch 28/200\n",
      "10/10 [==============================] - 2s 153ms/step - loss: 0.4919 - accuracy: 0.7781 - val_loss: 0.4517 - val_accuracy: 0.8594\n",
      "Epoch 29/200\n",
      "10/10 [==============================] - 2s 157ms/step - loss: 0.4882 - accuracy: 0.8094 - val_loss: 0.4670 - val_accuracy: 0.8281\n",
      "Epoch 30/200\n",
      "10/10 [==============================] - 1s 147ms/step - loss: 0.4915 - accuracy: 0.7812 - val_loss: 0.5046 - val_accuracy: 0.7969\n",
      "Epoch 31/200\n",
      "10/10 [==============================] - 1s 144ms/step - loss: 0.4974 - accuracy: 0.7781 - val_loss: 0.4223 - val_accuracy: 0.8438\n",
      "Epoch 32/200\n",
      "10/10 [==============================] - 1s 146ms/step - loss: 0.4933 - accuracy: 0.7886 - val_loss: 0.3379 - val_accuracy: 0.8750\n",
      "Epoch 33/200\n",
      "10/10 [==============================] - 1s 144ms/step - loss: 0.4789 - accuracy: 0.7937 - val_loss: 0.4772 - val_accuracy: 0.7969\n",
      "Epoch 34/200\n",
      "10/10 [==============================] - 1s 138ms/step - loss: 0.5259 - accuracy: 0.7666 - val_loss: 0.5619 - val_accuracy: 0.7500\n",
      "Epoch 35/200\n",
      "10/10 [==============================] - 1s 150ms/step - loss: 0.4814 - accuracy: 0.7750 - val_loss: 0.5365 - val_accuracy: 0.7344\n",
      "Epoch 36/200\n",
      "10/10 [==============================] - 2s 151ms/step - loss: 0.5069 - accuracy: 0.7634 - val_loss: 0.3668 - val_accuracy: 0.8750\n",
      "Epoch 37/200\n",
      "10/10 [==============================] - 2s 189ms/step - loss: 0.4533 - accuracy: 0.8062 - val_loss: 0.4367 - val_accuracy: 0.8281\n",
      "Epoch 38/200\n",
      "10/10 [==============================] - 2s 156ms/step - loss: 0.4906 - accuracy: 0.7906 - val_loss: 0.4391 - val_accuracy: 0.8594\n",
      "Epoch 39/200\n",
      "10/10 [==============================] - 2s 171ms/step - loss: 0.4715 - accuracy: 0.7812 - val_loss: 0.3705 - val_accuracy: 0.8281\n",
      "Epoch 40/200\n",
      "10/10 [==============================] - 1s 146ms/step - loss: 0.4696 - accuracy: 0.8062 - val_loss: 0.4310 - val_accuracy: 0.8281\n",
      "Epoch 41/200\n",
      "10/10 [==============================] - 2s 148ms/step - loss: 0.4480 - accuracy: 0.8076 - val_loss: 0.4502 - val_accuracy: 0.8125\n",
      "Epoch 42/200\n",
      "10/10 [==============================] - 1s 139ms/step - loss: 0.4890 - accuracy: 0.7906 - val_loss: 0.5382 - val_accuracy: 0.7969\n",
      "Epoch 43/200\n",
      "10/10 [==============================] - 1s 141ms/step - loss: 0.4926 - accuracy: 0.7750 - val_loss: 0.5344 - val_accuracy: 0.7500\n",
      "Epoch 44/200\n",
      "10/10 [==============================] - 2s 159ms/step - loss: 0.5089 - accuracy: 0.7666 - val_loss: 0.4379 - val_accuracy: 0.7969\n",
      "Epoch 45/200\n",
      "10/10 [==============================] - 2s 152ms/step - loss: 0.5050 - accuracy: 0.7500 - val_loss: 0.4047 - val_accuracy: 0.7812\n",
      "Epoch 46/200\n",
      "10/10 [==============================] - 1s 140ms/step - loss: 0.4448 - accuracy: 0.8094 - val_loss: 0.5297 - val_accuracy: 0.7969\n",
      "Epoch 47/200\n",
      "10/10 [==============================] - 1s 138ms/step - loss: 0.4627 - accuracy: 0.7812 - val_loss: 0.5278 - val_accuracy: 0.7812\n",
      "Epoch 48/200\n",
      "10/10 [==============================] - 1s 145ms/step - loss: 0.4457 - accuracy: 0.8188 - val_loss: 0.4324 - val_accuracy: 0.7969\n",
      "Epoch 49/200\n",
      "10/10 [==============================] - 1s 142ms/step - loss: 0.4676 - accuracy: 0.8000 - val_loss: 0.4889 - val_accuracy: 0.8125\n",
      "Epoch 50/200\n",
      "10/10 [==============================] - 1s 138ms/step - loss: 0.4505 - accuracy: 0.7969 - val_loss: 0.4069 - val_accuracy: 0.8125\n",
      "Epoch 51/200\n",
      "10/10 [==============================] - 1s 143ms/step - loss: 0.4827 - accuracy: 0.7760 - val_loss: 0.3619 - val_accuracy: 0.8750\n",
      "Epoch 52/200\n",
      "10/10 [==============================] - 1s 138ms/step - loss: 0.4663 - accuracy: 0.7969 - val_loss: 0.4998 - val_accuracy: 0.7500\n",
      "Epoch 53/200\n",
      "10/10 [==============================] - 1s 137ms/step - loss: 0.4569 - accuracy: 0.8013 - val_loss: 0.3308 - val_accuracy: 0.8750\n",
      "Epoch 54/200\n",
      "10/10 [==============================] - 1s 139ms/step - loss: 0.4495 - accuracy: 0.7875 - val_loss: 0.5663 - val_accuracy: 0.7188\n",
      "Epoch 55/200\n",
      "10/10 [==============================] - 2s 161ms/step - loss: 0.4591 - accuracy: 0.7937 - val_loss: 0.5257 - val_accuracy: 0.7812\n",
      "Epoch 56/200\n",
      "10/10 [==============================] - 2s 172ms/step - loss: 0.4735 - accuracy: 0.7886 - val_loss: 0.4970 - val_accuracy: 0.8281\n",
      "Epoch 57/200\n",
      "10/10 [==============================] - 2s 154ms/step - loss: 0.4055 - accuracy: 0.8265 - val_loss: 0.3656 - val_accuracy: 0.8750\n"
     ]
    },
    {
     "name": "stdout",
     "output_type": "stream",
     "text": [
      "Epoch 58/200\n",
      "10/10 [==============================] - 1s 147ms/step - loss: 0.4592 - accuracy: 0.7812 - val_loss: 0.4774 - val_accuracy: 0.7812\n",
      "Epoch 59/200\n",
      "10/10 [==============================] - 2s 160ms/step - loss: 0.4601 - accuracy: 0.7886 - val_loss: 0.5917 - val_accuracy: 0.7656\n",
      "Epoch 60/200\n",
      "10/10 [==============================] - 2s 147ms/step - loss: 0.4649 - accuracy: 0.7855 - val_loss: 0.4697 - val_accuracy: 0.7656\n",
      "Epoch 61/200\n",
      "10/10 [==============================] - 2s 205ms/step - loss: 0.4278 - accuracy: 0.8094 - val_loss: 0.4120 - val_accuracy: 0.8281\n",
      "Epoch 62/200\n",
      "10/10 [==============================] - 2s 183ms/step - loss: 0.4951 - accuracy: 0.7625 - val_loss: 0.5856 - val_accuracy: 0.7500\n",
      "Epoch 63/200\n",
      "10/10 [==============================] - 2s 156ms/step - loss: 0.4163 - accuracy: 0.8281 - val_loss: 0.4900 - val_accuracy: 0.8125\n",
      "Epoch 64/200\n",
      "10/10 [==============================] - 2s 187ms/step - loss: 0.4316 - accuracy: 0.8170 - val_loss: 0.5257 - val_accuracy: 0.7812\n",
      "Epoch 65/200\n",
      "10/10 [==============================] - 2s 177ms/step - loss: 0.4934 - accuracy: 0.7656 - val_loss: 0.4109 - val_accuracy: 0.8281\n",
      "Epoch 66/200\n",
      "10/10 [==============================] - 2s 179ms/step - loss: 0.4511 - accuracy: 0.7855 - val_loss: 0.4587 - val_accuracy: 0.8125\n",
      "Epoch 67/200\n",
      "10/10 [==============================] - 2s 174ms/step - loss: 0.4527 - accuracy: 0.7969 - val_loss: 0.3076 - val_accuracy: 0.9375\n",
      "Epoch 68/200\n",
      "10/10 [==============================] - 2s 153ms/step - loss: 0.4462 - accuracy: 0.8000 - val_loss: 0.4804 - val_accuracy: 0.7812\n",
      "Epoch 69/200\n",
      "10/10 [==============================] - 2s 155ms/step - loss: 0.4261 - accuracy: 0.7844 - val_loss: 0.6008 - val_accuracy: 0.7031\n",
      "Epoch 70/200\n",
      "10/10 [==============================] - 2s 157ms/step - loss: 0.4386 - accuracy: 0.8031 - val_loss: 0.6716 - val_accuracy: 0.6875\n",
      "Epoch 71/200\n",
      "10/10 [==============================] - 2s 155ms/step - loss: 0.4388 - accuracy: 0.8107 - val_loss: 0.5620 - val_accuracy: 0.7500\n",
      "Epoch 72/200\n",
      "10/10 [==============================] - 2s 159ms/step - loss: 0.4584 - accuracy: 0.7886 - val_loss: 0.5559 - val_accuracy: 0.7812\n",
      "Epoch 73/200\n",
      "10/10 [==============================] - 1s 147ms/step - loss: 0.4602 - accuracy: 0.8062 - val_loss: 0.3660 - val_accuracy: 0.8594\n",
      "Epoch 74/200\n",
      "10/10 [==============================] - 2s 151ms/step - loss: 0.4176 - accuracy: 0.8000 - val_loss: 0.2856 - val_accuracy: 0.9062\n",
      "Epoch 75/200\n",
      "10/10 [==============================] - 2s 176ms/step - loss: 0.4559 - accuracy: 0.7823 - val_loss: 0.4207 - val_accuracy: 0.8125\n",
      "Epoch 76/200\n",
      "10/10 [==============================] - 2s 178ms/step - loss: 0.4380 - accuracy: 0.7906 - val_loss: 0.5267 - val_accuracy: 0.7031\n",
      "Epoch 77/200\n",
      "10/10 [==============================] - 2s 152ms/step - loss: 0.4328 - accuracy: 0.7760 - val_loss: 0.4186 - val_accuracy: 0.8125\n",
      "Epoch 78/200\n",
      "10/10 [==============================] - 2s 159ms/step - loss: 0.4374 - accuracy: 0.8031 - val_loss: 0.4234 - val_accuracy: 0.8125\n",
      "Epoch 79/200\n",
      "10/10 [==============================] - 2s 156ms/step - loss: 0.4013 - accuracy: 0.8233 - val_loss: 0.5038 - val_accuracy: 0.7812\n",
      "Epoch 80/200\n",
      "10/10 [==============================] - 2s 155ms/step - loss: 0.4372 - accuracy: 0.8139 - val_loss: 0.5710 - val_accuracy: 0.7812\n",
      "Epoch 81/200\n",
      "10/10 [==============================] - 1s 146ms/step - loss: 0.4535 - accuracy: 0.7792 - val_loss: 0.5117 - val_accuracy: 0.7812\n",
      "Epoch 82/200\n",
      "10/10 [==============================] - 2s 166ms/step - loss: 0.4252 - accuracy: 0.7918 - val_loss: 0.4768 - val_accuracy: 0.7812\n",
      "Epoch 83/200\n",
      "10/10 [==============================] - 1s 131ms/step - loss: 0.4217 - accuracy: 0.7981 - val_loss: 0.5054 - val_accuracy: 0.8281\n",
      "Epoch 84/200\n",
      "10/10 [==============================] - 1s 128ms/step - loss: 0.4734 - accuracy: 0.7760 - val_loss: 0.4208 - val_accuracy: 0.8594\n",
      "Epoch 85/200\n",
      "10/10 [==============================] - 1s 143ms/step - loss: 0.4242 - accuracy: 0.8107 - val_loss: 0.4329 - val_accuracy: 0.8281\n",
      "Epoch 86/200\n",
      "10/10 [==============================] - 2s 161ms/step - loss: 0.4683 - accuracy: 0.7855 - val_loss: 0.5398 - val_accuracy: 0.7656\n",
      "Epoch 87/200\n",
      "10/10 [==============================] - 1s 129ms/step - loss: 0.4299 - accuracy: 0.8013 - val_loss: 0.5605 - val_accuracy: 0.7188\n",
      "Epoch 88/200\n",
      "10/10 [==============================] - 1s 132ms/step - loss: 0.4198 - accuracy: 0.8062 - val_loss: 0.3915 - val_accuracy: 0.8125\n",
      "Epoch 89/200\n",
      "10/10 [==============================] - 1s 142ms/step - loss: 0.4281 - accuracy: 0.8000 - val_loss: 0.4817 - val_accuracy: 0.8438\n",
      "Epoch 90/200\n",
      "10/10 [==============================] - 1s 145ms/step - loss: 0.4393 - accuracy: 0.8076 - val_loss: 0.5691 - val_accuracy: 0.7656\n",
      "Epoch 91/200\n",
      "10/10 [==============================] - 2s 151ms/step - loss: 0.3749 - accuracy: 0.8423 - val_loss: 0.5116 - val_accuracy: 0.7812\n",
      "Epoch 92/200\n",
      "10/10 [==============================] - 2s 160ms/step - loss: 0.4168 - accuracy: 0.8250 - val_loss: 0.3815 - val_accuracy: 0.8125\n",
      "Epoch 93/200\n",
      "10/10 [==============================] - 1s 141ms/step - loss: 0.4268 - accuracy: 0.7937 - val_loss: 0.4907 - val_accuracy: 0.8125\n",
      "Epoch 94/200\n",
      "10/10 [==============================] - 1s 140ms/step - loss: 0.4056 - accuracy: 0.8000 - val_loss: 0.4049 - val_accuracy: 0.8438\n",
      "Epoch 95/200\n",
      "10/10 [==============================] - 2s 162ms/step - loss: 0.3857 - accuracy: 0.8328 - val_loss: 0.3922 - val_accuracy: 0.8125\n",
      "Epoch 96/200\n",
      "10/10 [==============================] - 2s 160ms/step - loss: 0.3862 - accuracy: 0.8281 - val_loss: 0.4112 - val_accuracy: 0.8281\n",
      "Epoch 97/200\n",
      "10/10 [==============================] - 1s 145ms/step - loss: 0.4294 - accuracy: 0.8013 - val_loss: 0.2882 - val_accuracy: 0.8906\n",
      "Epoch 98/200\n",
      "10/10 [==============================] - 1s 136ms/step - loss: 0.4498 - accuracy: 0.7750 - val_loss: 0.3971 - val_accuracy: 0.8281\n",
      "Epoch 99/200\n",
      "10/10 [==============================] - 1s 137ms/step - loss: 0.4214 - accuracy: 0.8107 - val_loss: 0.4826 - val_accuracy: 0.8125\n",
      "Epoch 100/200\n",
      "10/10 [==============================] - 1s 130ms/step - loss: 0.4362 - accuracy: 0.8094 - val_loss: 0.3675 - val_accuracy: 0.8438\n",
      "Epoch 101/200\n",
      "10/10 [==============================] - 2s 150ms/step - loss: 0.3776 - accuracy: 0.8328 - val_loss: 0.4209 - val_accuracy: 0.8281\n",
      "Epoch 102/200\n",
      "10/10 [==============================] - 1s 139ms/step - loss: 0.3952 - accuracy: 0.8250 - val_loss: 0.4328 - val_accuracy: 0.8281\n",
      "Epoch 103/200\n",
      "10/10 [==============================] - 2s 156ms/step - loss: 0.4235 - accuracy: 0.8094 - val_loss: 0.5245 - val_accuracy: 0.7812\n",
      "Epoch 104/200\n",
      "10/10 [==============================] - 2s 161ms/step - loss: 0.3996 - accuracy: 0.8170 - val_loss: 0.5025 - val_accuracy: 0.8125\n",
      "Epoch 105/200\n",
      "10/10 [==============================] - 1s 139ms/step - loss: 0.4183 - accuracy: 0.8139 - val_loss: 0.3155 - val_accuracy: 0.8906\n",
      "Epoch 106/200\n",
      "10/10 [==============================] - 1s 136ms/step - loss: 0.4280 - accuracy: 0.8076 - val_loss: 0.5644 - val_accuracy: 0.8125\n",
      "Epoch 107/200\n",
      "10/10 [==============================] - 2s 151ms/step - loss: 0.3812 - accuracy: 0.8328 - val_loss: 0.5209 - val_accuracy: 0.7969\n",
      "Epoch 108/200\n",
      "10/10 [==============================] - 2s 154ms/step - loss: 0.4083 - accuracy: 0.8219 - val_loss: 0.3238 - val_accuracy: 0.8438\n",
      "Epoch 109/200\n",
      "10/10 [==============================] - 1s 135ms/step - loss: 0.4283 - accuracy: 0.8107 - val_loss: 0.4865 - val_accuracy: 0.7812\n",
      "Epoch 110/200\n",
      "10/10 [==============================] - 1s 132ms/step - loss: 0.4215 - accuracy: 0.8107 - val_loss: 0.6246 - val_accuracy: 0.7188\n",
      "Epoch 111/200\n",
      "10/10 [==============================] - 1s 131ms/step - loss: 0.4590 - accuracy: 0.8062 - val_loss: 0.5016 - val_accuracy: 0.7812\n",
      "Epoch 112/200\n",
      "10/10 [==============================] - 1s 131ms/step - loss: 0.4278 - accuracy: 0.8062 - val_loss: 0.5010 - val_accuracy: 0.7812\n",
      "Epoch 113/200\n",
      "10/10 [==============================] - 1s 130ms/step - loss: 0.4178 - accuracy: 0.8076 - val_loss: 0.4016 - val_accuracy: 0.8281\n",
      "Epoch 114/200\n",
      "10/10 [==============================] - 1s 139ms/step - loss: 0.4038 - accuracy: 0.8076 - val_loss: 0.6315 - val_accuracy: 0.7344\n"
     ]
    },
    {
     "name": "stdout",
     "output_type": "stream",
     "text": [
      "Epoch 115/200\n",
      "10/10 [==============================] - 1s 130ms/step - loss: 0.4314 - accuracy: 0.8156 - val_loss: 0.3934 - val_accuracy: 0.8594\n",
      "Epoch 116/200\n",
      "10/10 [==============================] - 1s 136ms/step - loss: 0.4073 - accuracy: 0.8344 - val_loss: 0.4951 - val_accuracy: 0.7812\n",
      "Epoch 117/200\n",
      "10/10 [==============================] - 1s 131ms/step - loss: 0.3789 - accuracy: 0.8549 - val_loss: 0.4048 - val_accuracy: 0.8438\n",
      "Epoch 118/200\n",
      "10/10 [==============================] - 1s 135ms/step - loss: 0.4464 - accuracy: 0.8031 - val_loss: 0.5382 - val_accuracy: 0.7500\n",
      "Epoch 119/200\n",
      "10/10 [==============================] - 2s 160ms/step - loss: 0.4214 - accuracy: 0.8250 - val_loss: 0.4703 - val_accuracy: 0.8125\n",
      "Epoch 120/200\n",
      "10/10 [==============================] - 2s 180ms/step - loss: 0.4275 - accuracy: 0.8013 - val_loss: 0.5745 - val_accuracy: 0.7969\n",
      "Epoch 121/200\n",
      "10/10 [==============================] - 2s 153ms/step - loss: 0.4389 - accuracy: 0.8076 - val_loss: 0.6998 - val_accuracy: 0.7812\n",
      "Epoch 122/200\n",
      "10/10 [==============================] - 2s 166ms/step - loss: 0.4077 - accuracy: 0.8281 - val_loss: 0.5896 - val_accuracy: 0.7656\n",
      "Epoch 123/200\n",
      "10/10 [==============================] - 1s 135ms/step - loss: 0.4142 - accuracy: 0.8188 - val_loss: 0.4719 - val_accuracy: 0.8125\n",
      "Epoch 124/200\n",
      "10/10 [==============================] - 2s 161ms/step - loss: 0.4623 - accuracy: 0.7634 - val_loss: 0.4037 - val_accuracy: 0.8281\n",
      "Epoch 125/200\n",
      "10/10 [==============================] - 2s 172ms/step - loss: 0.4052 - accuracy: 0.8062 - val_loss: 0.5414 - val_accuracy: 0.7500\n",
      "Epoch 126/200\n",
      "10/10 [==============================] - 2s 164ms/step - loss: 0.3992 - accuracy: 0.8360 - val_loss: 0.5433 - val_accuracy: 0.7656\n",
      "Epoch 127/200\n",
      "10/10 [==============================] - 2s 153ms/step - loss: 0.4341 - accuracy: 0.8031 - val_loss: 0.3683 - val_accuracy: 0.8438\n",
      "Epoch 128/200\n",
      "10/10 [==============================] - 2s 180ms/step - loss: 0.3835 - accuracy: 0.8139 - val_loss: 0.4304 - val_accuracy: 0.7812\n",
      "Epoch 129/200\n",
      "10/10 [==============================] - 2s 174ms/step - loss: 0.3906 - accuracy: 0.8423 - val_loss: 0.6268 - val_accuracy: 0.7344\n",
      "Epoch 130/200\n",
      "10/10 [==============================] - 2s 173ms/step - loss: 0.4052 - accuracy: 0.8438 - val_loss: 0.5349 - val_accuracy: 0.7500\n",
      "Epoch 131/200\n",
      "10/10 [==============================] - 2s 153ms/step - loss: 0.4336 - accuracy: 0.8188 - val_loss: 0.5192 - val_accuracy: 0.7969\n",
      "Epoch 132/200\n",
      "10/10 [==============================] - 2s 167ms/step - loss: 0.4122 - accuracy: 0.8265 - val_loss: 0.5995 - val_accuracy: 0.7656\n",
      "Epoch 133/200\n",
      "10/10 [==============================] - 1s 139ms/step - loss: 0.4129 - accuracy: 0.8313 - val_loss: 0.5234 - val_accuracy: 0.7969\n",
      "Epoch 134/200\n",
      "10/10 [==============================] - 2s 152ms/step - loss: 0.4033 - accuracy: 0.8281 - val_loss: 0.5370 - val_accuracy: 0.7656\n",
      "Epoch 135/200\n",
      "10/10 [==============================] - 2s 172ms/step - loss: 0.4067 - accuracy: 0.8000 - val_loss: 0.5403 - val_accuracy: 0.8125\n",
      "Epoch 136/200\n",
      "10/10 [==============================] - 2s 170ms/step - loss: 0.3844 - accuracy: 0.8594 - val_loss: 0.3766 - val_accuracy: 0.8438\n",
      "Epoch 137/200\n",
      "10/10 [==============================] - 2s 155ms/step - loss: 0.4174 - accuracy: 0.8094 - val_loss: 0.6192 - val_accuracy: 0.7500\n",
      "Epoch 138/200\n",
      "10/10 [==============================] - 2s 178ms/step - loss: 0.4216 - accuracy: 0.8094 - val_loss: 0.4277 - val_accuracy: 0.7812\n",
      "Epoch 139/200\n",
      "10/10 [==============================] - 2s 175ms/step - loss: 0.3770 - accuracy: 0.8469 - val_loss: 0.4701 - val_accuracy: 0.7969\n",
      "Epoch 140/200\n",
      "10/10 [==============================] - 2s 180ms/step - loss: 0.4028 - accuracy: 0.8265 - val_loss: 0.4832 - val_accuracy: 0.8125\n",
      "Epoch 141/200\n",
      "10/10 [==============================] - 2s 190ms/step - loss: 0.4016 - accuracy: 0.8423 - val_loss: 0.5759 - val_accuracy: 0.7500\n",
      "Epoch 142/200\n",
      "10/10 [==============================] - 2s 155ms/step - loss: 0.4162 - accuracy: 0.8125 - val_loss: 0.3740 - val_accuracy: 0.8594\n",
      "Epoch 143/200\n",
      "10/10 [==============================] - 2s 158ms/step - loss: 0.4074 - accuracy: 0.8219 - val_loss: 0.4615 - val_accuracy: 0.7969\n",
      "Epoch 144/200\n",
      "10/10 [==============================] - 2s 157ms/step - loss: 0.3709 - accuracy: 0.8500 - val_loss: 0.4261 - val_accuracy: 0.8125\n",
      "Epoch 145/200\n",
      "10/10 [==============================] - 2s 174ms/step - loss: 0.4088 - accuracy: 0.8438 - val_loss: 0.5919 - val_accuracy: 0.7656\n",
      "Epoch 146/200\n",
      "10/10 [==============================] - 2s 172ms/step - loss: 0.4080 - accuracy: 0.8328 - val_loss: 0.4177 - val_accuracy: 0.8125\n",
      "Epoch 147/200\n",
      "10/10 [==============================] - 2s 168ms/step - loss: 0.3797 - accuracy: 0.8469 - val_loss: 0.6275 - val_accuracy: 0.7812\n",
      "Epoch 148/200\n",
      "10/10 [==============================] - 1s 134ms/step - loss: 0.4250 - accuracy: 0.8202 - val_loss: 0.5456 - val_accuracy: 0.7812\n",
      "Epoch 149/200\n",
      "10/10 [==============================] - 1s 131ms/step - loss: 0.3958 - accuracy: 0.8250 - val_loss: 0.4857 - val_accuracy: 0.8281\n",
      "Epoch 150/200\n",
      "10/10 [==============================] - 1s 149ms/step - loss: 0.3854 - accuracy: 0.8406 - val_loss: 0.4574 - val_accuracy: 0.7812\n",
      "Epoch 151/200\n",
      "10/10 [==============================] - 2s 168ms/step - loss: 0.3863 - accuracy: 0.8517 - val_loss: 0.4910 - val_accuracy: 0.8281\n",
      "Epoch 152/200\n",
      "10/10 [==============================] - 1s 134ms/step - loss: 0.4085 - accuracy: 0.8031 - val_loss: 0.5080 - val_accuracy: 0.7344\n",
      "Epoch 153/200\n",
      "10/10 [==============================] - 1s 131ms/step - loss: 0.3801 - accuracy: 0.8423 - val_loss: 0.4221 - val_accuracy: 0.7969\n",
      "Epoch 154/200\n",
      "10/10 [==============================] - 1s 137ms/step - loss: 0.4182 - accuracy: 0.8094 - val_loss: 0.4061 - val_accuracy: 0.8594\n",
      "Epoch 155/200\n",
      "10/10 [==============================] - 1s 138ms/step - loss: 0.3970 - accuracy: 0.8265 - val_loss: 0.4959 - val_accuracy: 0.7656\n",
      "Epoch 156/200\n",
      "10/10 [==============================] - 2s 164ms/step - loss: 0.4055 - accuracy: 0.8344 - val_loss: 0.2928 - val_accuracy: 0.8906\n",
      "Epoch 157/200\n",
      "10/10 [==============================] - 2s 168ms/step - loss: 0.3899 - accuracy: 0.8265 - val_loss: 0.6691 - val_accuracy: 0.7031\n",
      "Epoch 158/200\n",
      "10/10 [==============================] - 2s 174ms/step - loss: 0.4361 - accuracy: 0.8156 - val_loss: 0.3985 - val_accuracy: 0.8281\n",
      "Epoch 159/200\n",
      "10/10 [==============================] - 2s 171ms/step - loss: 0.3838 - accuracy: 0.8687 - val_loss: 0.6315 - val_accuracy: 0.7969\n",
      "Epoch 160/200\n",
      "10/10 [==============================] - 2s 159ms/step - loss: 0.3750 - accuracy: 0.8423 - val_loss: 0.3741 - val_accuracy: 0.8281\n",
      "Epoch 161/200\n",
      "10/10 [==============================] - 2s 160ms/step - loss: 0.3742 - accuracy: 0.8107 - val_loss: 0.3954 - val_accuracy: 0.8750\n",
      "Epoch 162/200\n",
      "10/10 [==============================] - 2s 153ms/step - loss: 0.3792 - accuracy: 0.8423 - val_loss: 0.4032 - val_accuracy: 0.8281\n",
      "Epoch 163/200\n",
      "10/10 [==============================] - 1s 135ms/step - loss: 0.4325 - accuracy: 0.8219 - val_loss: 0.6355 - val_accuracy: 0.7344\n",
      "Epoch 164/200\n",
      "10/10 [==============================] - 1s 135ms/step - loss: 0.3483 - accuracy: 0.8500 - val_loss: 0.4566 - val_accuracy: 0.8125\n",
      "Epoch 165/200\n",
      "10/10 [==============================] - 2s 150ms/step - loss: 0.3518 - accuracy: 0.8580 - val_loss: 0.4858 - val_accuracy: 0.7969\n",
      "Epoch 166/200\n",
      "10/10 [==============================] - 1s 144ms/step - loss: 0.4231 - accuracy: 0.8125 - val_loss: 0.7073 - val_accuracy: 0.7344\n",
      "Epoch 167/200\n",
      "10/10 [==============================] - 1s 130ms/step - loss: 0.3877 - accuracy: 0.8344 - val_loss: 0.4539 - val_accuracy: 0.8594\n",
      "Epoch 168/200\n",
      "10/10 [==============================] - 1s 135ms/step - loss: 0.3579 - accuracy: 0.8531 - val_loss: 0.6096 - val_accuracy: 0.7500\n",
      "Epoch 169/200\n",
      "10/10 [==============================] - 1s 131ms/step - loss: 0.4106 - accuracy: 0.8391 - val_loss: 0.4473 - val_accuracy: 0.8125\n",
      "Epoch 170/200\n",
      "10/10 [==============================] - 1s 137ms/step - loss: 0.3737 - accuracy: 0.8438 - val_loss: 0.4117 - val_accuracy: 0.8438\n",
      "Epoch 171/200\n"
     ]
    },
    {
     "name": "stdout",
     "output_type": "stream",
     "text": [
      "10/10 [==============================] - 1s 126ms/step - loss: 0.3735 - accuracy: 0.8612 - val_loss: 0.3400 - val_accuracy: 0.8594\n",
      "Epoch 172/200\n",
      "10/10 [==============================] - 1s 126ms/step - loss: 0.3978 - accuracy: 0.8188 - val_loss: 0.4259 - val_accuracy: 0.8750\n",
      "Epoch 173/200\n",
      "10/10 [==============================] - 1s 135ms/step - loss: 0.4012 - accuracy: 0.8281 - val_loss: 0.5495 - val_accuracy: 0.7969\n",
      "Epoch 174/200\n",
      "10/10 [==============================] - 1s 134ms/step - loss: 0.3908 - accuracy: 0.8486 - val_loss: 0.5964 - val_accuracy: 0.7969\n",
      "Epoch 175/200\n",
      "10/10 [==============================] - 1s 134ms/step - loss: 0.4004 - accuracy: 0.8360 - val_loss: 0.6314 - val_accuracy: 0.7031\n",
      "Epoch 176/200\n",
      "10/10 [==============================] - 2s 189ms/step - loss: 0.3617 - accuracy: 0.8517 - val_loss: 0.4597 - val_accuracy: 0.8750\n",
      "Epoch 177/200\n",
      "10/10 [==============================] - 2s 167ms/step - loss: 0.3571 - accuracy: 0.8531 - val_loss: 0.5121 - val_accuracy: 0.7969\n",
      "Epoch 178/200\n",
      "10/10 [==============================] - 2s 160ms/step - loss: 0.4007 - accuracy: 0.8360 - val_loss: 0.4923 - val_accuracy: 0.8438\n",
      "Epoch 179/200\n",
      "10/10 [==============================] - 2s 158ms/step - loss: 0.3603 - accuracy: 0.8594 - val_loss: 0.5068 - val_accuracy: 0.7969\n",
      "Epoch 180/200\n",
      "10/10 [==============================] - 2s 159ms/step - loss: 0.3452 - accuracy: 0.8594 - val_loss: 0.6391 - val_accuracy: 0.7344\n",
      "Epoch 181/200\n",
      "10/10 [==============================] - 1s 128ms/step - loss: 0.3986 - accuracy: 0.8297 - val_loss: 0.4739 - val_accuracy: 0.8125\n",
      "Epoch 182/200\n",
      "10/10 [==============================] - 2s 154ms/step - loss: 0.3727 - accuracy: 0.8281 - val_loss: 0.5903 - val_accuracy: 0.7344\n",
      "Epoch 183/200\n",
      "10/10 [==============================] - 2s 162ms/step - loss: 0.3826 - accuracy: 0.8360 - val_loss: 0.3799 - val_accuracy: 0.8750\n",
      "Epoch 184/200\n",
      "10/10 [==============================] - 2s 153ms/step - loss: 0.3550 - accuracy: 0.8517 - val_loss: 0.3185 - val_accuracy: 0.8438\n",
      "Epoch 185/200\n",
      "10/10 [==============================] - 2s 169ms/step - loss: 0.3273 - accuracy: 0.8738 - val_loss: 0.4631 - val_accuracy: 0.8281\n",
      "Epoch 186/200\n",
      "10/10 [==============================] - 2s 165ms/step - loss: 0.3862 - accuracy: 0.8391 - val_loss: 0.5049 - val_accuracy: 0.7969\n",
      "Epoch 187/200\n",
      "10/10 [==============================] - 2s 156ms/step - loss: 0.3700 - accuracy: 0.8313 - val_loss: 0.5847 - val_accuracy: 0.7969\n",
      "Epoch 188/200\n",
      "10/10 [==============================] - 2s 155ms/step - loss: 0.3569 - accuracy: 0.8594 - val_loss: 0.4748 - val_accuracy: 0.8125\n",
      "Epoch 189/200\n",
      "10/10 [==============================] - 1s 142ms/step - loss: 0.3539 - accuracy: 0.8438 - val_loss: 0.5932 - val_accuracy: 0.7656\n",
      "Epoch 190/200\n",
      "10/10 [==============================] - 2s 153ms/step - loss: 0.3468 - accuracy: 0.8562 - val_loss: 0.5734 - val_accuracy: 0.7812\n",
      "Epoch 191/200\n",
      "10/10 [==============================] - 2s 173ms/step - loss: 0.3323 - accuracy: 0.8656 - val_loss: 0.5626 - val_accuracy: 0.7500\n",
      "Epoch 192/200\n",
      "10/10 [==============================] - 1s 142ms/step - loss: 0.3767 - accuracy: 0.8625 - val_loss: 0.4946 - val_accuracy: 0.7969\n",
      "Epoch 193/200\n",
      "10/10 [==============================] - 1s 138ms/step - loss: 0.3553 - accuracy: 0.8391 - val_loss: 0.3704 - val_accuracy: 0.8750\n",
      "Epoch 194/200\n",
      "10/10 [==============================] - 1s 134ms/step - loss: 0.4022 - accuracy: 0.8188 - val_loss: 0.4640 - val_accuracy: 0.8438\n",
      "Epoch 195/200\n",
      "10/10 [==============================] - 2s 159ms/step - loss: 0.3529 - accuracy: 0.8500 - val_loss: 0.3712 - val_accuracy: 0.8594\n",
      "Epoch 196/200\n",
      "10/10 [==============================] - 2s 170ms/step - loss: 0.3507 - accuracy: 0.8594 - val_loss: 0.5170 - val_accuracy: 0.7656\n",
      "Epoch 197/200\n",
      "10/10 [==============================] - 2s 155ms/step - loss: 0.4266 - accuracy: 0.8094 - val_loss: 0.5390 - val_accuracy: 0.7500\n",
      "Epoch 198/200\n",
      "10/10 [==============================] - 1s 143ms/step - loss: 0.3601 - accuracy: 0.8500 - val_loss: 0.4637 - val_accuracy: 0.7812\n",
      "Epoch 199/200\n",
      "10/10 [==============================] - 1s 146ms/step - loss: 0.4020 - accuracy: 0.8188 - val_loss: 0.4570 - val_accuracy: 0.8438\n",
      "Epoch 200/200\n",
      "10/10 [==============================] - 1s 143ms/step - loss: 0.3571 - accuracy: 0.8454 - val_loss: 0.5446 - val_accuracy: 0.7500\n"
     ]
    }
   ],
   "source": [
    "model = Sequential()\n",
    "\n",
    "model.add(Conv2D(64, (3, 3), input_shape=input_shape))\n",
    "model.add(Activation('relu'))\n",
    "model.add(MaxPooling2D(pool_size=(2, 2)))\n",
    "\n",
    "model.add(Conv2D(128, (3, 3)))\n",
    "model.add(Activation('relu'))\n",
    "model.add(MaxPooling2D(pool_size=(2, 2)))\n",
    "\n",
    "model.add(Flatten())\n",
    "\n",
    "model.add(Dense(128))\n",
    "model.add(Activation('relu'))\n",
    "model.add(Dense(1))\n",
    "model.add(Activation('sigmoid'))\n",
    "\n",
    "import tensorflow as tf\n",
    "from tensorflow import keras\n",
    "from keras import optimizers\n",
    "model.compile(loss='binary_crossentropy', \n",
    "              optimizer=keras.optimizers.Adam(lr=.0001),\n",
    "              metrics=['accuracy'])\n",
    "\n",
    "hist = model.fit_generator(train_generator,steps_per_epoch=10,epochs=200,validation_data=validation_generator,validation_steps=2)"
   ]
  },
  {
   "cell_type": "code",
   "execution_count": 10,
   "id": "702694b3",
   "metadata": {},
   "outputs": [
    {
     "data": {
      "image/png": "[encoded data removed]",
      "text/plain": [
       "<Figure size 432x288 with 1 Axes>"
      ]
     },
     "metadata": {
      "needs_background": "light"
     },
     "output_type": "display_data"
    },
    {
     "data": {
      "image/png": "[encoded data removed]",
      "text/plain": [
       "<Figure size 432x288 with 1 Axes>"
      ]
     },
     "metadata": {
      "needs_background": "light"
     },
     "output_type": "display_data"
    }
   ],
   "source": [
    "plt.plot(hist.history['accuracy'])\n",
    "plt.plot(hist.history['val_accuracy'])\n",
    "plt.title('Model accuracy')\n",
    "plt.ylabel('Accuracy')\n",
    "plt.xlabel('Epoch')\n",
    "plt.legend(['Train', 'Val'], loc='upper left')\n",
    "plt.show()\n",
    "\n",
    "plt.plot(hist.history['loss'])\n",
    "plt.plot(hist.history['val_loss'])\n",
    "plt.title('Model loss')\n",
    "plt.ylabel('Loss')\n",
    "plt.xlabel('Epoch')\n",
    "plt.legend(['Train', 'Val'], loc='upper right')\n",
    "plt.show()"
   ]
  },
  {
   "cell_type": "code",
   "execution_count": 11,
   "id": "09c188aa",
   "metadata": {},
   "outputs": [],
   "source": [
    "create_directory('mixed')"
   ]
  },
  {
   "cell_type": "code",
   "execution_count": 12,
   "id": "0e42bbee",
   "metadata": {},
   "outputs": [
    {
     "name": "stdout",
     "output_type": "stream",
     "text": [
      "Mixed_grain/image_5.jpg\n"
     ]
    }
   ],
   "source": [
    "mixed = input()"
   ]
  },
  {
   "cell_type": "code",
   "execution_count": 13,
   "id": "d06c6c8b",
   "metadata": {},
   "outputs": [
    {
     "name": "stdout",
     "output_type": "stream",
     "text": [
      "Number of detected contours 705\n"
     ]
    }
   ],
   "source": [
    "pre_process_And_Count(mixed, 'mixed/mixed_')"
   ]
  },
  {
   "cell_type": "code",
   "execution_count": 14,
   "id": "a02b232c",
   "metadata": {},
   "outputs": [],
   "source": [
    "import os\n",
    "from os import listdir\n",
    "from os.path import isfile, join"
   ]
  },
  {
   "cell_type": "code",
   "execution_count": 15,
   "id": "239860b0",
   "metadata": {},
   "outputs": [
    {
     "name": "stderr",
     "output_type": "stream",
     "text": [
      "C:\\Users\\LAZ\\AppData\\Roaming\\Python\\Python39\\site-packages\\keras_preprocessing\\image\\utils.py:107: UserWarning: grayscale is deprecated. Please use color_mode = \"grayscale\"\n",
      "  warnings.warn('grayscale is deprecated. Please use '\n"
     ]
    },
    {
     "name": "stdout",
     "output_type": "stream",
     "text": [
      "Total full : 389\n",
      "Total broken : 316\n"
     ]
    }
   ],
   "source": [
    "import os\n",
    "from os import listdir\n",
    "from os.path import isfile, join\n",
    "\n",
    "predict_dir_path='mixed/'\n",
    "onlyfiles = [f for f in listdir(predict_dir_path) if isfile(join(predict_dir_path, f))]\n",
    "\n",
    "from keras.preprocessing import image\n",
    "full = 0 \n",
    "broken  = 0\n",
    "for file in onlyfiles:\n",
    "    img = image.load_img(predict_dir_path+'/'+file, target_size=(img_width, img_height), grayscale=True)\n",
    "    x = image.img_to_array(img)\n",
    "    x = np.expand_dims(x, axis=0)\n",
    "    \n",
    "    images = np.vstack([x])\n",
    "    classes = model.predict(images, batch_size=32)\n",
    "    classes = classes[0][0]\n",
    "    if classes == 0:\n",
    "        broken += 1\n",
    "    else:\n",
    "        full += 1\n",
    "    \n",
    "print(\"Total full :\",full)\n",
    "print(\"Total broken :\",broken)"
   ]
  },
  {
   "cell_type": "code",
   "execution_count": 16,
   "id": "d87f9fef",
   "metadata": {},
   "outputs": [
    {
     "name": "stdout",
     "output_type": "stream",
     "text": [
      "Total rice grains- 705\n"
     ]
    }
   ],
   "source": [
    "print(\"Total rice grains-\", (broken+full))"
   ]
  }
 ],
 "metadata": {
  "kernelspec": {
   "display_name": "Python 3 (ipykernel)",
   "language": "python",
   "name": "python3"
  },
  "language_info": {
   "codemirror_mode": {
    "name": "ipython",
    "version": 3
   },
   "file_extension": ".py",
   "mimetype": "text/x-python",
   "name": "python",
   "nbconvert_exporter": "python",
   "pygments_lexer": "ipython3",
   "version": "3.9.7"
  }
 },
 "nbformat": 4,
 "nbformat_minor": 5
}
