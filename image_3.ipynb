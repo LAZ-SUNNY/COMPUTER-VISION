{
 "cells": [
  {
   "cell_type": "code",
   "execution_count": 1,
   "id": "c06f446b",
   "metadata": {},
   "outputs": [],
   "source": [
    "import cv2\n",
    "import  numpy as np\n",
    "%matplotlib inline\n",
    "import matplotlib.pyplot as plt\n",
    "np.random.seed(30)\n",
    "import random as rn\n",
    "rn.seed(30)\n",
    "from keras import backend as K\n",
    "import tensorflow as tf\n",
    "from keras.models import Sequential,Model\n",
    "from keras.layers import Dense,Flatten,Flatten,BatchNormalization,Activation\n",
    "from keras.layers.convolutional import Conv2D,MaxPooling2D\n",
    "from keras import optimizers\n",
    "from keras.layers import Dropout\n",
    "from tensorflow.keras.preprocessing.image import ImageDataGenerator\n",
    "from tensorflow.keras.preprocessing import image_dataset_from_directory\n",
    "\n",
    "broken='Broken_grain/broken_grain_2.jpg'\n",
    "full='Full_grain/full_grain_4.jpg'\n",
    "def crop_resize_img(img):\n",
    "    ht,wd=img.shape\n",
    "    ww=300\n",
    "    hh=300\n",
    "    color=0\n",
    "    result = np.full((hh,ww), color, dtype=np.uint8)\n",
    "    xx=(ww - wd)//2\n",
    "    yy=(hh - ht)//2\n",
    "    result[yy:yy+ht,xx:xx+wd]=img\n",
    "\n",
    "    final =cv2.resize(result,(50,50))\n",
    "    \n",
    "    return final"
   ]
  },
  {
   "cell_type": "code",
   "execution_count": 2,
   "id": "31aa3c34",
   "metadata": {},
   "outputs": [],
   "source": [
    "def pre_process_And_Count(image_path, output_path):\n",
    "\n",
    "    input_rice = cv2.imread(image_path, cv2.IMREAD_GRAYSCALE)\n",
    "    \n",
    "    output_adapthresh = cv2.adaptiveThreshold (input_rice, 255.0, cv2.ADAPTIVE_THRESH_MEAN_C, cv2.THRESH_BINARY, 51, -20.0)\n",
    "\n",
    "    cv2.imwrite('rice_adapthresh.png', output_adapthresh)\n",
    "    \n",
    "    kernel = np.ones((5,5),np.uint8)\n",
    "    output_erosion = cv2.erode(output_adapthresh, kernel)\n",
    "\n",
    "    cv2.imwrite('rice_erosion.png', output_erosion)\n",
    "    \n",
    "    contours, hierarchy = cv2.findContours(output_erosion, cv2.RETR_EXTERNAL,  cv2.CHAIN_APPROX_SIMPLE)\n",
    "    output_contour = cv2.cvtColor(input_rice, cv2.COLOR_GRAY2BGR)\n",
    "    cv2.drawContours(output_contour, contours, -1, (0, 0, 255), 2)\n",
    "    print(\"Number of detected contours\", len(contours))\n",
    "    \n",
    "    cv2.imwrite('rice_contours.png', output_contour)\n",
    "    \n",
    "    k=1\n",
    "    temp = 0.70 * len(contours)\n",
    "    for i in contours:\n",
    "        x, y, width, height = cv2.boundingRect(i)\n",
    "        roi = output_erosion[y:y+height, x:x+width]\n",
    "        roi=crop_resize_img(roi)\n",
    "        path  = ''\n",
    "        if output_path !='mixed/mixed_':\n",
    "            if k<temp:\n",
    "                path = 'dataset/train/'+output_path\n",
    "\n",
    "            else:\n",
    "                path = 'dataset/test/'+output_path\n",
    "        else:\n",
    "            path = output_path\n",
    "        cv2.imwrite(path+str(k)+\".png\", roi)\n",
    "        k+=1"
   ]
  },
  {
   "cell_type": "code",
   "execution_count": 3,
   "id": "52e80df2",
   "metadata": {},
   "outputs": [
    {
     "name": "stdout",
     "output_type": "stream",
     "text": [
      "Number of detected contours 613\n"
     ]
    }
   ],
   "source": [
    "import os\n",
    "def create_directory(path):\n",
    "    if not os.path.exists(path):\n",
    "        os.makedirs(path)\n",
    "        \n",
    "create_directory('dataset')\n",
    "create_directory('dataset/train')\n",
    "create_directory('dataset/test')\n",
    "create_directory('dataset/train/full_rice')\n",
    "create_directory('dataset/test/full_rice')\n",
    "create_directory('dataset/train/broken_rice')\n",
    "create_directory('dataset/test/broken_rice')\n",
    "pre_process_And_Count(full, 'full_rice/full_')"
   ]
  },
  {
   "cell_type": "code",
   "execution_count": 4,
   "id": "6e891766",
   "metadata": {},
   "outputs": [
    {
     "name": "stdout",
     "output_type": "stream",
     "text": [
      "Number of detected contours 526\n"
     ]
    }
   ],
   "source": [
    "pre_process_And_Count(broken, 'broken_rice/broken_')"
   ]
  },
  {
   "cell_type": "code",
   "execution_count": 5,
   "id": "76c084e0",
   "metadata": {},
   "outputs": [
    {
     "name": "stdout",
     "output_type": "stream",
     "text": [
      "Found 797 images belonging to 2 classes.\n",
      "Found 342 images belonging to 2 classes.\n"
     ]
    }
   ],
   "source": [
    "image_size = (50,50)\n",
    "batch_size = 32\n",
    "\n",
    "train_datagen = ImageDataGenerator(\n",
    "    rescale=1. / 255,\n",
    "    shear_range=0.2,\n",
    "    zoom_range=0.2,\n",
    "    horizontal_flip=True)\n",
    "test_datagen = ImageDataGenerator(rescale=1. / 255)\n",
    "\n",
    "train_generator = train_datagen.flow_from_directory(\n",
    "    \"dataset/train\",\n",
    "    target_size=(50,50),\n",
    "    batch_size=32,\n",
    "    class_mode='binary',\n",
    "    color_mode='grayscale'\n",
    ")\n",
    "\n",
    "\n",
    "validation_generator = test_datagen.flow_from_directory(\n",
    "    \"dataset/test\",\n",
    "    target_size=(50, 50),\n",
    "    batch_size=32,\n",
    "    class_mode='binary',\n",
    "    color_mode='grayscale'\n",
    ")"
   ]
  },
  {
   "cell_type": "code",
   "execution_count": 6,
   "id": "507d4d15",
   "metadata": {},
   "outputs": [
    {
     "data": {
      "text/plain": [
       "{'broken_rice': 0, 'full_rice': 1}"
      ]
     },
     "execution_count": 6,
     "metadata": {},
     "output_type": "execute_result"
    }
   ],
   "source": [
    "train_generator.class_indices"
   ]
  },
  {
   "cell_type": "code",
   "execution_count": 7,
   "id": "bf094e74",
   "metadata": {},
   "outputs": [
    {
     "data": {
      "text/plain": [
       "(32, 50, 50, 1)"
      ]
     },
     "execution_count": 7,
     "metadata": {},
     "output_type": "execute_result"
    }
   ],
   "source": [
    "a, b = next(train_generator)\n",
    "a.shape"
   ]
  },
  {
   "cell_type": "code",
   "execution_count": 8,
   "id": "18fa3906",
   "metadata": {},
   "outputs": [
    {
     "data": {
      "text/plain": [
       "(50, 50, 1)"
      ]
     },
     "execution_count": 8,
     "metadata": {},
     "output_type": "execute_result"
    }
   ],
   "source": [
    "img_width = 50\n",
    "img_height = 50\n",
    "\n",
    "# Check for TensorFlow or Thieno\n",
    "if K.image_data_format() == 'channels_first':\n",
    "    input_shape = (1, img_width, img_height)\n",
    "else:\n",
    "    input_shape = (img_width, img_height, 1)\n",
    "    \n",
    "input_shape"
   ]
  },
  {
   "cell_type": "code",
   "execution_count": 9,
   "id": "d18af795",
   "metadata": {},
   "outputs": [
    {
     "name": "stderr",
     "output_type": "stream",
     "text": [
      "C:\\Users\\LAZ\\AppData\\Roaming\\Python\\Python39\\site-packages\\keras\\optimizer_v2\\optimizer_v2.py:355: UserWarning: The `lr` argument is deprecated, use `learning_rate` instead.\n",
      "  warnings.warn(\n",
      "C:\\Users\\LAZ\\AppData\\Roaming\\Python\\Python39\\site-packages\\keras\\engine\\training.py:1972: UserWarning: `Model.fit_generator` is deprecated and will be removed in a future version. Please use `Model.fit`, which supports generators.\n",
      "  warnings.warn('`Model.fit_generator` is deprecated and '\n"
     ]
    },
    {
     "name": "stdout",
     "output_type": "stream",
     "text": [
      "Epoch 1/200\n",
      "10/10 [==============================] - 2s 150ms/step - loss: 0.6848 - accuracy: 0.6000 - val_loss: 0.6491 - val_accuracy: 0.8281\n",
      "Epoch 2/200\n",
      "10/10 [==============================] - 1s 124ms/step - loss: 0.6768 - accuracy: 0.6404 - val_loss: 0.6435 - val_accuracy: 0.6875\n",
      "Epoch 3/200\n",
      "10/10 [==============================] - 1s 123ms/step - loss: 0.6505 - accuracy: 0.6972 - val_loss: 0.6600 - val_accuracy: 0.7031\n",
      "Epoch 4/200\n",
      "10/10 [==============================] - 1s 124ms/step - loss: 0.6439 - accuracy: 0.7063 - val_loss: 0.6293 - val_accuracy: 0.7031\n",
      "Epoch 5/200\n",
      "10/10 [==============================] - 1s 124ms/step - loss: 0.6356 - accuracy: 0.7098 - val_loss: 0.5567 - val_accuracy: 0.8125\n",
      "Epoch 6/200\n",
      "10/10 [==============================] - 1s 124ms/step - loss: 0.6264 - accuracy: 0.7125 - val_loss: 0.5901 - val_accuracy: 0.7969\n",
      "Epoch 7/200\n",
      "10/10 [==============================] - 1s 124ms/step - loss: 0.6169 - accuracy: 0.6972 - val_loss: 0.4966 - val_accuracy: 0.8281\n",
      "Epoch 8/200\n",
      "10/10 [==============================] - 1s 124ms/step - loss: 0.6016 - accuracy: 0.6906 - val_loss: 0.5524 - val_accuracy: 0.8281\n",
      "Epoch 9/200\n",
      "10/10 [==============================] - 1s 124ms/step - loss: 0.6231 - accuracy: 0.7156 - val_loss: 0.6089 - val_accuracy: 0.7812\n",
      "Epoch 10/200\n",
      "10/10 [==============================] - 1s 122ms/step - loss: 0.5970 - accuracy: 0.7319 - val_loss: 0.5910 - val_accuracy: 0.8281\n",
      "Epoch 11/200\n",
      "10/10 [==============================] - 1s 121ms/step - loss: 0.5737 - accuracy: 0.7666 - val_loss: 0.5218 - val_accuracy: 0.7656\n",
      "Epoch 12/200\n",
      "10/10 [==============================] - 1s 122ms/step - loss: 0.5725 - accuracy: 0.7603 - val_loss: 0.5265 - val_accuracy: 0.7500\n",
      "Epoch 13/200\n",
      "10/10 [==============================] - 1s 122ms/step - loss: 0.6293 - accuracy: 0.6751 - val_loss: 0.5224 - val_accuracy: 0.7500\n",
      "Epoch 14/200\n",
      "10/10 [==============================] - 1s 123ms/step - loss: 0.5546 - accuracy: 0.7437 - val_loss: 0.6073 - val_accuracy: 0.7031\n",
      "Epoch 15/200\n",
      "10/10 [==============================] - 1s 121ms/step - loss: 0.5347 - accuracy: 0.7875 - val_loss: 0.5350 - val_accuracy: 0.7500\n",
      "Epoch 16/200\n",
      "10/10 [==============================] - 1s 123ms/step - loss: 0.5702 - accuracy: 0.7437 - val_loss: 0.5927 - val_accuracy: 0.7500\n",
      "Epoch 17/200\n",
      "10/10 [==============================] - 1s 123ms/step - loss: 0.5271 - accuracy: 0.7729 - val_loss: 0.5968 - val_accuracy: 0.7344\n",
      "Epoch 18/200\n",
      "10/10 [==============================] - 1s 122ms/step - loss: 0.5194 - accuracy: 0.7844 - val_loss: 0.5244 - val_accuracy: 0.7656\n",
      "Epoch 19/200\n",
      "10/10 [==============================] - 1s 122ms/step - loss: 0.4971 - accuracy: 0.8139 - val_loss: 0.4382 - val_accuracy: 0.8594\n",
      "Epoch 20/200\n",
      "10/10 [==============================] - 1s 123ms/step - loss: 0.4977 - accuracy: 0.8013 - val_loss: 0.3796 - val_accuracy: 0.9219\n",
      "Epoch 21/200\n",
      "10/10 [==============================] - 1s 124ms/step - loss: 0.5090 - accuracy: 0.7688 - val_loss: 0.5258 - val_accuracy: 0.7969\n",
      "Epoch 22/200\n",
      "10/10 [==============================] - 1s 123ms/step - loss: 0.5211 - accuracy: 0.7531 - val_loss: 0.4699 - val_accuracy: 0.8125\n",
      "Epoch 23/200\n",
      "10/10 [==============================] - 1s 122ms/step - loss: 0.5049 - accuracy: 0.7750 - val_loss: 0.5571 - val_accuracy: 0.7812\n",
      "Epoch 24/200\n",
      "10/10 [==============================] - 1s 122ms/step - loss: 0.5307 - accuracy: 0.7531 - val_loss: 0.3900 - val_accuracy: 0.8906\n",
      "Epoch 25/200\n",
      "10/10 [==============================] - 1s 122ms/step - loss: 0.5196 - accuracy: 0.7666 - val_loss: 0.4534 - val_accuracy: 0.8438\n",
      "Epoch 26/200\n",
      "10/10 [==============================] - 1s 124ms/step - loss: 0.5015 - accuracy: 0.7875 - val_loss: 0.5909 - val_accuracy: 0.7344\n",
      "Epoch 27/200\n",
      "10/10 [==============================] - 1s 123ms/step - loss: 0.5273 - accuracy: 0.7563 - val_loss: 0.4047 - val_accuracy: 0.8906\n",
      "Epoch 28/200\n",
      "10/10 [==============================] - 1s 122ms/step - loss: 0.4947 - accuracy: 0.7750 - val_loss: 0.4525 - val_accuracy: 0.8594\n",
      "Epoch 29/200\n",
      "10/10 [==============================] - 1s 125ms/step - loss: 0.4896 - accuracy: 0.8125 - val_loss: 0.4682 - val_accuracy: 0.8281\n",
      "Epoch 30/200\n",
      "10/10 [==============================] - 1s 122ms/step - loss: 0.4910 - accuracy: 0.7750 - val_loss: 0.4979 - val_accuracy: 0.7969\n",
      "Epoch 31/200\n",
      "10/10 [==============================] - 2s 152ms/step - loss: 0.4965 - accuracy: 0.7781 - val_loss: 0.4256 - val_accuracy: 0.8438\n",
      "Epoch 32/200\n",
      "10/10 [==============================] - 2s 155ms/step - loss: 0.4969 - accuracy: 0.7855 - val_loss: 0.3383 - val_accuracy: 0.8906\n",
      "Epoch 33/200\n",
      "10/10 [==============================] - 2s 158ms/step - loss: 0.4827 - accuracy: 0.7906 - val_loss: 0.4866 - val_accuracy: 0.7969\n",
      "Epoch 34/200\n",
      "10/10 [==============================] - 1s 134ms/step - loss: 0.5262 - accuracy: 0.7666 - val_loss: 0.5625 - val_accuracy: 0.7500\n",
      "Epoch 35/200\n",
      "10/10 [==============================] - 2s 149ms/step - loss: 0.4868 - accuracy: 0.7719 - val_loss: 0.5309 - val_accuracy: 0.7656\n",
      "Epoch 36/200\n",
      "10/10 [==============================] - 1s 128ms/step - loss: 0.5107 - accuracy: 0.7571 - val_loss: 0.3618 - val_accuracy: 0.8750\n",
      "Epoch 37/200\n",
      "10/10 [==============================] - 1s 129ms/step - loss: 0.4581 - accuracy: 0.8031 - val_loss: 0.4289 - val_accuracy: 0.8281\n",
      "Epoch 38/200\n",
      "10/10 [==============================] - 1s 126ms/step - loss: 0.4882 - accuracy: 0.7875 - val_loss: 0.4356 - val_accuracy: 0.8594\n",
      "Epoch 39/200\n",
      "10/10 [==============================] - 1s 126ms/step - loss: 0.4714 - accuracy: 0.7656 - val_loss: 0.3696 - val_accuracy: 0.8594\n",
      "Epoch 40/200\n",
      "10/10 [==============================] - 1s 126ms/step - loss: 0.4667 - accuracy: 0.7937 - val_loss: 0.4286 - val_accuracy: 0.8281\n",
      "Epoch 41/200\n",
      "10/10 [==============================] - 1s 129ms/step - loss: 0.4499 - accuracy: 0.8139 - val_loss: 0.4416 - val_accuracy: 0.8438\n",
      "Epoch 42/200\n",
      "10/10 [==============================] - 1s 127ms/step - loss: 0.4890 - accuracy: 0.7906 - val_loss: 0.5348 - val_accuracy: 0.8125\n",
      "Epoch 43/200\n",
      "10/10 [==============================] - 1s 126ms/step - loss: 0.4935 - accuracy: 0.7812 - val_loss: 0.5159 - val_accuracy: 0.7656\n",
      "Epoch 44/200\n",
      "10/10 [==============================] - 1s 127ms/step - loss: 0.5066 - accuracy: 0.7508 - val_loss: 0.4263 - val_accuracy: 0.7969\n",
      "Epoch 45/200\n",
      "10/10 [==============================] - 1s 126ms/step - loss: 0.5048 - accuracy: 0.7531 - val_loss: 0.3995 - val_accuracy: 0.7969\n",
      "Epoch 46/200\n",
      "10/10 [==============================] - 1s 124ms/step - loss: 0.4438 - accuracy: 0.7969 - val_loss: 0.5324 - val_accuracy: 0.7969\n",
      "Epoch 47/200\n",
      "10/10 [==============================] - 1s 128ms/step - loss: 0.4639 - accuracy: 0.7812 - val_loss: 0.5282 - val_accuracy: 0.7969\n",
      "Epoch 48/200\n",
      "10/10 [==============================] - 1s 125ms/step - loss: 0.4501 - accuracy: 0.8062 - val_loss: 0.4357 - val_accuracy: 0.7812\n",
      "Epoch 49/200\n",
      "10/10 [==============================] - 1s 126ms/step - loss: 0.4703 - accuracy: 0.7969 - val_loss: 0.4910 - val_accuracy: 0.8125\n",
      "Epoch 50/200\n",
      "10/10 [==============================] - 1s 127ms/step - loss: 0.4521 - accuracy: 0.8062 - val_loss: 0.4022 - val_accuracy: 0.8281\n",
      "Epoch 51/200\n",
      "10/10 [==============================] - 1s 126ms/step - loss: 0.4795 - accuracy: 0.7792 - val_loss: 0.3521 - val_accuracy: 0.8750\n",
      "Epoch 52/200\n",
      "10/10 [==============================] - 1s 126ms/step - loss: 0.4684 - accuracy: 0.8000 - val_loss: 0.5127 - val_accuracy: 0.7500\n",
      "Epoch 53/200\n",
      "10/10 [==============================] - 1s 125ms/step - loss: 0.4530 - accuracy: 0.8076 - val_loss: 0.3214 - val_accuracy: 0.8906\n",
      "Epoch 54/200\n",
      "10/10 [==============================] - 1s 127ms/step - loss: 0.4500 - accuracy: 0.8031 - val_loss: 0.5556 - val_accuracy: 0.7188\n",
      "Epoch 55/200\n",
      "10/10 [==============================] - 1s 125ms/step - loss: 0.4589 - accuracy: 0.7906 - val_loss: 0.5224 - val_accuracy: 0.7656\n",
      "Epoch 56/200\n",
      "10/10 [==============================] - 1s 125ms/step - loss: 0.4744 - accuracy: 0.7886 - val_loss: 0.4947 - val_accuracy: 0.8281\n",
      "Epoch 57/200\n",
      "10/10 [==============================] - 1s 127ms/step - loss: 0.4004 - accuracy: 0.8391 - val_loss: 0.3535 - val_accuracy: 0.8750\n"
     ]
    },
    {
     "name": "stdout",
     "output_type": "stream",
     "text": [
      "Epoch 58/200\n",
      "10/10 [==============================] - 1s 121ms/step - loss: 0.4621 - accuracy: 0.7812 - val_loss: 0.4788 - val_accuracy: 0.7812\n",
      "Epoch 59/200\n",
      "10/10 [==============================] - 1s 122ms/step - loss: 0.4642 - accuracy: 0.7918 - val_loss: 0.5956 - val_accuracy: 0.7500\n",
      "Epoch 60/200\n",
      "10/10 [==============================] - 1s 121ms/step - loss: 0.4634 - accuracy: 0.7823 - val_loss: 0.4681 - val_accuracy: 0.7656\n",
      "Epoch 61/200\n",
      "10/10 [==============================] - 1s 121ms/step - loss: 0.4293 - accuracy: 0.8250 - val_loss: 0.4003 - val_accuracy: 0.8125\n",
      "Epoch 62/200\n",
      "10/10 [==============================] - 1s 121ms/step - loss: 0.4960 - accuracy: 0.7719 - val_loss: 0.5876 - val_accuracy: 0.7500\n",
      "Epoch 63/200\n",
      "10/10 [==============================] - 1s 123ms/step - loss: 0.4189 - accuracy: 0.8250 - val_loss: 0.4792 - val_accuracy: 0.8125\n",
      "Epoch 64/200\n",
      "10/10 [==============================] - 1s 127ms/step - loss: 0.4326 - accuracy: 0.8139 - val_loss: 0.5245 - val_accuracy: 0.7812\n",
      "Epoch 65/200\n",
      "10/10 [==============================] - 1s 134ms/step - loss: 0.4990 - accuracy: 0.7594 - val_loss: 0.4119 - val_accuracy: 0.8281\n",
      "Epoch 66/200\n",
      "10/10 [==============================] - 1s 126ms/step - loss: 0.4491 - accuracy: 0.7886 - val_loss: 0.4441 - val_accuracy: 0.8125\n",
      "Epoch 67/200\n",
      "10/10 [==============================] - 1s 123ms/step - loss: 0.4491 - accuracy: 0.7969 - val_loss: 0.3100 - val_accuracy: 0.9219\n",
      "Epoch 68/200\n",
      "10/10 [==============================] - 1s 122ms/step - loss: 0.4409 - accuracy: 0.8031 - val_loss: 0.4762 - val_accuracy: 0.7656\n",
      "Epoch 69/200\n",
      "10/10 [==============================] - 1s 122ms/step - loss: 0.4248 - accuracy: 0.7969 - val_loss: 0.6033 - val_accuracy: 0.7031\n",
      "Epoch 70/200\n",
      "10/10 [==============================] - 1s 127ms/step - loss: 0.4383 - accuracy: 0.8062 - val_loss: 0.6811 - val_accuracy: 0.6875\n",
      "Epoch 71/200\n",
      "10/10 [==============================] - 1s 147ms/step - loss: 0.4444 - accuracy: 0.8076 - val_loss: 0.5597 - val_accuracy: 0.7344\n",
      "Epoch 72/200\n",
      "10/10 [==============================] - 1s 125ms/step - loss: 0.4526 - accuracy: 0.8107 - val_loss: 0.5486 - val_accuracy: 0.7656\n",
      "Epoch 73/200\n",
      "10/10 [==============================] - 1s 125ms/step - loss: 0.4607 - accuracy: 0.8094 - val_loss: 0.3620 - val_accuracy: 0.8750\n",
      "Epoch 74/200\n",
      "10/10 [==============================] - 1s 127ms/step - loss: 0.4147 - accuracy: 0.8094 - val_loss: 0.2863 - val_accuracy: 0.9219\n",
      "Epoch 75/200\n",
      "10/10 [==============================] - 1s 127ms/step - loss: 0.4588 - accuracy: 0.7886 - val_loss: 0.4216 - val_accuracy: 0.8281\n",
      "Epoch 76/200\n",
      "10/10 [==============================] - 1s 126ms/step - loss: 0.4337 - accuracy: 0.7969 - val_loss: 0.5108 - val_accuracy: 0.7031\n",
      "Epoch 77/200\n",
      "10/10 [==============================] - 1s 126ms/step - loss: 0.4297 - accuracy: 0.7823 - val_loss: 0.4184 - val_accuracy: 0.8125\n",
      "Epoch 78/200\n",
      "10/10 [==============================] - 1s 126ms/step - loss: 0.4397 - accuracy: 0.8125 - val_loss: 0.4090 - val_accuracy: 0.8281\n",
      "Epoch 79/200\n",
      "10/10 [==============================] - 1s 125ms/step - loss: 0.4026 - accuracy: 0.8328 - val_loss: 0.4919 - val_accuracy: 0.7812\n",
      "Epoch 80/200\n",
      "10/10 [==============================] - 1s 127ms/step - loss: 0.4393 - accuracy: 0.8202 - val_loss: 0.5827 - val_accuracy: 0.7969\n",
      "Epoch 81/200\n",
      "10/10 [==============================] - 1s 124ms/step - loss: 0.4502 - accuracy: 0.7823 - val_loss: 0.5016 - val_accuracy: 0.7812\n",
      "Epoch 82/200\n",
      "10/10 [==============================] - 1s 126ms/step - loss: 0.4210 - accuracy: 0.7981 - val_loss: 0.4658 - val_accuracy: 0.7969\n",
      "Epoch 83/200\n",
      "10/10 [==============================] - 1s 123ms/step - loss: 0.4219 - accuracy: 0.8076 - val_loss: 0.5125 - val_accuracy: 0.8125\n",
      "Epoch 84/200\n",
      "10/10 [==============================] - 1s 125ms/step - loss: 0.4770 - accuracy: 0.7760 - val_loss: 0.4181 - val_accuracy: 0.8594\n",
      "Epoch 85/200\n",
      "10/10 [==============================] - 1s 125ms/step - loss: 0.4230 - accuracy: 0.8013 - val_loss: 0.4316 - val_accuracy: 0.7969\n",
      "Epoch 86/200\n",
      "10/10 [==============================] - 1s 125ms/step - loss: 0.4665 - accuracy: 0.7886 - val_loss: 0.5355 - val_accuracy: 0.7656\n",
      "Epoch 87/200\n",
      "10/10 [==============================] - 1s 125ms/step - loss: 0.4262 - accuracy: 0.8328 - val_loss: 0.5564 - val_accuracy: 0.7188\n",
      "Epoch 88/200\n",
      "10/10 [==============================] - 1s 127ms/step - loss: 0.4254 - accuracy: 0.8156 - val_loss: 0.3905 - val_accuracy: 0.8125\n",
      "Epoch 89/200\n",
      "10/10 [==============================] - 1s 125ms/step - loss: 0.4261 - accuracy: 0.8156 - val_loss: 0.4889 - val_accuracy: 0.8438\n",
      "Epoch 90/200\n",
      "10/10 [==============================] - 1s 125ms/step - loss: 0.4379 - accuracy: 0.8044 - val_loss: 0.5720 - val_accuracy: 0.7656\n",
      "Epoch 91/200\n",
      "10/10 [==============================] - 1s 126ms/step - loss: 0.3709 - accuracy: 0.8517 - val_loss: 0.4969 - val_accuracy: 0.7812\n",
      "Epoch 92/200\n",
      "10/10 [==============================] - 1s 127ms/step - loss: 0.4149 - accuracy: 0.8188 - val_loss: 0.3886 - val_accuracy: 0.8125\n",
      "Epoch 93/200\n",
      "10/10 [==============================] - 1s 134ms/step - loss: 0.4296 - accuracy: 0.8000 - val_loss: 0.5114 - val_accuracy: 0.7969\n",
      "Epoch 94/200\n",
      "10/10 [==============================] - 1s 135ms/step - loss: 0.4027 - accuracy: 0.8219 - val_loss: 0.3907 - val_accuracy: 0.8438\n",
      "Epoch 95/200\n",
      "10/10 [==============================] - 1s 140ms/step - loss: 0.3833 - accuracy: 0.8580 - val_loss: 0.3985 - val_accuracy: 0.8281\n",
      "Epoch 96/200\n",
      "10/10 [==============================] - 1s 130ms/step - loss: 0.3869 - accuracy: 0.8313 - val_loss: 0.4125 - val_accuracy: 0.7969\n",
      "Epoch 97/200\n",
      "10/10 [==============================] - 1s 137ms/step - loss: 0.4087 - accuracy: 0.8170 - val_loss: 0.3120 - val_accuracy: 0.8438\n",
      "Epoch 98/200\n",
      "10/10 [==============================] - 1s 132ms/step - loss: 0.4643 - accuracy: 0.7781 - val_loss: 0.3328 - val_accuracy: 0.8438\n",
      "Epoch 99/200\n",
      "10/10 [==============================] - 1s 133ms/step - loss: 0.4307 - accuracy: 0.8107 - val_loss: 0.4475 - val_accuracy: 0.8438\n",
      "Epoch 100/200\n",
      "10/10 [==============================] - 1s 141ms/step - loss: 0.3870 - accuracy: 0.8500 - val_loss: 0.3518 - val_accuracy: 0.8281\n",
      "Epoch 101/200\n",
      "10/10 [==============================] - 1s 135ms/step - loss: 0.4251 - accuracy: 0.8297 - val_loss: 0.3308 - val_accuracy: 0.8750\n",
      "Epoch 102/200\n",
      "10/10 [==============================] - 1s 135ms/step - loss: 0.3985 - accuracy: 0.8344 - val_loss: 0.4215 - val_accuracy: 0.8281\n",
      "Epoch 103/200\n",
      "10/10 [==============================] - 1s 145ms/step - loss: 0.4221 - accuracy: 0.8156 - val_loss: 0.5335 - val_accuracy: 0.7656\n",
      "Epoch 104/200\n",
      "10/10 [==============================] - 1s 130ms/step - loss: 0.3961 - accuracy: 0.8265 - val_loss: 0.5023 - val_accuracy: 0.7812\n",
      "Epoch 105/200\n",
      "10/10 [==============================] - 1s 138ms/step - loss: 0.4122 - accuracy: 0.8328 - val_loss: 0.3130 - val_accuracy: 0.8906\n",
      "Epoch 106/200\n",
      "10/10 [==============================] - 1s 141ms/step - loss: 0.4300 - accuracy: 0.8139 - val_loss: 0.5590 - val_accuracy: 0.7969\n",
      "Epoch 107/200\n",
      "10/10 [==============================] - 1s 128ms/step - loss: 0.3806 - accuracy: 0.8454 - val_loss: 0.5198 - val_accuracy: 0.7969\n",
      "Epoch 108/200\n",
      "10/10 [==============================] - 1s 141ms/step - loss: 0.4038 - accuracy: 0.8250 - val_loss: 0.3208 - val_accuracy: 0.8438\n",
      "Epoch 109/200\n",
      "10/10 [==============================] - 2s 158ms/step - loss: 0.4298 - accuracy: 0.8139 - val_loss: 0.4985 - val_accuracy: 0.7812\n",
      "Epoch 110/200\n",
      "10/10 [==============================] - 1s 142ms/step - loss: 0.4214 - accuracy: 0.8233 - val_loss: 0.6087 - val_accuracy: 0.7188\n",
      "Epoch 111/200\n",
      "10/10 [==============================] - 1s 131ms/step - loss: 0.4526 - accuracy: 0.8125 - val_loss: 0.5194 - val_accuracy: 0.7500\n",
      "Epoch 112/200\n",
      "10/10 [==============================] - 1s 126ms/step - loss: 0.4254 - accuracy: 0.8156 - val_loss: 0.4722 - val_accuracy: 0.7812\n",
      "Epoch 113/200\n",
      "10/10 [==============================] - 1s 128ms/step - loss: 0.4199 - accuracy: 0.8265 - val_loss: 0.3931 - val_accuracy: 0.8281\n",
      "Epoch 114/200\n",
      "10/10 [==============================] - 1s 126ms/step - loss: 0.4027 - accuracy: 0.8265 - val_loss: 0.6264 - val_accuracy: 0.7500\n"
     ]
    },
    {
     "name": "stdout",
     "output_type": "stream",
     "text": [
      "Epoch 115/200\n",
      "10/10 [==============================] - 1s 122ms/step - loss: 0.4274 - accuracy: 0.8250 - val_loss: 0.3884 - val_accuracy: 0.8594\n",
      "Epoch 116/200\n",
      "10/10 [==============================] - 1s 123ms/step - loss: 0.4036 - accuracy: 0.8406 - val_loss: 0.4617 - val_accuracy: 0.7969\n",
      "Epoch 117/200\n",
      "10/10 [==============================] - 1s 123ms/step - loss: 0.3725 - accuracy: 0.8612 - val_loss: 0.3819 - val_accuracy: 0.8438\n",
      "Epoch 118/200\n",
      "10/10 [==============================] - 1s 123ms/step - loss: 0.4433 - accuracy: 0.8000 - val_loss: 0.5431 - val_accuracy: 0.7500\n",
      "Epoch 119/200\n",
      "10/10 [==============================] - 1s 122ms/step - loss: 0.4213 - accuracy: 0.8250 - val_loss: 0.4479 - val_accuracy: 0.8281\n",
      "Epoch 120/200\n",
      "10/10 [==============================] - 1s 122ms/step - loss: 0.4170 - accuracy: 0.8233 - val_loss: 0.5839 - val_accuracy: 0.7656\n",
      "Epoch 121/200\n",
      "10/10 [==============================] - 1s 134ms/step - loss: 0.4289 - accuracy: 0.8139 - val_loss: 0.6925 - val_accuracy: 0.7656\n",
      "Epoch 122/200\n",
      "10/10 [==============================] - 1s 130ms/step - loss: 0.4105 - accuracy: 0.8344 - val_loss: 0.5866 - val_accuracy: 0.7500\n",
      "Epoch 123/200\n",
      "10/10 [==============================] - 1s 129ms/step - loss: 0.4190 - accuracy: 0.8062 - val_loss: 0.4846 - val_accuracy: 0.7812\n",
      "Epoch 124/200\n",
      "10/10 [==============================] - 1s 127ms/step - loss: 0.4583 - accuracy: 0.7855 - val_loss: 0.3986 - val_accuracy: 0.8281\n",
      "Epoch 125/200\n",
      "10/10 [==============================] - 1s 128ms/step - loss: 0.4064 - accuracy: 0.8188 - val_loss: 0.5353 - val_accuracy: 0.7188\n",
      "Epoch 126/200\n",
      "10/10 [==============================] - 1s 127ms/step - loss: 0.4018 - accuracy: 0.8328 - val_loss: 0.5236 - val_accuracy: 0.7656\n",
      "Epoch 127/200\n",
      "10/10 [==============================] - 1s 126ms/step - loss: 0.4397 - accuracy: 0.8031 - val_loss: 0.3476 - val_accuracy: 0.8594\n",
      "Epoch 128/200\n",
      "10/10 [==============================] - 1s 125ms/step - loss: 0.3841 - accuracy: 0.8297 - val_loss: 0.4224 - val_accuracy: 0.8125\n",
      "Epoch 129/200\n",
      "10/10 [==============================] - 1s 127ms/step - loss: 0.3831 - accuracy: 0.8549 - val_loss: 0.6139 - val_accuracy: 0.7344\n",
      "Epoch 130/200\n",
      "10/10 [==============================] - 1s 147ms/step - loss: 0.4045 - accuracy: 0.8438 - val_loss: 0.5565 - val_accuracy: 0.7500\n",
      "Epoch 131/200\n",
      "10/10 [==============================] - 2s 162ms/step - loss: 0.4301 - accuracy: 0.7969 - val_loss: 0.6610 - val_accuracy: 0.7656\n",
      "Epoch 132/200\n",
      "10/10 [==============================] - 1s 134ms/step - loss: 0.4222 - accuracy: 0.8328 - val_loss: 0.5924 - val_accuracy: 0.7969\n",
      "Epoch 133/200\n",
      "10/10 [==============================] - 1s 140ms/step - loss: 0.4031 - accuracy: 0.8313 - val_loss: 0.5102 - val_accuracy: 0.7969\n",
      "Epoch 134/200\n",
      "10/10 [==============================] - 2s 170ms/step - loss: 0.3981 - accuracy: 0.8375 - val_loss: 0.5329 - val_accuracy: 0.7656\n",
      "Epoch 135/200\n",
      "10/10 [==============================] - 1s 143ms/step - loss: 0.4026 - accuracy: 0.8281 - val_loss: 0.5453 - val_accuracy: 0.8125\n",
      "Epoch 136/200\n",
      "10/10 [==============================] - 1s 129ms/step - loss: 0.3837 - accuracy: 0.8531 - val_loss: 0.3695 - val_accuracy: 0.8438\n",
      "Epoch 137/200\n",
      "10/10 [==============================] - 1s 130ms/step - loss: 0.4111 - accuracy: 0.8094 - val_loss: 0.6307 - val_accuracy: 0.7500\n",
      "Epoch 138/200\n",
      "10/10 [==============================] - 1s 127ms/step - loss: 0.4199 - accuracy: 0.8281 - val_loss: 0.4174 - val_accuracy: 0.7812\n",
      "Epoch 139/200\n",
      "10/10 [==============================] - 1s 128ms/step - loss: 0.3687 - accuracy: 0.8500 - val_loss: 0.4707 - val_accuracy: 0.7969\n",
      "Epoch 140/200\n",
      "10/10 [==============================] - 1s 126ms/step - loss: 0.3971 - accuracy: 0.8265 - val_loss: 0.4741 - val_accuracy: 0.8281\n",
      "Epoch 141/200\n",
      "10/10 [==============================] - 1s 128ms/step - loss: 0.3911 - accuracy: 0.8423 - val_loss: 0.5760 - val_accuracy: 0.7500\n",
      "Epoch 142/200\n",
      "10/10 [==============================] - 1s 135ms/step - loss: 0.4130 - accuracy: 0.8094 - val_loss: 0.3529 - val_accuracy: 0.8438\n",
      "Epoch 143/200\n",
      "10/10 [==============================] - 2s 150ms/step - loss: 0.4054 - accuracy: 0.8188 - val_loss: 0.5006 - val_accuracy: 0.7969\n",
      "Epoch 144/200\n",
      "10/10 [==============================] - 1s 129ms/step - loss: 0.3540 - accuracy: 0.8687 - val_loss: 0.4595 - val_accuracy: 0.7656\n",
      "Epoch 145/200\n",
      "10/10 [==============================] - 1s 129ms/step - loss: 0.4138 - accuracy: 0.8344 - val_loss: 0.6096 - val_accuracy: 0.7812\n",
      "Epoch 146/200\n",
      "10/10 [==============================] - 1s 125ms/step - loss: 0.4093 - accuracy: 0.8265 - val_loss: 0.4167 - val_accuracy: 0.8125\n",
      "Epoch 147/200\n",
      "10/10 [==============================] - 1s 126ms/step - loss: 0.3604 - accuracy: 0.8656 - val_loss: 0.5431 - val_accuracy: 0.8281\n",
      "Epoch 148/200\n",
      "10/10 [==============================] - 1s 127ms/step - loss: 0.3799 - accuracy: 0.8265 - val_loss: 0.4748 - val_accuracy: 0.7969\n",
      "Epoch 149/200\n",
      "10/10 [==============================] - 1s 126ms/step - loss: 0.3893 - accuracy: 0.8281 - val_loss: 0.6040 - val_accuracy: 0.7656\n",
      "Epoch 150/200\n",
      "10/10 [==============================] - 1s 143ms/step - loss: 0.4037 - accuracy: 0.8094 - val_loss: 0.3322 - val_accuracy: 0.8594\n",
      "Epoch 151/200\n",
      "10/10 [==============================] - 1s 142ms/step - loss: 0.3893 - accuracy: 0.8486 - val_loss: 0.5210 - val_accuracy: 0.7656\n",
      "Epoch 152/200\n",
      "10/10 [==============================] - 1s 129ms/step - loss: 0.3821 - accuracy: 0.8500 - val_loss: 0.3421 - val_accuracy: 0.8438\n",
      "Epoch 153/200\n",
      "10/10 [==============================] - 1s 146ms/step - loss: 0.3899 - accuracy: 0.8360 - val_loss: 0.7153 - val_accuracy: 0.7031\n",
      "Epoch 154/200\n",
      "10/10 [==============================] - 2s 154ms/step - loss: 0.4321 - accuracy: 0.7937 - val_loss: 0.4819 - val_accuracy: 0.8125\n",
      "Epoch 155/200\n",
      "10/10 [==============================] - 2s 148ms/step - loss: 0.3905 - accuracy: 0.8297 - val_loss: 0.5561 - val_accuracy: 0.7500\n",
      "Epoch 156/200\n",
      "10/10 [==============================] - 1s 133ms/step - loss: 0.3781 - accuracy: 0.8406 - val_loss: 0.6499 - val_accuracy: 0.7344\n",
      "Epoch 157/200\n",
      "10/10 [==============================] - 2s 149ms/step - loss: 0.3594 - accuracy: 0.8549 - val_loss: 0.6797 - val_accuracy: 0.7500\n",
      "Epoch 158/200\n",
      "10/10 [==============================] - 1s 143ms/step - loss: 0.3996 - accuracy: 0.8281 - val_loss: 0.5605 - val_accuracy: 0.7344\n",
      "Epoch 159/200\n",
      "10/10 [==============================] - 2s 144ms/step - loss: 0.4307 - accuracy: 0.8125 - val_loss: 0.4039 - val_accuracy: 0.8438\n",
      "Epoch 160/200\n",
      "10/10 [==============================] - 1s 132ms/step - loss: 0.3916 - accuracy: 0.8360 - val_loss: 0.3641 - val_accuracy: 0.8594\n",
      "Epoch 161/200\n",
      "10/10 [==============================] - 1s 127ms/step - loss: 0.3758 - accuracy: 0.8517 - val_loss: 0.3556 - val_accuracy: 0.8438\n",
      "Epoch 162/200\n",
      "10/10 [==============================] - 1s 128ms/step - loss: 0.3535 - accuracy: 0.8423 - val_loss: 0.5664 - val_accuracy: 0.7812\n",
      "Epoch 163/200\n",
      "10/10 [==============================] - 2s 158ms/step - loss: 0.3689 - accuracy: 0.8406 - val_loss: 0.6373 - val_accuracy: 0.7500\n",
      "Epoch 164/200\n",
      "10/10 [==============================] - 2s 152ms/step - loss: 0.3654 - accuracy: 0.8500 - val_loss: 0.4357 - val_accuracy: 0.8125\n",
      "Epoch 165/200\n",
      "10/10 [==============================] - 1s 138ms/step - loss: 0.4044 - accuracy: 0.8423 - val_loss: 0.6463 - val_accuracy: 0.7656\n",
      "Epoch 166/200\n",
      "10/10 [==============================] - 1s 143ms/step - loss: 0.3956 - accuracy: 0.8375 - val_loss: 0.5552 - val_accuracy: 0.7969\n",
      "Epoch 167/200\n",
      "10/10 [==============================] - 1s 130ms/step - loss: 0.3945 - accuracy: 0.8188 - val_loss: 0.5402 - val_accuracy: 0.7812\n",
      "Epoch 168/200\n",
      "10/10 [==============================] - 1s 129ms/step - loss: 0.4106 - accuracy: 0.8313 - val_loss: 0.7276 - val_accuracy: 0.7188\n",
      "Epoch 169/200\n",
      "10/10 [==============================] - 1s 129ms/step - loss: 0.3973 - accuracy: 0.8391 - val_loss: 0.4465 - val_accuracy: 0.8438\n",
      "Epoch 170/200\n",
      "10/10 [==============================] - 1s 130ms/step - loss: 0.3927 - accuracy: 0.8344 - val_loss: 0.4891 - val_accuracy: 0.7812\n",
      "Epoch 171/200\n"
     ]
    },
    {
     "name": "stdout",
     "output_type": "stream",
     "text": [
      "10/10 [==============================] - 1s 124ms/step - loss: 0.3835 - accuracy: 0.8486 - val_loss: 0.3823 - val_accuracy: 0.8438\n",
      "Epoch 172/200\n",
      "10/10 [==============================] - 1s 126ms/step - loss: 0.3738 - accuracy: 0.8469 - val_loss: 0.5029 - val_accuracy: 0.8125\n",
      "Epoch 173/200\n",
      "10/10 [==============================] - 1s 125ms/step - loss: 0.4008 - accuracy: 0.8313 - val_loss: 0.5926 - val_accuracy: 0.7188\n",
      "Epoch 174/200\n",
      "10/10 [==============================] - 1s 123ms/step - loss: 0.3967 - accuracy: 0.8423 - val_loss: 0.6325 - val_accuracy: 0.7969\n",
      "Epoch 175/200\n",
      "10/10 [==============================] - 1s 125ms/step - loss: 0.4081 - accuracy: 0.8328 - val_loss: 0.6127 - val_accuracy: 0.7188\n",
      "Epoch 176/200\n",
      "10/10 [==============================] - 1s 124ms/step - loss: 0.3636 - accuracy: 0.8549 - val_loss: 0.4668 - val_accuracy: 0.8750\n",
      "Epoch 177/200\n",
      "10/10 [==============================] - 1s 125ms/step - loss: 0.3496 - accuracy: 0.8469 - val_loss: 0.5062 - val_accuracy: 0.7812\n",
      "Epoch 178/200\n",
      "10/10 [==============================] - 1s 128ms/step - loss: 0.3992 - accuracy: 0.8297 - val_loss: 0.4646 - val_accuracy: 0.8438\n",
      "Epoch 179/200\n",
      "10/10 [==============================] - 1s 126ms/step - loss: 0.3659 - accuracy: 0.8594 - val_loss: 0.4768 - val_accuracy: 0.8125\n",
      "Epoch 180/200\n",
      "10/10 [==============================] - 1s 125ms/step - loss: 0.3515 - accuracy: 0.8562 - val_loss: 0.6039 - val_accuracy: 0.7812\n",
      "Epoch 181/200\n",
      "10/10 [==============================] - 1s 124ms/step - loss: 0.4017 - accuracy: 0.8297 - val_loss: 0.4451 - val_accuracy: 0.8125\n",
      "Epoch 182/200\n",
      "10/10 [==============================] - 1s 124ms/step - loss: 0.3687 - accuracy: 0.8313 - val_loss: 0.5770 - val_accuracy: 0.7344\n",
      "Epoch 183/200\n",
      "10/10 [==============================] - 1s 127ms/step - loss: 0.3825 - accuracy: 0.8233 - val_loss: 0.3613 - val_accuracy: 0.8750\n",
      "Epoch 184/200\n",
      "10/10 [==============================] - 1s 126ms/step - loss: 0.3564 - accuracy: 0.8486 - val_loss: 0.3238 - val_accuracy: 0.8594\n",
      "Epoch 185/200\n",
      "10/10 [==============================] - 1s 125ms/step - loss: 0.3301 - accuracy: 0.8770 - val_loss: 0.4481 - val_accuracy: 0.8438\n",
      "Epoch 186/200\n",
      "10/10 [==============================] - 1s 128ms/step - loss: 0.3855 - accuracy: 0.8265 - val_loss: 0.4856 - val_accuracy: 0.8125\n",
      "Epoch 187/200\n",
      "10/10 [==============================] - 1s 125ms/step - loss: 0.3660 - accuracy: 0.8469 - val_loss: 0.5929 - val_accuracy: 0.7812\n",
      "Epoch 188/200\n",
      "10/10 [==============================] - 1s 123ms/step - loss: 0.3514 - accuracy: 0.8531 - val_loss: 0.4569 - val_accuracy: 0.8125\n",
      "Epoch 189/200\n",
      "10/10 [==============================] - 1s 123ms/step - loss: 0.3535 - accuracy: 0.8406 - val_loss: 0.5912 - val_accuracy: 0.7812\n",
      "Epoch 190/200\n",
      "10/10 [==============================] - 1s 123ms/step - loss: 0.3522 - accuracy: 0.8594 - val_loss: 0.6162 - val_accuracy: 0.7812\n",
      "Epoch 191/200\n",
      "10/10 [==============================] - 1s 123ms/step - loss: 0.3226 - accuracy: 0.8656 - val_loss: 0.5775 - val_accuracy: 0.7188\n",
      "Epoch 192/200\n",
      "10/10 [==============================] - 1s 128ms/step - loss: 0.3719 - accuracy: 0.8594 - val_loss: 0.4856 - val_accuracy: 0.7969\n",
      "Epoch 193/200\n",
      "10/10 [==============================] - 1s 129ms/step - loss: 0.3856 - accuracy: 0.8391 - val_loss: 0.5254 - val_accuracy: 0.8281\n",
      "Epoch 194/200\n",
      "10/10 [==============================] - 1s 127ms/step - loss: 0.3925 - accuracy: 0.8375 - val_loss: 0.5871 - val_accuracy: 0.7812\n",
      "Epoch 195/200\n",
      "10/10 [==============================] - 1s 126ms/step - loss: 0.3785 - accuracy: 0.8594 - val_loss: 0.4708 - val_accuracy: 0.8125\n",
      "Epoch 196/200\n",
      "10/10 [==============================] - 1s 125ms/step - loss: 0.3473 - accuracy: 0.8562 - val_loss: 0.5054 - val_accuracy: 0.7969\n",
      "Epoch 197/200\n",
      "10/10 [==============================] - 1s 125ms/step - loss: 0.3901 - accuracy: 0.8250 - val_loss: 0.5738 - val_accuracy: 0.7812\n",
      "Epoch 198/200\n",
      "10/10 [==============================] - 1s 125ms/step - loss: 0.3794 - accuracy: 0.8469 - val_loss: 0.4663 - val_accuracy: 0.8438\n",
      "Epoch 199/200\n",
      "10/10 [==============================] - 1s 124ms/step - loss: 0.3559 - accuracy: 0.8531 - val_loss: 0.5595 - val_accuracy: 0.7969\n",
      "Epoch 200/200\n",
      "10/10 [==============================] - 1s 124ms/step - loss: 0.3740 - accuracy: 0.8580 - val_loss: 0.5204 - val_accuracy: 0.7656\n"
     ]
    }
   ],
   "source": [
    "model = Sequential()\n",
    "\n",
    "model.add(Conv2D(64, (3, 3), input_shape=input_shape))\n",
    "model.add(Activation('relu'))\n",
    "model.add(MaxPooling2D(pool_size=(2, 2)))\n",
    "\n",
    "model.add(Conv2D(128, (3, 3)))\n",
    "model.add(Activation('relu'))\n",
    "model.add(MaxPooling2D(pool_size=(2, 2)))\n",
    "\n",
    "model.add(Flatten())\n",
    "\n",
    "model.add(Dense(128))\n",
    "model.add(Activation('relu'))\n",
    "model.add(Dense(1))\n",
    "model.add(Activation('sigmoid'))\n",
    "\n",
    "import tensorflow as tf\n",
    "from tensorflow import keras\n",
    "from keras import optimizers\n",
    "model.compile(loss='binary_crossentropy', \n",
    "              optimizer=keras.optimizers.Adam(lr=.0001),\n",
    "              metrics=['accuracy'])\n",
    "\n",
    "hist = model.fit_generator(train_generator,steps_per_epoch=10,epochs=200,validation_data=validation_generator,validation_steps=2)"
   ]
  },
  {
   "cell_type": "code",
   "execution_count": 10,
   "id": "999bc1f8",
   "metadata": {},
   "outputs": [
    {
     "data": {
      "image/png": "[encoded data removed]",
      "text/plain": [
       "<Figure size 432x288 with 1 Axes>"
      ]
     },
     "metadata": {
      "needs_background": "light"
     },
     "output_type": "display_data"
    },
    {
     "data": {
      "image/png": "[encoded data removed]",
      "text/plain": [
       "<Figure size 432x288 with 1 Axes>"
      ]
     },
     "metadata": {
      "needs_background": "light"
     },
     "output_type": "display_data"
    }
   ],
   "source": [
    "plt.plot(hist.history['accuracy'])\n",
    "plt.plot(hist.history['val_accuracy'])\n",
    "plt.title('Model accuracy')\n",
    "plt.ylabel('Accuracy')\n",
    "plt.xlabel('Epoch')\n",
    "plt.legend(['Train', 'Val'], loc='upper left')\n",
    "plt.show()\n",
    "\n",
    "plt.plot(hist.history['loss'])\n",
    "plt.plot(hist.history['val_loss'])\n",
    "plt.title('Model loss')\n",
    "plt.ylabel('Loss')\n",
    "plt.xlabel('Epoch')\n",
    "plt.legend(['Train', 'Val'], loc='upper right')\n",
    "plt.show()"
   ]
  },
  {
   "cell_type": "code",
   "execution_count": 11,
   "id": "75804d50",
   "metadata": {},
   "outputs": [],
   "source": [
    "create_directory('mixed')"
   ]
  },
  {
   "cell_type": "code",
   "execution_count": 12,
   "id": "94c1079f",
   "metadata": {},
   "outputs": [
    {
     "name": "stdout",
     "output_type": "stream",
     "text": [
      "Mixed_grain/image_3.jpg\n"
     ]
    }
   ],
   "source": [
    "mixed = input()"
   ]
  },
  {
   "cell_type": "code",
   "execution_count": 13,
   "id": "e0cf0e04",
   "metadata": {},
   "outputs": [
    {
     "name": "stdout",
     "output_type": "stream",
     "text": [
      "Number of detected contours 595\n"
     ]
    }
   ],
   "source": [
    "pre_process_And_Count(mixed, 'mixed/mixed_')"
   ]
  },
  {
   "cell_type": "code",
   "execution_count": 14,
   "id": "f75f0a58",
   "metadata": {},
   "outputs": [],
   "source": [
    "import os\n",
    "from os import listdir\n",
    "from os.path import isfile, join"
   ]
  },
  {
   "cell_type": "code",
   "execution_count": 15,
   "id": "3406172f",
   "metadata": {},
   "outputs": [
    {
     "name": "stderr",
     "output_type": "stream",
     "text": [
      "C:\\Users\\LAZ\\AppData\\Roaming\\Python\\Python39\\site-packages\\keras_preprocessing\\image\\utils.py:107: UserWarning: grayscale is deprecated. Please use color_mode = \"grayscale\"\n",
      "  warnings.warn('grayscale is deprecated. Please use '\n"
     ]
    },
    {
     "name": "stdout",
     "output_type": "stream",
     "text": [
      "Total full : 343\n",
      "Total broken : 252\n"
     ]
    }
   ],
   "source": [
    "import os\n",
    "from os import listdir\n",
    "from os.path import isfile, join\n",
    "\n",
    "predict_dir_path='mixed/'\n",
    "onlyfiles = [f for f in listdir(predict_dir_path) if isfile(join(predict_dir_path, f))]\n",
    "\n",
    "from keras.preprocessing import image\n",
    "full = 0 \n",
    "broken  = 0\n",
    "for file in onlyfiles:\n",
    "    img = image.load_img(predict_dir_path+'/'+file, target_size=(img_width, img_height), grayscale=True)\n",
    "    x = image.img_to_array(img)\n",
    "    x = np.expand_dims(x, axis=0)\n",
    "    \n",
    "    images = np.vstack([x])\n",
    "    classes = model.predict(images, batch_size=32)\n",
    "    classes = classes[0][0]\n",
    "    if classes == 0:\n",
    "        broken += 1\n",
    "    else:\n",
    "        full += 1\n",
    "    \n",
    "print(\"Total full :\",full)\n",
    "print(\"Total broken :\",broken)"
   ]
  },
  {
   "cell_type": "code",
   "execution_count": 16,
   "id": "93b77716",
   "metadata": {},
   "outputs": [
    {
     "name": "stdout",
     "output_type": "stream",
     "text": [
      "Total rice grains- 595\n"
     ]
    }
   ],
   "source": [
    "print(\"Total rice grains-\", (broken+full))"
   ]
  }
 ],
 "metadata": {
  "kernelspec": {
   "display_name": "Python 3 (ipykernel)",
   "language": "python",
   "name": "python3"
  },
  "language_info": {
   "codemirror_mode": {
    "name": "ipython",
    "version": 3
   },
   "file_extension": ".py",
   "mimetype": "text/x-python",
   "name": "python",
   "nbconvert_exporter": "python",
   "pygments_lexer": "ipython3",
   "version": "3.9.7"
  }
 },
 "nbformat": 4,
 "nbformat_minor": 5
}
