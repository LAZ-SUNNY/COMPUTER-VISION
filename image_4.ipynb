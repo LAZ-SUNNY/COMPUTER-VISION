{
 "cells": [
  {
   "cell_type": "code",
   "execution_count": 1,
   "id": "55de921c",
   "metadata": {},
   "outputs": [],
   "source": [
    "import cv2\n",
    "import  numpy as np\n",
    "%matplotlib inline\n",
    "import matplotlib.pyplot as plt\n",
    "np.random.seed(30)\n",
    "import random as rn\n",
    "rn.seed(30)\n",
    "from keras import backend as K\n",
    "import tensorflow as tf\n",
    "from keras.models import Sequential,Model\n",
    "from keras.layers import Dense,Flatten,Flatten,BatchNormalization,Activation\n",
    "from keras.layers.convolutional import Conv2D,MaxPooling2D\n",
    "from keras import optimizers\n",
    "from keras.layers import Dropout\n",
    "from tensorflow.keras.preprocessing.image import ImageDataGenerator\n",
    "from tensorflow.keras.preprocessing import image_dataset_from_directory\n",
    "\n",
    "broken='Broken_grain/broken_grain_2.jpg'\n",
    "full='Full_grain/full_grain_4.jpg'\n",
    "def crop_resize_img(img):\n",
    "    ht,wd=img.shape\n",
    "    ww=300\n",
    "    hh=300\n",
    "    color=0\n",
    "    result = np.full((hh,ww), color, dtype=np.uint8)\n",
    "    xx=(ww - wd)//2\n",
    "    yy=(hh - ht)//2\n",
    "    result[yy:yy+ht,xx:xx+wd]=img\n",
    "\n",
    "    final =cv2.resize(result,(50,50))\n",
    "    \n",
    "    return final"
   ]
  },
  {
   "cell_type": "code",
   "execution_count": 2,
   "id": "ba6e1ebb",
   "metadata": {},
   "outputs": [],
   "source": [
    "def pre_process_And_Count(image_path, output_path):\n",
    "\n",
    "    input_rice = cv2.imread(image_path, cv2.IMREAD_GRAYSCALE)\n",
    "    \n",
    "    output_adapthresh = cv2.adaptiveThreshold (input_rice, 255.0, cv2.ADAPTIVE_THRESH_MEAN_C, cv2.THRESH_BINARY, 51, -20.0)\n",
    "\n",
    "    cv2.imwrite('rice_adapthresh.png', output_adapthresh)\n",
    "    \n",
    "    kernel = np.ones((5,5),np.uint8)\n",
    "    output_erosion = cv2.erode(output_adapthresh, kernel)\n",
    "\n",
    "    cv2.imwrite('rice_erosion.png', output_erosion)\n",
    "    \n",
    "    contours, hierarchy = cv2.findContours(output_erosion, cv2.RETR_EXTERNAL,  cv2.CHAIN_APPROX_SIMPLE)\n",
    "    output_contour = cv2.cvtColor(input_rice, cv2.COLOR_GRAY2BGR)\n",
    "    cv2.drawContours(output_contour, contours, -1, (0, 0, 255), 2)\n",
    "    print(\"Number of detected contours\", len(contours))\n",
    "    \n",
    "    cv2.imwrite('rice_contours.png', output_contour)\n",
    "    \n",
    "    k=1\n",
    "    temp = 0.70 * len(contours)\n",
    "    for i in contours:\n",
    "        x, y, width, height = cv2.boundingRect(i)\n",
    "        roi = output_erosion[y:y+height, x:x+width]\n",
    "        roi=crop_resize_img(roi)\n",
    "        path  = ''\n",
    "        if output_path !='mixed/mixed_':\n",
    "            if k<temp:\n",
    "                path = 'dataset/train/'+output_path\n",
    "\n",
    "            else:\n",
    "                path = 'dataset/test/'+output_path\n",
    "        else:\n",
    "            path = output_path\n",
    "        cv2.imwrite(path+str(k)+\".png\", roi)\n",
    "        k+=1"
   ]
  },
  {
   "cell_type": "code",
   "execution_count": 3,
   "id": "a0318cec",
   "metadata": {},
   "outputs": [
    {
     "name": "stdout",
     "output_type": "stream",
     "text": [
      "Number of detected contours 613\n"
     ]
    }
   ],
   "source": [
    "import os\n",
    "def create_directory(path):\n",
    "    if not os.path.exists(path):\n",
    "        os.makedirs(path)\n",
    "        \n",
    "create_directory('dataset')\n",
    "create_directory('dataset/train')\n",
    "create_directory('dataset/test')\n",
    "create_directory('dataset/train/full_rice')\n",
    "create_directory('dataset/test/full_rice')\n",
    "create_directory('dataset/train/broken_rice')\n",
    "create_directory('dataset/test/broken_rice')\n",
    "pre_process_And_Count(full, 'full_rice/full_')"
   ]
  },
  {
   "cell_type": "code",
   "execution_count": 4,
   "id": "75c03cb8",
   "metadata": {},
   "outputs": [
    {
     "name": "stdout",
     "output_type": "stream",
     "text": [
      "Number of detected contours 526\n"
     ]
    }
   ],
   "source": [
    "pre_process_And_Count(broken, 'broken_rice/broken_')"
   ]
  },
  {
   "cell_type": "code",
   "execution_count": 5,
   "id": "a1bf3f1d",
   "metadata": {},
   "outputs": [
    {
     "name": "stdout",
     "output_type": "stream",
     "text": [
      "Found 797 images belonging to 2 classes.\n",
      "Found 342 images belonging to 2 classes.\n"
     ]
    }
   ],
   "source": [
    "image_size = (50,50)\n",
    "batch_size = 32\n",
    "\n",
    "train_datagen = ImageDataGenerator(\n",
    "    rescale=1. / 255,\n",
    "    shear_range=0.2,\n",
    "    zoom_range=0.2,\n",
    "    horizontal_flip=True)\n",
    "test_datagen = ImageDataGenerator(rescale=1. / 255)\n",
    "\n",
    "train_generator = train_datagen.flow_from_directory(\n",
    "    \"dataset/train\",\n",
    "    target_size=(50,50),\n",
    "    batch_size=32,\n",
    "    class_mode='binary',\n",
    "    color_mode='grayscale'\n",
    ")\n",
    "\n",
    "\n",
    "validation_generator = test_datagen.flow_from_directory(\n",
    "    \"dataset/test\",\n",
    "    target_size=(50, 50),\n",
    "    batch_size=32,\n",
    "    class_mode='binary',\n",
    "    color_mode='grayscale'\n",
    ")"
   ]
  },
  {
   "cell_type": "code",
   "execution_count": 6,
   "id": "434ed365",
   "metadata": {},
   "outputs": [
    {
     "data": {
      "text/plain": [
       "{'broken_rice': 0, 'full_rice': 1}"
      ]
     },
     "execution_count": 6,
     "metadata": {},
     "output_type": "execute_result"
    }
   ],
   "source": [
    "train_generator.class_indices"
   ]
  },
  {
   "cell_type": "code",
   "execution_count": 7,
   "id": "cd8b2344",
   "metadata": {},
   "outputs": [
    {
     "data": {
      "text/plain": [
       "(32, 50, 50, 1)"
      ]
     },
     "execution_count": 7,
     "metadata": {},
     "output_type": "execute_result"
    }
   ],
   "source": [
    "a, b = next(train_generator)\n",
    "a.shape"
   ]
  },
  {
   "cell_type": "code",
   "execution_count": 8,
   "id": "fcd870b7",
   "metadata": {},
   "outputs": [
    {
     "data": {
      "text/plain": [
       "(50, 50, 1)"
      ]
     },
     "execution_count": 8,
     "metadata": {},
     "output_type": "execute_result"
    }
   ],
   "source": [
    "img_width = 50\n",
    "img_height = 50\n",
    "\n",
    "# Check for TensorFlow or Thieno\n",
    "if K.image_data_format() == 'channels_first':\n",
    "    input_shape = (1, img_width, img_height)\n",
    "else:\n",
    "    input_shape = (img_width, img_height, 1)\n",
    "    \n",
    "input_shape"
   ]
  },
  {
   "cell_type": "code",
   "execution_count": 9,
   "id": "02af8673",
   "metadata": {},
   "outputs": [
    {
     "name": "stderr",
     "output_type": "stream",
     "text": [
      "C:\\Users\\LAZ\\AppData\\Roaming\\Python\\Python39\\site-packages\\keras\\optimizer_v2\\optimizer_v2.py:355: UserWarning: The `lr` argument is deprecated, use `learning_rate` instead.\n",
      "  warnings.warn(\n",
      "C:\\Users\\LAZ\\AppData\\Roaming\\Python\\Python39\\site-packages\\keras\\engine\\training.py:1972: UserWarning: `Model.fit_generator` is deprecated and will be removed in a future version. Please use `Model.fit`, which supports generators.\n",
      "  warnings.warn('`Model.fit_generator` is deprecated and '\n"
     ]
    },
    {
     "name": "stdout",
     "output_type": "stream",
     "text": [
      "Epoch 1/200\n",
      "10/10 [==============================] - 2s 151ms/step - loss: 0.6836 - accuracy: 0.6031 - val_loss: 0.6457 - val_accuracy: 0.8125\n",
      "Epoch 2/200\n",
      "10/10 [==============================] - 1s 127ms/step - loss: 0.6745 - accuracy: 0.6530 - val_loss: 0.6391 - val_accuracy: 0.6562\n",
      "Epoch 3/200\n",
      "10/10 [==============================] - 1s 125ms/step - loss: 0.6486 - accuracy: 0.6814 - val_loss: 0.6575 - val_accuracy: 0.7031\n",
      "Epoch 4/200\n",
      "10/10 [==============================] - 1s 132ms/step - loss: 0.6410 - accuracy: 0.7000 - val_loss: 0.6221 - val_accuracy: 0.6875\n",
      "Epoch 5/200\n",
      "10/10 [==============================] - 1s 130ms/step - loss: 0.6341 - accuracy: 0.6940 - val_loss: 0.5492 - val_accuracy: 0.8125\n",
      "Epoch 6/200\n",
      "10/10 [==============================] - 2s 164ms/step - loss: 0.6235 - accuracy: 0.7000 - val_loss: 0.5825 - val_accuracy: 0.7969\n",
      "Epoch 7/200\n",
      "10/10 [==============================] - 2s 163ms/step - loss: 0.6163 - accuracy: 0.6877 - val_loss: 0.4888 - val_accuracy: 0.8281\n",
      "Epoch 8/200\n",
      "10/10 [==============================] - 2s 154ms/step - loss: 0.6027 - accuracy: 0.6844 - val_loss: 0.5379 - val_accuracy: 0.7969\n",
      "Epoch 9/200\n",
      "10/10 [==============================] - 2s 173ms/step - loss: 0.6205 - accuracy: 0.7281 - val_loss: 0.5973 - val_accuracy: 0.8281\n",
      "Epoch 10/200\n",
      "10/10 [==============================] - 1s 124ms/step - loss: 0.5960 - accuracy: 0.7319 - val_loss: 0.5768 - val_accuracy: 0.8438\n",
      "Epoch 11/200\n",
      "10/10 [==============================] - 1s 131ms/step - loss: 0.5726 - accuracy: 0.7697 - val_loss: 0.5117 - val_accuracy: 0.7656\n",
      "Epoch 12/200\n",
      "10/10 [==============================] - 1s 128ms/step - loss: 0.5719 - accuracy: 0.7571 - val_loss: 0.5272 - val_accuracy: 0.7500\n",
      "Epoch 13/200\n",
      "10/10 [==============================] - 1s 128ms/step - loss: 0.6290 - accuracy: 0.6751 - val_loss: 0.5096 - val_accuracy: 0.7812\n",
      "Epoch 14/200\n",
      "10/10 [==============================] - 2s 158ms/step - loss: 0.5514 - accuracy: 0.7500 - val_loss: 0.5951 - val_accuracy: 0.7500\n",
      "Epoch 15/200\n",
      "10/10 [==============================] - 1s 127ms/step - loss: 0.5343 - accuracy: 0.7875 - val_loss: 0.5302 - val_accuracy: 0.7500\n",
      "Epoch 16/200\n",
      "10/10 [==============================] - 1s 135ms/step - loss: 0.5720 - accuracy: 0.7250 - val_loss: 0.5958 - val_accuracy: 0.7500\n",
      "Epoch 17/200\n",
      "10/10 [==============================] - 2s 137ms/step - loss: 0.5285 - accuracy: 0.7697 - val_loss: 0.5937 - val_accuracy: 0.7188\n",
      "Epoch 18/200\n",
      "10/10 [==============================] - 2s 151ms/step - loss: 0.5199 - accuracy: 0.7812 - val_loss: 0.5256 - val_accuracy: 0.7500\n",
      "Epoch 19/200\n",
      "10/10 [==============================] - 2s 156ms/step - loss: 0.4975 - accuracy: 0.8170 - val_loss: 0.4417 - val_accuracy: 0.8594\n",
      "Epoch 20/200\n",
      "10/10 [==============================] - 1s 135ms/step - loss: 0.4975 - accuracy: 0.7950 - val_loss: 0.3772 - val_accuracy: 0.9062\n",
      "Epoch 21/200\n",
      "10/10 [==============================] - 1s 144ms/step - loss: 0.5111 - accuracy: 0.7719 - val_loss: 0.5203 - val_accuracy: 0.7969\n",
      "Epoch 22/200\n",
      "10/10 [==============================] - 1s 140ms/step - loss: 0.5219 - accuracy: 0.7500 - val_loss: 0.4625 - val_accuracy: 0.7969\n",
      "Epoch 23/200\n",
      "10/10 [==============================] - 1s 134ms/step - loss: 0.5034 - accuracy: 0.7812 - val_loss: 0.5460 - val_accuracy: 0.7969\n",
      "Epoch 24/200\n",
      "10/10 [==============================] - 1s 133ms/step - loss: 0.5318 - accuracy: 0.7625 - val_loss: 0.3911 - val_accuracy: 0.8750\n",
      "Epoch 25/200\n",
      "10/10 [==============================] - 1s 128ms/step - loss: 0.5209 - accuracy: 0.7697 - val_loss: 0.4504 - val_accuracy: 0.8438\n",
      "Epoch 26/200\n",
      "10/10 [==============================] - 1s 133ms/step - loss: 0.5041 - accuracy: 0.7906 - val_loss: 0.6008 - val_accuracy: 0.7344\n",
      "Epoch 27/200\n",
      "10/10 [==============================] - 1s 132ms/step - loss: 0.5301 - accuracy: 0.7500 - val_loss: 0.4021 - val_accuracy: 0.8906\n",
      "Epoch 28/200\n",
      "10/10 [==============================] - 1s 132ms/step - loss: 0.4976 - accuracy: 0.7625 - val_loss: 0.4543 - val_accuracy: 0.8594\n",
      "Epoch 29/200\n",
      "10/10 [==============================] - 1s 129ms/step - loss: 0.4909 - accuracy: 0.8031 - val_loss: 0.4744 - val_accuracy: 0.8281\n",
      "Epoch 30/200\n",
      "10/10 [==============================] - 1s 129ms/step - loss: 0.4930 - accuracy: 0.7812 - val_loss: 0.4925 - val_accuracy: 0.8125\n",
      "Epoch 31/200\n",
      "10/10 [==============================] - 1s 128ms/step - loss: 0.4967 - accuracy: 0.7781 - val_loss: 0.4300 - val_accuracy: 0.8438\n",
      "Epoch 32/200\n",
      "10/10 [==============================] - 1s 127ms/step - loss: 0.4974 - accuracy: 0.7918 - val_loss: 0.3436 - val_accuracy: 0.8906\n",
      "Epoch 33/200\n",
      "10/10 [==============================] - 1s 123ms/step - loss: 0.4847 - accuracy: 0.7844 - val_loss: 0.4801 - val_accuracy: 0.8125\n",
      "Epoch 34/200\n",
      "10/10 [==============================] - 1s 122ms/step - loss: 0.5297 - accuracy: 0.7603 - val_loss: 0.5736 - val_accuracy: 0.7500\n",
      "Epoch 35/200\n",
      "10/10 [==============================] - 1s 125ms/step - loss: 0.4868 - accuracy: 0.7719 - val_loss: 0.5392 - val_accuracy: 0.7500\n",
      "Epoch 36/200\n",
      "10/10 [==============================] - 1s 122ms/step - loss: 0.5147 - accuracy: 0.7539 - val_loss: 0.3744 - val_accuracy: 0.8750\n",
      "Epoch 37/200\n",
      "10/10 [==============================] - 1s 122ms/step - loss: 0.4607 - accuracy: 0.8000 - val_loss: 0.4288 - val_accuracy: 0.8281\n",
      "Epoch 38/200\n",
      "10/10 [==============================] - 1s 122ms/step - loss: 0.4947 - accuracy: 0.7844 - val_loss: 0.4210 - val_accuracy: 0.8594\n",
      "Epoch 39/200\n",
      "10/10 [==============================] - 1s 122ms/step - loss: 0.4783 - accuracy: 0.7719 - val_loss: 0.3708 - val_accuracy: 0.8438\n",
      "Epoch 40/200\n",
      "10/10 [==============================] - 1s 123ms/step - loss: 0.4734 - accuracy: 0.8000 - val_loss: 0.4291 - val_accuracy: 0.8281\n",
      "Epoch 41/200\n",
      "10/10 [==============================] - 1s 120ms/step - loss: 0.4525 - accuracy: 0.8013 - val_loss: 0.4482 - val_accuracy: 0.8281\n",
      "Epoch 42/200\n",
      "10/10 [==============================] - 1s 121ms/step - loss: 0.4972 - accuracy: 0.7719 - val_loss: 0.5300 - val_accuracy: 0.8125\n",
      "Epoch 43/200\n",
      "10/10 [==============================] - 1s 123ms/step - loss: 0.5004 - accuracy: 0.7688 - val_loss: 0.5244 - val_accuracy: 0.7500\n",
      "Epoch 44/200\n",
      "10/10 [==============================] - 1s 127ms/step - loss: 0.5131 - accuracy: 0.7634 - val_loss: 0.4421 - val_accuracy: 0.7969\n",
      "Epoch 45/200\n",
      "10/10 [==============================] - 1s 123ms/step - loss: 0.5076 - accuracy: 0.7594 - val_loss: 0.4042 - val_accuracy: 0.8125\n",
      "Epoch 46/200\n",
      "10/10 [==============================] - 1s 122ms/step - loss: 0.4486 - accuracy: 0.8094 - val_loss: 0.5241 - val_accuracy: 0.7969\n",
      "Epoch 47/200\n",
      "10/10 [==============================] - 1s 123ms/step - loss: 0.4678 - accuracy: 0.7781 - val_loss: 0.5200 - val_accuracy: 0.7969\n",
      "Epoch 48/200\n",
      "10/10 [==============================] - 1s 126ms/step - loss: 0.4540 - accuracy: 0.8156 - val_loss: 0.4392 - val_accuracy: 0.8125\n",
      "Epoch 49/200\n",
      "10/10 [==============================] - 1s 124ms/step - loss: 0.4752 - accuracy: 0.8000 - val_loss: 0.4813 - val_accuracy: 0.8125\n",
      "Epoch 50/200\n",
      "10/10 [==============================] - 1s 126ms/step - loss: 0.4570 - accuracy: 0.7969 - val_loss: 0.4132 - val_accuracy: 0.8125\n",
      "Epoch 51/200\n",
      "10/10 [==============================] - 1s 123ms/step - loss: 0.4871 - accuracy: 0.7760 - val_loss: 0.3586 - val_accuracy: 0.8750\n",
      "Epoch 52/200\n",
      "10/10 [==============================] - 1s 121ms/step - loss: 0.4748 - accuracy: 0.8000 - val_loss: 0.5096 - val_accuracy: 0.7656\n",
      "Epoch 53/200\n",
      "10/10 [==============================] - 1s 122ms/step - loss: 0.4588 - accuracy: 0.8107 - val_loss: 0.3269 - val_accuracy: 0.8750\n",
      "Epoch 54/200\n",
      "10/10 [==============================] - 1s 126ms/step - loss: 0.4545 - accuracy: 0.8000 - val_loss: 0.5554 - val_accuracy: 0.7500\n",
      "Epoch 55/200\n",
      "10/10 [==============================] - 1s 121ms/step - loss: 0.4627 - accuracy: 0.7969 - val_loss: 0.5196 - val_accuracy: 0.7656\n",
      "Epoch 56/200\n",
      "10/10 [==============================] - 1s 123ms/step - loss: 0.4754 - accuracy: 0.7855 - val_loss: 0.5051 - val_accuracy: 0.8281\n",
      "Epoch 57/200\n",
      "10/10 [==============================] - 1s 123ms/step - loss: 0.4066 - accuracy: 0.8265 - val_loss: 0.3754 - val_accuracy: 0.8594\n"
     ]
    },
    {
     "name": "stdout",
     "output_type": "stream",
     "text": [
      "Epoch 58/200\n",
      "10/10 [==============================] - 1s 124ms/step - loss: 0.4657 - accuracy: 0.7781 - val_loss: 0.4893 - val_accuracy: 0.7812\n",
      "Epoch 59/200\n",
      "10/10 [==============================] - 1s 134ms/step - loss: 0.4638 - accuracy: 0.7886 - val_loss: 0.5891 - val_accuracy: 0.7500\n",
      "Epoch 60/200\n",
      "10/10 [==============================] - 2s 162ms/step - loss: 0.4661 - accuracy: 0.7729 - val_loss: 0.4768 - val_accuracy: 0.7812\n",
      "Epoch 61/200\n",
      "10/10 [==============================] - 2s 175ms/step - loss: 0.4371 - accuracy: 0.8188 - val_loss: 0.4875 - val_accuracy: 0.7812\n",
      "Epoch 62/200\n",
      "10/10 [==============================] - 1s 140ms/step - loss: 0.4897 - accuracy: 0.7750 - val_loss: 0.5907 - val_accuracy: 0.7656\n",
      "Epoch 63/200\n",
      "10/10 [==============================] - 2s 157ms/step - loss: 0.4299 - accuracy: 0.8156 - val_loss: 0.4937 - val_accuracy: 0.8125\n",
      "Epoch 64/200\n",
      "10/10 [==============================] - 1s 145ms/step - loss: 0.4446 - accuracy: 0.8170 - val_loss: 0.5251 - val_accuracy: 0.7812\n",
      "Epoch 65/200\n",
      "10/10 [==============================] - 1s 141ms/step - loss: 0.5060 - accuracy: 0.7563 - val_loss: 0.4141 - val_accuracy: 0.8281\n",
      "Epoch 66/200\n",
      "10/10 [==============================] - 1s 147ms/step - loss: 0.4565 - accuracy: 0.7918 - val_loss: 0.4582 - val_accuracy: 0.8125\n",
      "Epoch 67/200\n",
      "10/10 [==============================] - 2s 160ms/step - loss: 0.4554 - accuracy: 0.8000 - val_loss: 0.3095 - val_accuracy: 0.9375\n",
      "Epoch 68/200\n",
      "10/10 [==============================] - 1s 144ms/step - loss: 0.4476 - accuracy: 0.8062 - val_loss: 0.4770 - val_accuracy: 0.7812\n",
      "Epoch 69/200\n",
      "10/10 [==============================] - 2s 168ms/step - loss: 0.4303 - accuracy: 0.7875 - val_loss: 0.6032 - val_accuracy: 0.7031\n",
      "Epoch 70/200\n",
      "10/10 [==============================] - 2s 175ms/step - loss: 0.4405 - accuracy: 0.8188 - val_loss: 0.6798 - val_accuracy: 0.6875\n",
      "Epoch 71/200\n",
      "10/10 [==============================] - 1s 129ms/step - loss: 0.4443 - accuracy: 0.8076 - val_loss: 0.5599 - val_accuracy: 0.7344\n",
      "Epoch 72/200\n",
      "10/10 [==============================] - 2s 150ms/step - loss: 0.4577 - accuracy: 0.7950 - val_loss: 0.5558 - val_accuracy: 0.7500\n",
      "Epoch 73/200\n",
      "10/10 [==============================] - 2s 181ms/step - loss: 0.4643 - accuracy: 0.8094 - val_loss: 0.3545 - val_accuracy: 0.8750\n",
      "Epoch 74/200\n",
      "10/10 [==============================] - 2s 183ms/step - loss: 0.4185 - accuracy: 0.8062 - val_loss: 0.2953 - val_accuracy: 0.8906\n",
      "Epoch 75/200\n",
      "10/10 [==============================] - 2s 163ms/step - loss: 0.4592 - accuracy: 0.7855 - val_loss: 0.4193 - val_accuracy: 0.8125\n",
      "Epoch 76/200\n",
      "10/10 [==============================] - 2s 163ms/step - loss: 0.4372 - accuracy: 0.7969 - val_loss: 0.5165 - val_accuracy: 0.7031\n",
      "Epoch 77/200\n",
      "10/10 [==============================] - 2s 166ms/step - loss: 0.4369 - accuracy: 0.7760 - val_loss: 0.4315 - val_accuracy: 0.8125\n",
      "Epoch 78/200\n",
      "10/10 [==============================] - 2s 182ms/step - loss: 0.4418 - accuracy: 0.8125 - val_loss: 0.4247 - val_accuracy: 0.8281\n",
      "Epoch 79/200\n",
      "10/10 [==============================] - 2s 172ms/step - loss: 0.4043 - accuracy: 0.8391 - val_loss: 0.4934 - val_accuracy: 0.7812\n",
      "Epoch 80/200\n",
      "10/10 [==============================] - 2s 182ms/step - loss: 0.4399 - accuracy: 0.8044 - val_loss: 0.5889 - val_accuracy: 0.7969\n",
      "Epoch 81/200\n",
      "10/10 [==============================] - 2s 153ms/step - loss: 0.4564 - accuracy: 0.7855 - val_loss: 0.5098 - val_accuracy: 0.7812\n",
      "Epoch 82/200\n",
      "10/10 [==============================] - 1s 146ms/step - loss: 0.4315 - accuracy: 0.7792 - val_loss: 0.4667 - val_accuracy: 0.7812\n",
      "Epoch 83/200\n",
      "10/10 [==============================] - 2s 170ms/step - loss: 0.4258 - accuracy: 0.8044 - val_loss: 0.4909 - val_accuracy: 0.8281\n",
      "Epoch 84/200\n",
      "10/10 [==============================] - 2s 158ms/step - loss: 0.4747 - accuracy: 0.7697 - val_loss: 0.4070 - val_accuracy: 0.8594\n",
      "Epoch 85/200\n",
      "10/10 [==============================] - 2s 151ms/step - loss: 0.4288 - accuracy: 0.8044 - val_loss: 0.4296 - val_accuracy: 0.8281\n",
      "Epoch 86/200\n",
      "10/10 [==============================] - 2s 158ms/step - loss: 0.4698 - accuracy: 0.7823 - val_loss: 0.5379 - val_accuracy: 0.7656\n",
      "Epoch 87/200\n",
      "10/10 [==============================] - 2s 158ms/step - loss: 0.4321 - accuracy: 0.8170 - val_loss: 0.5568 - val_accuracy: 0.7500\n",
      "Epoch 88/200\n",
      "10/10 [==============================] - 2s 160ms/step - loss: 0.4267 - accuracy: 0.8188 - val_loss: 0.3961 - val_accuracy: 0.8125\n",
      "Epoch 89/200\n",
      "10/10 [==============================] - 2s 176ms/step - loss: 0.4292 - accuracy: 0.8000 - val_loss: 0.4783 - val_accuracy: 0.8438\n",
      "Epoch 90/200\n",
      "10/10 [==============================] - 2s 164ms/step - loss: 0.4406 - accuracy: 0.8076 - val_loss: 0.5659 - val_accuracy: 0.7656\n",
      "Epoch 91/200\n",
      "10/10 [==============================] - 2s 191ms/step - loss: 0.3759 - accuracy: 0.8423 - val_loss: 0.5065 - val_accuracy: 0.7812\n",
      "Epoch 92/200\n",
      "10/10 [==============================] - 2s 184ms/step - loss: 0.4134 - accuracy: 0.8219 - val_loss: 0.3966 - val_accuracy: 0.7969\n",
      "Epoch 93/200\n",
      "10/10 [==============================] - 2s 173ms/step - loss: 0.4372 - accuracy: 0.8000 - val_loss: 0.4864 - val_accuracy: 0.8125\n",
      "Epoch 94/200\n",
      "10/10 [==============================] - 2s 153ms/step - loss: 0.4124 - accuracy: 0.8094 - val_loss: 0.4198 - val_accuracy: 0.8438\n",
      "Epoch 95/200\n",
      "10/10 [==============================] - 2s 154ms/step - loss: 0.3866 - accuracy: 0.8549 - val_loss: 0.3950 - val_accuracy: 0.8125\n",
      "Epoch 96/200\n",
      "10/10 [==============================] - 2s 151ms/step - loss: 0.3893 - accuracy: 0.8313 - val_loss: 0.4157 - val_accuracy: 0.8125\n",
      "Epoch 97/200\n",
      "10/10 [==============================] - 2s 151ms/step - loss: 0.4113 - accuracy: 0.8202 - val_loss: 0.3247 - val_accuracy: 0.8594\n",
      "Epoch 98/200\n",
      "10/10 [==============================] - 2s 152ms/step - loss: 0.4519 - accuracy: 0.7781 - val_loss: 0.3874 - val_accuracy: 0.8438\n",
      "Epoch 99/200\n",
      "10/10 [==============================] - 2s 155ms/step - loss: 0.4326 - accuracy: 0.8076 - val_loss: 0.4751 - val_accuracy: 0.8125\n",
      "Epoch 100/200\n",
      "10/10 [==============================] - 2s 150ms/step - loss: 0.4455 - accuracy: 0.8156 - val_loss: 0.3750 - val_accuracy: 0.8438\n",
      "Epoch 101/200\n",
      "10/10 [==============================] - 2s 158ms/step - loss: 0.3811 - accuracy: 0.8423 - val_loss: 0.4341 - val_accuracy: 0.8281\n",
      "Epoch 102/200\n",
      "10/10 [==============================] - 2s 151ms/step - loss: 0.3997 - accuracy: 0.8250 - val_loss: 0.4160 - val_accuracy: 0.8438\n",
      "Epoch 103/200\n",
      "10/10 [==============================] - 1s 148ms/step - loss: 0.4231 - accuracy: 0.8250 - val_loss: 0.5288 - val_accuracy: 0.7812\n",
      "Epoch 104/200\n",
      "10/10 [==============================] - 1s 146ms/step - loss: 0.4051 - accuracy: 0.8170 - val_loss: 0.5077 - val_accuracy: 0.7969\n",
      "Epoch 105/200\n",
      "10/10 [==============================] - 2s 153ms/step - loss: 0.4153 - accuracy: 0.8297 - val_loss: 0.3091 - val_accuracy: 0.8906\n",
      "Epoch 106/200\n",
      "10/10 [==============================] - 1s 144ms/step - loss: 0.4327 - accuracy: 0.8076 - val_loss: 0.5739 - val_accuracy: 0.7969\n",
      "Epoch 107/200\n",
      "10/10 [==============================] - 1s 146ms/step - loss: 0.3833 - accuracy: 0.8454 - val_loss: 0.5172 - val_accuracy: 0.7969\n",
      "Epoch 108/200\n",
      "10/10 [==============================] - 2s 171ms/step - loss: 0.4067 - accuracy: 0.8281 - val_loss: 0.3250 - val_accuracy: 0.8438\n",
      "Epoch 109/200\n",
      "10/10 [==============================] - 2s 178ms/step - loss: 0.4300 - accuracy: 0.8107 - val_loss: 0.5042 - val_accuracy: 0.7812\n",
      "Epoch 110/200\n",
      "10/10 [==============================] - 2s 164ms/step - loss: 0.4214 - accuracy: 0.8233 - val_loss: 0.6012 - val_accuracy: 0.6875\n",
      "Epoch 111/200\n",
      "10/10 [==============================] - 2s 177ms/step - loss: 0.4577 - accuracy: 0.8094 - val_loss: 0.5094 - val_accuracy: 0.7500\n",
      "Epoch 112/200\n",
      "10/10 [==============================] - 2s 156ms/step - loss: 0.4297 - accuracy: 0.8188 - val_loss: 0.4781 - val_accuracy: 0.7969\n",
      "Epoch 113/200\n",
      "10/10 [==============================] - 2s 150ms/step - loss: 0.4191 - accuracy: 0.8170 - val_loss: 0.3868 - val_accuracy: 0.8281\n",
      "Epoch 114/200\n",
      "10/10 [==============================] - 2s 153ms/step - loss: 0.4056 - accuracy: 0.8139 - val_loss: 0.6316 - val_accuracy: 0.7344\n"
     ]
    },
    {
     "name": "stdout",
     "output_type": "stream",
     "text": [
      "Epoch 115/200\n",
      "10/10 [==============================] - 1s 147ms/step - loss: 0.4328 - accuracy: 0.8188 - val_loss: 0.4022 - val_accuracy: 0.8594\n",
      "Epoch 116/200\n",
      "10/10 [==============================] - 1s 147ms/step - loss: 0.4098 - accuracy: 0.8344 - val_loss: 0.4814 - val_accuracy: 0.7969\n",
      "Epoch 117/200\n",
      "10/10 [==============================] - 2s 153ms/step - loss: 0.3819 - accuracy: 0.8580 - val_loss: 0.3941 - val_accuracy: 0.8594\n",
      "Epoch 118/200\n",
      "10/10 [==============================] - 2s 182ms/step - loss: 0.4438 - accuracy: 0.8094 - val_loss: 0.5417 - val_accuracy: 0.7500\n",
      "Epoch 119/200\n",
      "10/10 [==============================] - 2s 159ms/step - loss: 0.4090 - accuracy: 0.8344 - val_loss: 0.5748 - val_accuracy: 0.7500\n",
      "Epoch 120/200\n",
      "10/10 [==============================] - 2s 178ms/step - loss: 0.4301 - accuracy: 0.7981 - val_loss: 0.5778 - val_accuracy: 0.7969\n",
      "Epoch 121/200\n",
      "10/10 [==============================] - 2s 168ms/step - loss: 0.4361 - accuracy: 0.8107 - val_loss: 0.6877 - val_accuracy: 0.7812\n",
      "Epoch 122/200\n",
      "10/10 [==============================] - 2s 164ms/step - loss: 0.4121 - accuracy: 0.8344 - val_loss: 0.5777 - val_accuracy: 0.7500\n",
      "Epoch 123/200\n",
      "10/10 [==============================] - 1s 145ms/step - loss: 0.4132 - accuracy: 0.8156 - val_loss: 0.4906 - val_accuracy: 0.7969\n",
      "Epoch 124/200\n",
      "10/10 [==============================] - 2s 150ms/step - loss: 0.4620 - accuracy: 0.7886 - val_loss: 0.3992 - val_accuracy: 0.8281\n",
      "Epoch 125/200\n",
      "10/10 [==============================] - 1s 137ms/step - loss: 0.4118 - accuracy: 0.8125 - val_loss: 0.5466 - val_accuracy: 0.7500\n",
      "Epoch 126/200\n",
      "10/10 [==============================] - 1s 140ms/step - loss: 0.4092 - accuracy: 0.8265 - val_loss: 0.5348 - val_accuracy: 0.7656\n",
      "Epoch 127/200\n",
      "10/10 [==============================] - 1s 134ms/step - loss: 0.4460 - accuracy: 0.8031 - val_loss: 0.3625 - val_accuracy: 0.8438\n",
      "Epoch 128/200\n",
      "10/10 [==============================] - 1s 137ms/step - loss: 0.3847 - accuracy: 0.8265 - val_loss: 0.4390 - val_accuracy: 0.7969\n",
      "Epoch 129/200\n",
      "10/10 [==============================] - 1s 148ms/step - loss: 0.3849 - accuracy: 0.8580 - val_loss: 0.6285 - val_accuracy: 0.7344\n",
      "Epoch 130/200\n",
      "10/10 [==============================] - 1s 129ms/step - loss: 0.4056 - accuracy: 0.8406 - val_loss: 0.5523 - val_accuracy: 0.7500\n",
      "Epoch 131/200\n",
      "10/10 [==============================] - 1s 128ms/step - loss: 0.4324 - accuracy: 0.8281 - val_loss: 0.5210 - val_accuracy: 0.7969\n",
      "Epoch 132/200\n",
      "10/10 [==============================] - 1s 127ms/step - loss: 0.4158 - accuracy: 0.8297 - val_loss: 0.6014 - val_accuracy: 0.7656\n",
      "Epoch 133/200\n",
      "10/10 [==============================] - 1s 123ms/step - loss: 0.4128 - accuracy: 0.8281 - val_loss: 0.5183 - val_accuracy: 0.7969\n",
      "Epoch 134/200\n",
      "10/10 [==============================] - 1s 123ms/step - loss: 0.4035 - accuracy: 0.8344 - val_loss: 0.5357 - val_accuracy: 0.7812\n",
      "Epoch 135/200\n",
      "10/10 [==============================] - 1s 125ms/step - loss: 0.4116 - accuracy: 0.8094 - val_loss: 0.5349 - val_accuracy: 0.7969\n",
      "Epoch 136/200\n",
      "10/10 [==============================] - 1s 125ms/step - loss: 0.3858 - accuracy: 0.8594 - val_loss: 0.3666 - val_accuracy: 0.8438\n",
      "Epoch 137/200\n",
      "10/10 [==============================] - 1s 121ms/step - loss: 0.4211 - accuracy: 0.8156 - val_loss: 0.6126 - val_accuracy: 0.7500\n",
      "Epoch 138/200\n",
      "10/10 [==============================] - 1s 123ms/step - loss: 0.4204 - accuracy: 0.8094 - val_loss: 0.4296 - val_accuracy: 0.7812\n",
      "Epoch 139/200\n",
      "10/10 [==============================] - 1s 121ms/step - loss: 0.3779 - accuracy: 0.8375 - val_loss: 0.4675 - val_accuracy: 0.8125\n",
      "Epoch 140/200\n",
      "10/10 [==============================] - 1s 122ms/step - loss: 0.4019 - accuracy: 0.8297 - val_loss: 0.4706 - val_accuracy: 0.8281\n",
      "Epoch 141/200\n",
      "10/10 [==============================] - 1s 124ms/step - loss: 0.3965 - accuracy: 0.8360 - val_loss: 0.5816 - val_accuracy: 0.7344\n",
      "Epoch 142/200\n",
      "10/10 [==============================] - 1s 124ms/step - loss: 0.4215 - accuracy: 0.8062 - val_loss: 0.3636 - val_accuracy: 0.8594\n",
      "Epoch 143/200\n",
      "10/10 [==============================] - 1s 122ms/step - loss: 0.4099 - accuracy: 0.8062 - val_loss: 0.4634 - val_accuracy: 0.7969\n",
      "Epoch 144/200\n",
      "10/10 [==============================] - 1s 129ms/step - loss: 0.3761 - accuracy: 0.8438 - val_loss: 0.4283 - val_accuracy: 0.8281\n",
      "Epoch 145/200\n",
      "10/10 [==============================] - 1s 142ms/step - loss: 0.4171 - accuracy: 0.8313 - val_loss: 0.6064 - val_accuracy: 0.7656\n",
      "Epoch 146/200\n",
      "10/10 [==============================] - 2s 159ms/step - loss: 0.4121 - accuracy: 0.8233 - val_loss: 0.4453 - val_accuracy: 0.8125\n",
      "Epoch 147/200\n",
      "10/10 [==============================] - 1s 138ms/step - loss: 0.3602 - accuracy: 0.8594 - val_loss: 0.5095 - val_accuracy: 0.8438\n",
      "Epoch 148/200\n",
      "10/10 [==============================] - 1s 143ms/step - loss: 0.3844 - accuracy: 0.8360 - val_loss: 0.4819 - val_accuracy: 0.7812\n",
      "Epoch 149/200\n",
      "10/10 [==============================] - 1s 140ms/step - loss: 0.3947 - accuracy: 0.8344 - val_loss: 0.5740 - val_accuracy: 0.7656\n",
      "Epoch 150/200\n",
      "10/10 [==============================] - 1s 136ms/step - loss: 0.4108 - accuracy: 0.8156 - val_loss: 0.3329 - val_accuracy: 0.8594\n",
      "Epoch 151/200\n",
      "10/10 [==============================] - 1s 134ms/step - loss: 0.3979 - accuracy: 0.8391 - val_loss: 0.4997 - val_accuracy: 0.7500\n",
      "Epoch 152/200\n",
      "10/10 [==============================] - 1s 144ms/step - loss: 0.3855 - accuracy: 0.8438 - val_loss: 0.3571 - val_accuracy: 0.8281\n",
      "Epoch 153/200\n",
      "10/10 [==============================] - 1s 143ms/step - loss: 0.3942 - accuracy: 0.8297 - val_loss: 0.7134 - val_accuracy: 0.7031\n",
      "Epoch 154/200\n",
      "10/10 [==============================] - 1s 136ms/step - loss: 0.4321 - accuracy: 0.8062 - val_loss: 0.4745 - val_accuracy: 0.8125\n",
      "Epoch 155/200\n",
      "10/10 [==============================] - 1s 128ms/step - loss: 0.3960 - accuracy: 0.8360 - val_loss: 0.5610 - val_accuracy: 0.7500\n",
      "Epoch 156/200\n",
      "10/10 [==============================] - 2s 165ms/step - loss: 0.3869 - accuracy: 0.8219 - val_loss: 0.6271 - val_accuracy: 0.7344\n",
      "Epoch 157/200\n",
      "10/10 [==============================] - 1s 141ms/step - loss: 0.3621 - accuracy: 0.8549 - val_loss: 0.6633 - val_accuracy: 0.7500\n",
      "Epoch 158/200\n",
      "10/10 [==============================] - 2s 160ms/step - loss: 0.3975 - accuracy: 0.8375 - val_loss: 0.5726 - val_accuracy: 0.7344\n",
      "Epoch 159/200\n",
      "10/10 [==============================] - 2s 156ms/step - loss: 0.4364 - accuracy: 0.8062 - val_loss: 0.4199 - val_accuracy: 0.8438\n",
      "Epoch 160/200\n",
      "10/10 [==============================] - 1s 142ms/step - loss: 0.3993 - accuracy: 0.8328 - val_loss: 0.3607 - val_accuracy: 0.8594\n",
      "Epoch 161/200\n",
      "10/10 [==============================] - 1s 128ms/step - loss: 0.3865 - accuracy: 0.8612 - val_loss: 0.3563 - val_accuracy: 0.8438\n",
      "Epoch 162/200\n",
      "10/10 [==============================] - 1s 131ms/step - loss: 0.3629 - accuracy: 0.8391 - val_loss: 0.5770 - val_accuracy: 0.7812\n",
      "Epoch 163/200\n",
      "10/10 [==============================] - 1s 144ms/step - loss: 0.3762 - accuracy: 0.8375 - val_loss: 0.6304 - val_accuracy: 0.7656\n",
      "Epoch 164/200\n",
      "10/10 [==============================] - 1s 129ms/step - loss: 0.3704 - accuracy: 0.8406 - val_loss: 0.4429 - val_accuracy: 0.8125\n",
      "Epoch 165/200\n",
      "10/10 [==============================] - 1s 130ms/step - loss: 0.4088 - accuracy: 0.8391 - val_loss: 0.6138 - val_accuracy: 0.7500\n",
      "Epoch 166/200\n",
      "10/10 [==============================] - 1s 128ms/step - loss: 0.4002 - accuracy: 0.8250 - val_loss: 0.5598 - val_accuracy: 0.7656\n",
      "Epoch 167/200\n",
      "10/10 [==============================] - 1s 132ms/step - loss: 0.4029 - accuracy: 0.8156 - val_loss: 0.5420 - val_accuracy: 0.7656\n",
      "Epoch 168/200\n",
      "10/10 [==============================] - 1s 134ms/step - loss: 0.4166 - accuracy: 0.8219 - val_loss: 0.7137 - val_accuracy: 0.7188\n",
      "Epoch 169/200\n",
      "10/10 [==============================] - 2s 155ms/step - loss: 0.4071 - accuracy: 0.8297 - val_loss: 0.4320 - val_accuracy: 0.8438\n",
      "Epoch 170/200\n",
      "10/10 [==============================] - 2s 156ms/step - loss: 0.4020 - accuracy: 0.8188 - val_loss: 0.4960 - val_accuracy: 0.7812\n",
      "Epoch 171/200\n"
     ]
    },
    {
     "name": "stdout",
     "output_type": "stream",
     "text": [
      "10/10 [==============================] - 1s 137ms/step - loss: 0.3918 - accuracy: 0.8265 - val_loss: 0.3872 - val_accuracy: 0.8438\n",
      "Epoch 172/200\n",
      "10/10 [==============================] - 1s 131ms/step - loss: 0.3777 - accuracy: 0.8594 - val_loss: 0.4726 - val_accuracy: 0.8125\n",
      "Epoch 173/200\n",
      "10/10 [==============================] - 1s 137ms/step - loss: 0.4033 - accuracy: 0.8313 - val_loss: 0.6119 - val_accuracy: 0.7188\n",
      "Epoch 174/200\n",
      "10/10 [==============================] - 1s 133ms/step - loss: 0.3877 - accuracy: 0.8454 - val_loss: 0.5870 - val_accuracy: 0.8125\n",
      "Epoch 175/200\n",
      "10/10 [==============================] - 1s 137ms/step - loss: 0.4100 - accuracy: 0.8265 - val_loss: 0.6170 - val_accuracy: 0.7188\n",
      "Epoch 176/200\n",
      "10/10 [==============================] - 1s 143ms/step - loss: 0.3657 - accuracy: 0.8517 - val_loss: 0.4408 - val_accuracy: 0.8750\n",
      "Epoch 177/200\n",
      "10/10 [==============================] - 1s 123ms/step - loss: 0.3546 - accuracy: 0.8469 - val_loss: 0.5185 - val_accuracy: 0.7656\n",
      "Epoch 178/200\n",
      "10/10 [==============================] - 1s 123ms/step - loss: 0.4051 - accuracy: 0.8265 - val_loss: 0.4872 - val_accuracy: 0.8281\n",
      "Epoch 179/200\n",
      "10/10 [==============================] - 1s 122ms/step - loss: 0.3719 - accuracy: 0.8500 - val_loss: 0.4859 - val_accuracy: 0.7969\n",
      "Epoch 180/200\n",
      "10/10 [==============================] - 1s 123ms/step - loss: 0.3504 - accuracy: 0.8594 - val_loss: 0.6253 - val_accuracy: 0.7500\n",
      "Epoch 181/200\n",
      "10/10 [==============================] - 1s 122ms/step - loss: 0.4035 - accuracy: 0.8360 - val_loss: 0.4678 - val_accuracy: 0.8125\n",
      "Epoch 182/200\n",
      "10/10 [==============================] - 1s 123ms/step - loss: 0.3719 - accuracy: 0.8250 - val_loss: 0.5989 - val_accuracy: 0.7500\n",
      "Epoch 183/200\n",
      "10/10 [==============================] - 1s 122ms/step - loss: 0.3856 - accuracy: 0.8360 - val_loss: 0.3701 - val_accuracy: 0.8906\n",
      "Epoch 184/200\n",
      "10/10 [==============================] - 1s 122ms/step - loss: 0.3640 - accuracy: 0.8391 - val_loss: 0.3203 - val_accuracy: 0.8594\n",
      "Epoch 185/200\n",
      "10/10 [==============================] - 1s 121ms/step - loss: 0.3378 - accuracy: 0.8770 - val_loss: 0.4548 - val_accuracy: 0.8438\n",
      "Epoch 186/200\n",
      "10/10 [==============================] - 1s 124ms/step - loss: 0.3911 - accuracy: 0.8233 - val_loss: 0.4981 - val_accuracy: 0.8125\n",
      "Epoch 187/200\n",
      "10/10 [==============================] - 1s 125ms/step - loss: 0.3719 - accuracy: 0.8344 - val_loss: 0.5698 - val_accuracy: 0.7969\n",
      "Epoch 188/200\n",
      "10/10 [==============================] - 1s 124ms/step - loss: 0.3585 - accuracy: 0.8656 - val_loss: 0.4648 - val_accuracy: 0.8125\n",
      "Epoch 189/200\n",
      "10/10 [==============================] - 1s 123ms/step - loss: 0.3539 - accuracy: 0.8531 - val_loss: 0.6052 - val_accuracy: 0.7969\n",
      "Epoch 190/200\n",
      "10/10 [==============================] - 1s 122ms/step - loss: 0.3506 - accuracy: 0.8438 - val_loss: 0.5978 - val_accuracy: 0.7812\n",
      "Epoch 191/200\n",
      "10/10 [==============================] - 1s 122ms/step - loss: 0.3270 - accuracy: 0.8625 - val_loss: 0.5961 - val_accuracy: 0.7188\n",
      "Epoch 192/200\n",
      "10/10 [==============================] - 1s 124ms/step - loss: 0.3759 - accuracy: 0.8594 - val_loss: 0.4984 - val_accuracy: 0.7812\n",
      "Epoch 193/200\n",
      "10/10 [==============================] - 1s 124ms/step - loss: 0.3943 - accuracy: 0.8391 - val_loss: 0.5219 - val_accuracy: 0.8125\n",
      "Epoch 194/200\n",
      "10/10 [==============================] - 1s 128ms/step - loss: 0.3897 - accuracy: 0.8438 - val_loss: 0.5870 - val_accuracy: 0.7656\n",
      "Epoch 195/200\n",
      "10/10 [==============================] - 1s 147ms/step - loss: 0.3872 - accuracy: 0.8531 - val_loss: 0.4631 - val_accuracy: 0.8125\n",
      "Epoch 196/200\n",
      "10/10 [==============================] - 1s 137ms/step - loss: 0.3507 - accuracy: 0.8500 - val_loss: 0.4924 - val_accuracy: 0.7812\n",
      "Epoch 197/200\n",
      "10/10 [==============================] - 2s 157ms/step - loss: 0.3868 - accuracy: 0.8313 - val_loss: 0.5748 - val_accuracy: 0.7969\n",
      "Epoch 198/200\n",
      "10/10 [==============================] - 2s 146ms/step - loss: 0.3896 - accuracy: 0.8500 - val_loss: 0.4808 - val_accuracy: 0.7969\n",
      "Epoch 199/200\n",
      "10/10 [==============================] - 1s 135ms/step - loss: 0.3592 - accuracy: 0.8500 - val_loss: 0.5788 - val_accuracy: 0.7812\n",
      "Epoch 200/200\n",
      "10/10 [==============================] - 1s 145ms/step - loss: 0.3752 - accuracy: 0.8580 - val_loss: 0.5214 - val_accuracy: 0.7344\n"
     ]
    }
   ],
   "source": [
    "model = Sequential()\n",
    "\n",
    "model.add(Conv2D(64, (3, 3), input_shape=input_shape))\n",
    "model.add(Activation('relu'))\n",
    "model.add(MaxPooling2D(pool_size=(2, 2)))\n",
    "\n",
    "model.add(Conv2D(128, (3, 3)))\n",
    "model.add(Activation('relu'))\n",
    "model.add(MaxPooling2D(pool_size=(2, 2)))\n",
    "\n",
    "model.add(Flatten())\n",
    "\n",
    "model.add(Dense(128))\n",
    "model.add(Activation('relu'))\n",
    "model.add(Dense(1))\n",
    "model.add(Activation('sigmoid'))\n",
    "\n",
    "import tensorflow as tf\n",
    "from tensorflow import keras\n",
    "from keras import optimizers\n",
    "model.compile(loss='binary_crossentropy', \n",
    "              optimizer=keras.optimizers.Adam(lr=.0001),\n",
    "              metrics=['accuracy'])\n",
    "\n",
    "hist = model.fit_generator(train_generator,steps_per_epoch=10,epochs=200,validation_data=validation_generator,validation_steps=2)"
   ]
  },
  {
   "cell_type": "code",
   "execution_count": 10,
   "id": "4a16c26f",
   "metadata": {},
   "outputs": [
    {
     "data": {
      "image/png": "[encoded data removed]",
      "text/plain": [
       "<Figure size 432x288 with 1 Axes>"
      ]
     },
     "metadata": {
      "needs_background": "light"
     },
     "output_type": "display_data"
    },
    {
     "data": {
      "image/png": "[encoded data removed]",
      "text/plain": [
       "<Figure size 432x288 with 1 Axes>"
      ]
     },
     "metadata": {
      "needs_background": "light"
     },
     "output_type": "display_data"
    }
   ],
   "source": [
    "plt.plot(hist.history['accuracy'])\n",
    "plt.plot(hist.history['val_accuracy'])\n",
    "plt.title('Model accuracy')\n",
    "plt.ylabel('Accuracy')\n",
    "plt.xlabel('Epoch')\n",
    "plt.legend(['Train', 'Val'], loc='upper left')\n",
    "plt.show()\n",
    "\n",
    "plt.plot(hist.history['loss'])\n",
    "plt.plot(hist.history['val_loss'])\n",
    "plt.title('Model loss')\n",
    "plt.ylabel('Loss')\n",
    "plt.xlabel('Epoch')\n",
    "plt.legend(['Train', 'Val'], loc='upper right')\n",
    "plt.show()"
   ]
  },
  {
   "cell_type": "code",
   "execution_count": 11,
   "id": "d03cf525",
   "metadata": {},
   "outputs": [],
   "source": [
    "create_directory('mixed')"
   ]
  },
  {
   "cell_type": "code",
   "execution_count": 12,
   "id": "2543bbb3",
   "metadata": {},
   "outputs": [
    {
     "name": "stdout",
     "output_type": "stream",
     "text": [
      "Mixed_grain/image_4.jpg\n"
     ]
    }
   ],
   "source": [
    "mixed = input()"
   ]
  },
  {
   "cell_type": "code",
   "execution_count": 13,
   "id": "fc1ddfe6",
   "metadata": {},
   "outputs": [
    {
     "name": "stdout",
     "output_type": "stream",
     "text": [
      "Number of detected contours 663\n"
     ]
    }
   ],
   "source": [
    "pre_process_And_Count(mixed, 'mixed/mixed_')"
   ]
  },
  {
   "cell_type": "code",
   "execution_count": 14,
   "id": "fee29a49",
   "metadata": {},
   "outputs": [],
   "source": [
    "import os\n",
    "from os import listdir\n",
    "from os.path import isfile, join"
   ]
  },
  {
   "cell_type": "code",
   "execution_count": 15,
   "id": "d920b7b0",
   "metadata": {},
   "outputs": [
    {
     "name": "stderr",
     "output_type": "stream",
     "text": [
      "C:\\Users\\LAZ\\AppData\\Roaming\\Python\\Python39\\site-packages\\keras_preprocessing\\image\\utils.py:107: UserWarning: grayscale is deprecated. Please use color_mode = \"grayscale\"\n",
      "  warnings.warn('grayscale is deprecated. Please use '\n"
     ]
    },
    {
     "name": "stdout",
     "output_type": "stream",
     "text": [
      "Total full : 408\n",
      "Total broken : 255\n"
     ]
    }
   ],
   "source": [
    "import os\n",
    "from os import listdir\n",
    "from os.path import isfile, join\n",
    "\n",
    "predict_dir_path='mixed/'\n",
    "onlyfiles = [f for f in listdir(predict_dir_path) if isfile(join(predict_dir_path, f))]\n",
    "\n",
    "from keras.preprocessing import image\n",
    "full = 0 \n",
    "broken  = 0\n",
    "for file in onlyfiles:\n",
    "    img = image.load_img(predict_dir_path+'/'+file, target_size=(img_width, img_height), grayscale=True)\n",
    "    x = image.img_to_array(img)\n",
    "    x = np.expand_dims(x, axis=0)\n",
    "    \n",
    "    images = np.vstack([x])\n",
    "    classes = model.predict(images, batch_size=32)\n",
    "    classes = classes[0][0]\n",
    "    if classes == 0:\n",
    "        broken += 1\n",
    "    else:\n",
    "        full += 1\n",
    "    \n",
    "print(\"Total full :\",full)\n",
    "print(\"Total broken :\",broken)"
   ]
  },
  {
   "cell_type": "code",
   "execution_count": 16,
   "id": "d4de527d",
   "metadata": {},
   "outputs": [
    {
     "name": "stdout",
     "output_type": "stream",
     "text": [
      "Total rice grains- 663\n"
     ]
    }
   ],
   "source": [
    "print(\"Total rice grains-\", (broken+full))"
   ]
  }
 ],
 "metadata": {
  "kernelspec": {
   "display_name": "Python 3 (ipykernel)",
   "language": "python",
   "name": "python3"
  },
  "language_info": {
   "codemirror_mode": {
    "name": "ipython",
    "version": 3
   },
   "file_extension": ".py",
   "mimetype": "text/x-python",
   "name": "python",
   "nbconvert_exporter": "python",
   "pygments_lexer": "ipython3",
   "version": "3.9.7"
  }
 },
 "nbformat": 4,
 "nbformat_minor": 5
}
